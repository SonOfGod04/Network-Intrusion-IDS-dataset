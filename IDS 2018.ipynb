{
 "cells": [
  {
   "cell_type": "markdown",
   "id": "f0eb3f9c",
   "metadata": {},
   "source": [
    "## IDS 2018 Dataset\n",
    "\n",
    "The IDS2018 dataset stands as a significant resource in the realm of network intrusion detection. Crafted for the purpose of advancing intrusion detection systems (IDS), it has become a pivotal component in the study of network security. IDS2018 captures a wide spectrum of network traffic data, spanning both benign and malicious activities. With its diverse network protocols, connection types, and predefined intrusion classes, it provides a realistic and complex environment for analysis and model development. This dataset has gained prominence in research, benchmarking, and educational contexts, solidifying its role in enhancing network security."
   ]
  },
  {
   "cell_type": "markdown",
   "id": "cf1e96c3",
   "metadata": {},
   "source": [
    "## Table of contents:\n",
    "\n",
    "1. [Importing libraries](#Libraries)\n",
    "2. [Loading data](#Data)\n",
    "3. [Statistical summaries](#Statistics)\n",
    "4. [Exploratory Data Analysis](#EDA)\n",
    "5. [Preprocess dataset](#Preprocess)\n",
    "6. [Model Building](#Modelling)"
   ]
  },
  {
   "cell_type": "markdown",
   "id": "ff2387ce",
   "metadata": {
    "_cell_guid": "b1076dfc-b9ad-4769-8c92-a6c4dae69d19",
    "_uuid": "8f2839f25d086af736a60e9eeb907d3b93b6e0e5",
    "execution": {
     "iopub.execute_input": "2022-12-09T13:10:03.948681Z",
     "iopub.status.busy": "2022-12-09T13:10:03.948204Z",
     "iopub.status.idle": "2022-12-09T13:10:03.978004Z",
     "shell.execute_reply": "2022-12-09T13:10:03.976557Z"
    },
    "papermill": {
     "duration": 0.041986,
     "end_time": "2022-12-09T13:10:03.980518",
     "exception": false,
     "start_time": "2022-12-09T13:10:03.938532",
     "status": "completed"
    },
    "tags": []
   },
   "source": [
    "<a name=\"Libraries\"></a>\n",
    "## 1. Importing libraries"
   ]
  },
  {
   "cell_type": "code",
   "execution_count": 7,
   "id": "5470e3b0",
   "metadata": {},
   "outputs": [],
   "source": [
    "import os\n",
    "import warnings\n",
    "import numpy as np\n",
    "%matplotlib inline\n",
    "import pandas as pd\n",
    "import seaborn as sns\n",
    "import xgboost as xgb\n",
    "from sklearn import svm\n",
    "import tensorflow as tf\n",
    "from sklearn import tree\n",
    "from sklearn import metrics\n",
    "import matplotlib.pyplot as plt\n",
    "warnings.filterwarnings('ignore')\n",
    "from sklearn.svm import SVC, LinearSVC\n",
    "pd.set_option('display.max_columns',None)\n",
    "from tensorflow.keras import regularizers\n",
    "from sklearn.naive_bayes import GaussianNB\n",
    "from sklearn.preprocessing import RobustScaler\n",
    "from sklearn.tree import DecisionTreeClassifier\n",
    "from sklearn.metrics import ConfusionMatrixDisplay\n",
    "from sklearn.neighbors import KNeighborsClassifier\n",
    "from sklearn.linear_model import LogisticRegression\n",
    "from sklearn.model_selection import train_test_split\n",
    "from sklearn.calibration import CalibratedClassifierCV\n",
    "from sklearn.metrics import accuracy_score, precision_score\n",
    "from sklearn.preprocessing import LabelEncoder, StandardScaler\n",
    "from sklearn.ensemble import RandomForestClassifier, RandomForestRegressor,BaggingClassifier, VotingClassifier"
   ]
  },
  {
   "cell_type": "code",
   "execution_count": 14,
   "id": "b6230eb9",
   "metadata": {},
   "outputs": [
    {
     "name": "stdout",
     "output_type": "stream",
     "text": [
      "\n",
      "Note: you may need to restart the kernel to use updated packages.\n"
     ]
    },
    {
     "name": "stderr",
     "output_type": "stream",
     "text": [
      "\n",
      "EnvironmentLocationNotFound: Not a conda environment: C:\\Users\\ADMIN\\anaconda3_new\\envs\\py34\n",
      "\n"
     ]
    }
   ],
   "source": [
    "conda install -n py34 cx_freeze"
   ]
  },
  {
   "cell_type": "code",
   "execution_count": 12,
   "id": "68fbdf95",
   "metadata": {},
   "outputs": [
    {
     "ename": "ImportError",
     "evalue": "cannot import name 'AutoModel' from 'transformers' (C:\\Users\\ADMIN\\anaconda3_new\\Lib\\site-packages\\transformers\\__init__.py)",
     "output_type": "error",
     "traceback": [
      "\u001b[1;31m---------------------------------------------------------------------------\u001b[0m",
      "\u001b[1;31mImportError\u001b[0m                               Traceback (most recent call last)",
      "Cell \u001b[1;32mIn[12], line 1\u001b[0m\n\u001b[1;32m----> 1\u001b[0m \u001b[38;5;28;01mfrom\u001b[39;00m \u001b[38;5;21;01mtransformers\u001b[39;00m \u001b[38;5;28;01mimport\u001b[39;00m AutoModel\n",
      "\u001b[1;31mImportError\u001b[0m: cannot import name 'AutoModel' from 'transformers' (C:\\Users\\ADMIN\\anaconda3_new\\Lib\\site-packages\\transformers\\__init__.py)"
     ]
    }
   ],
   "source": [
    "from transformers import AutoModel"
   ]
  },
  {
   "cell_type": "markdown",
   "id": "43b423d6",
   "metadata": {},
   "source": [
    "<a name=\"Data\"></a>\n",
    "## 2. Loading data"
   ]
  },
  {
   "cell_type": "code",
   "execution_count": 1,
   "id": "4f6df06f",
   "metadata": {},
   "outputs": [
    {
     "ename": "NameError",
     "evalue": "name 'pd' is not defined",
     "output_type": "error",
     "traceback": [
      "\u001b[1;31m---------------------------------------------------------------------------\u001b[0m",
      "\u001b[1;31mNameError\u001b[0m                                 Traceback (most recent call last)",
      "Cell \u001b[1;32mIn[1], line 1\u001b[0m\n\u001b[1;32m----> 1\u001b[0m df_train\u001b[38;5;241m=\u001b[39m pd\u001b[38;5;241m.\u001b[39mread_csv(\u001b[38;5;124mr\u001b[39m\u001b[38;5;124m'\u001b[39m\u001b[38;5;124mC:\u001b[39m\u001b[38;5;124m\\\u001b[39m\u001b[38;5;124mUsers\u001b[39m\u001b[38;5;124m\\\u001b[39m\u001b[38;5;124mADMIN\u001b[39m\u001b[38;5;124m\\\u001b[39m\u001b[38;5;124mDocuments\u001b[39m\u001b[38;5;124m\\\u001b[39m\u001b[38;5;124mNetworkdetection\u001b[39m\u001b[38;5;124m\\\u001b[39m\u001b[38;5;124mids2018\u001b[39m\u001b[38;5;124m\\\u001b[39m\u001b[38;5;124mcleaned_ids2018_sampled.csv\u001b[39m\u001b[38;5;124m'\u001b[39m)\n",
      "\u001b[1;31mNameError\u001b[0m: name 'pd' is not defined"
     ]
    }
   ],
   "source": [
    "df_train= pd.read_csv(r'C:\\Users\\ADMIN\\Documents\\Networkdetection\\ids2018\\cleaned_ids2018_sampled.csv')"
   ]
  },
  {
   "cell_type": "code",
   "execution_count": 3,
   "id": "7bb757e3",
   "metadata": {},
   "outputs": [
    {
     "data": {
      "text/html": [
       "<div>\n",
       "<style scoped>\n",
       "    .dataframe tbody tr th:only-of-type {\n",
       "        vertical-align: middle;\n",
       "    }\n",
       "\n",
       "    .dataframe tbody tr th {\n",
       "        vertical-align: top;\n",
       "    }\n",
       "\n",
       "    .dataframe thead th {\n",
       "        text-align: right;\n",
       "    }\n",
       "</style>\n",
       "<table border=\"1\" class=\"dataframe\">\n",
       "  <thead>\n",
       "    <tr style=\"text-align: right;\">\n",
       "      <th></th>\n",
       "      <th>Unnamed: 0</th>\n",
       "      <th>Dst Port</th>\n",
       "      <th>Protocol</th>\n",
       "      <th>Flow Duration</th>\n",
       "      <th>Tot Fwd Pkts</th>\n",
       "      <th>Tot Bwd Pkts</th>\n",
       "      <th>TotLen Fwd Pkts</th>\n",
       "      <th>TotLen Bwd Pkts</th>\n",
       "      <th>Fwd Pkt Len Max</th>\n",
       "      <th>Fwd Pkt Len Min</th>\n",
       "      <th>Fwd Pkt Len Mean</th>\n",
       "      <th>Fwd Pkt Len Std</th>\n",
       "      <th>Bwd Pkt Len Max</th>\n",
       "      <th>Bwd Pkt Len Min</th>\n",
       "      <th>Bwd Pkt Len Mean</th>\n",
       "      <th>Bwd Pkt Len Std</th>\n",
       "      <th>Flow Byts/s</th>\n",
       "      <th>Flow Pkts/s</th>\n",
       "      <th>Flow IAT Mean</th>\n",
       "      <th>Flow IAT Std</th>\n",
       "      <th>Flow IAT Max</th>\n",
       "      <th>Flow IAT Min</th>\n",
       "      <th>Fwd IAT Tot</th>\n",
       "      <th>Fwd IAT Mean</th>\n",
       "      <th>Fwd IAT Std</th>\n",
       "      <th>Fwd IAT Max</th>\n",
       "      <th>Fwd IAT Min</th>\n",
       "      <th>Bwd IAT Tot</th>\n",
       "      <th>Bwd IAT Mean</th>\n",
       "      <th>Bwd IAT Std</th>\n",
       "      <th>Bwd IAT Max</th>\n",
       "      <th>Bwd IAT Min</th>\n",
       "      <th>Fwd PSH Flags</th>\n",
       "      <th>Bwd PSH Flags</th>\n",
       "      <th>Fwd URG Flags</th>\n",
       "      <th>Bwd URG Flags</th>\n",
       "      <th>Fwd Header Len</th>\n",
       "      <th>Bwd Header Len</th>\n",
       "      <th>Fwd Pkts/s</th>\n",
       "      <th>Bwd Pkts/s</th>\n",
       "      <th>Pkt Len Min</th>\n",
       "      <th>Pkt Len Max</th>\n",
       "      <th>Pkt Len Mean</th>\n",
       "      <th>Pkt Len Std</th>\n",
       "      <th>Pkt Len Var</th>\n",
       "      <th>FIN Flag Cnt</th>\n",
       "      <th>SYN Flag Cnt</th>\n",
       "      <th>RST Flag Cnt</th>\n",
       "      <th>PSH Flag Cnt</th>\n",
       "      <th>ACK Flag Cnt</th>\n",
       "      <th>URG Flag Cnt</th>\n",
       "      <th>CWE Flag Count</th>\n",
       "      <th>ECE Flag Cnt</th>\n",
       "      <th>Pkt Size Avg</th>\n",
       "      <th>Fwd Seg Size Avg</th>\n",
       "      <th>Bwd Seg Size Avg</th>\n",
       "      <th>Fwd Byts/b Avg</th>\n",
       "      <th>Fwd Pkts/b Avg</th>\n",
       "      <th>Fwd Blk Rate Avg</th>\n",
       "      <th>Bwd Byts/b Avg</th>\n",
       "      <th>Bwd Pkts/b Avg</th>\n",
       "      <th>Bwd Blk Rate Avg</th>\n",
       "      <th>Subflow Fwd Pkts</th>\n",
       "      <th>Subflow Fwd Byts</th>\n",
       "      <th>Subflow Bwd Pkts</th>\n",
       "      <th>Subflow Bwd Byts</th>\n",
       "      <th>Init Fwd Win Byts</th>\n",
       "      <th>Init Bwd Win Byts</th>\n",
       "      <th>Fwd Act Data Pkts</th>\n",
       "      <th>Fwd Seg Size Min</th>\n",
       "      <th>Active Mean</th>\n",
       "      <th>Active Std</th>\n",
       "      <th>Active Max</th>\n",
       "      <th>Active Min</th>\n",
       "      <th>Idle Mean</th>\n",
       "      <th>Idle Std</th>\n",
       "      <th>Idle Max</th>\n",
       "      <th>Idle Min</th>\n",
       "      <th>Label</th>\n",
       "    </tr>\n",
       "  </thead>\n",
       "  <tbody>\n",
       "    <tr>\n",
       "      <th>0</th>\n",
       "      <td>146275</td>\n",
       "      <td>3389</td>\n",
       "      <td>6</td>\n",
       "      <td>5206015</td>\n",
       "      <td>9</td>\n",
       "      <td>11</td>\n",
       "      <td>1213</td>\n",
       "      <td>1948</td>\n",
       "      <td>661</td>\n",
       "      <td>0</td>\n",
       "      <td>134.777778</td>\n",
       "      <td>209.079995</td>\n",
       "      <td>1173</td>\n",
       "      <td>0</td>\n",
       "      <td>177.090909</td>\n",
       "      <td>347.937194</td>\n",
       "      <td>607.182269</td>\n",
       "      <td>3.841710</td>\n",
       "      <td>2.740008e+05</td>\n",
       "      <td>4.873823e+05</td>\n",
       "      <td>1906221</td>\n",
       "      <td>54</td>\n",
       "      <td>5206015</td>\n",
       "      <td>650751.9</td>\n",
       "      <td>1.367797e+06</td>\n",
       "      <td>4024698</td>\n",
       "      <td>186</td>\n",
       "      <td>5043065</td>\n",
       "      <td>5.043065e+05</td>\n",
       "      <td>5.916400e+05</td>\n",
       "      <td>1906221</td>\n",
       "      <td>46378</td>\n",
       "      <td>0</td>\n",
       "      <td>0</td>\n",
       "      <td>0</td>\n",
       "      <td>0</td>\n",
       "      <td>192</td>\n",
       "      <td>244</td>\n",
       "      <td>1.728770</td>\n",
       "      <td>2.112941</td>\n",
       "      <td>0</td>\n",
       "      <td>1173</td>\n",
       "      <td>150.523810</td>\n",
       "      <td>282.220768</td>\n",
       "      <td>79648.561905</td>\n",
       "      <td>0</td>\n",
       "      <td>0</td>\n",
       "      <td>1</td>\n",
       "      <td>1</td>\n",
       "      <td>0</td>\n",
       "      <td>0</td>\n",
       "      <td>0</td>\n",
       "      <td>1</td>\n",
       "      <td>158.05000</td>\n",
       "      <td>134.77777</td>\n",
       "      <td>177.09091</td>\n",
       "      <td>0</td>\n",
       "      <td>0</td>\n",
       "      <td>0</td>\n",
       "      <td>0</td>\n",
       "      <td>0</td>\n",
       "      <td>0</td>\n",
       "      <td>9</td>\n",
       "      <td>1213</td>\n",
       "      <td>11</td>\n",
       "      <td>1948</td>\n",
       "      <td>8192</td>\n",
       "      <td>62872</td>\n",
       "      <td>6</td>\n",
       "      <td>20</td>\n",
       "      <td>0.000000</td>\n",
       "      <td>0.000000</td>\n",
       "      <td>0</td>\n",
       "      <td>0</td>\n",
       "      <td>0.000000e+00</td>\n",
       "      <td>0.000000e+00</td>\n",
       "      <td>0</td>\n",
       "      <td>0</td>\n",
       "      <td>1</td>\n",
       "    </tr>\n",
       "    <tr>\n",
       "      <th>1</th>\n",
       "      <td>512109</td>\n",
       "      <td>443</td>\n",
       "      <td>6</td>\n",
       "      <td>60991608</td>\n",
       "      <td>14</td>\n",
       "      <td>14</td>\n",
       "      <td>1211</td>\n",
       "      <td>3396</td>\n",
       "      <td>875</td>\n",
       "      <td>0</td>\n",
       "      <td>86.500000</td>\n",
       "      <td>235.073066</td>\n",
       "      <td>1460</td>\n",
       "      <td>0</td>\n",
       "      <td>242.571429</td>\n",
       "      <td>520.660485</td>\n",
       "      <td>75.534982</td>\n",
       "      <td>0.459080</td>\n",
       "      <td>2.258948e+06</td>\n",
       "      <td>4.218116e+06</td>\n",
       "      <td>10009249</td>\n",
       "      <td>1</td>\n",
       "      <td>60991608</td>\n",
       "      <td>4691662.0</td>\n",
       "      <td>5.173112e+06</td>\n",
       "      <td>10077768</td>\n",
       "      <td>265</td>\n",
       "      <td>60922977</td>\n",
       "      <td>4.686383e+06</td>\n",
       "      <td>5.195334e+06</td>\n",
       "      <td>10080219</td>\n",
       "      <td>1</td>\n",
       "      <td>0</td>\n",
       "      <td>0</td>\n",
       "      <td>0</td>\n",
       "      <td>0</td>\n",
       "      <td>292</td>\n",
       "      <td>364</td>\n",
       "      <td>0.229540</td>\n",
       "      <td>0.229540</td>\n",
       "      <td>0</td>\n",
       "      <td>1460</td>\n",
       "      <td>158.862069</td>\n",
       "      <td>398.172318</td>\n",
       "      <td>158541.194581</td>\n",
       "      <td>0</td>\n",
       "      <td>0</td>\n",
       "      <td>0</td>\n",
       "      <td>1</td>\n",
       "      <td>0</td>\n",
       "      <td>0</td>\n",
       "      <td>0</td>\n",
       "      <td>0</td>\n",
       "      <td>164.53572</td>\n",
       "      <td>86.50000</td>\n",
       "      <td>242.57143</td>\n",
       "      <td>0</td>\n",
       "      <td>0</td>\n",
       "      <td>0</td>\n",
       "      <td>0</td>\n",
       "      <td>0</td>\n",
       "      <td>0</td>\n",
       "      <td>14</td>\n",
       "      <td>1211</td>\n",
       "      <td>14</td>\n",
       "      <td>3396</td>\n",
       "      <td>8192</td>\n",
       "      <td>117</td>\n",
       "      <td>9</td>\n",
       "      <td>20</td>\n",
       "      <td>116504.666667</td>\n",
       "      <td>117401.762867</td>\n",
       "      <td>356150</td>\n",
       "      <td>68519</td>\n",
       "      <td>1.000239e+07</td>\n",
       "      <td>1.665183e+04</td>\n",
       "      <td>10009249</td>\n",
       "      <td>9968397</td>\n",
       "      <td>1</td>\n",
       "    </tr>\n",
       "    <tr>\n",
       "      <th>2</th>\n",
       "      <td>807703</td>\n",
       "      <td>53</td>\n",
       "      <td>17</td>\n",
       "      <td>27292</td>\n",
       "      <td>1</td>\n",
       "      <td>1</td>\n",
       "      <td>45</td>\n",
       "      <td>163</td>\n",
       "      <td>45</td>\n",
       "      <td>45</td>\n",
       "      <td>45.000000</td>\n",
       "      <td>0.000000</td>\n",
       "      <td>163</td>\n",
       "      <td>163</td>\n",
       "      <td>163.000000</td>\n",
       "      <td>0.000000</td>\n",
       "      <td>7621.280961</td>\n",
       "      <td>73.281548</td>\n",
       "      <td>2.729200e+04</td>\n",
       "      <td>0.000000e+00</td>\n",
       "      <td>27292</td>\n",
       "      <td>27292</td>\n",
       "      <td>0</td>\n",
       "      <td>0.0</td>\n",
       "      <td>0.000000e+00</td>\n",
       "      <td>0</td>\n",
       "      <td>0</td>\n",
       "      <td>0</td>\n",
       "      <td>0.000000e+00</td>\n",
       "      <td>0.000000e+00</td>\n",
       "      <td>0</td>\n",
       "      <td>0</td>\n",
       "      <td>0</td>\n",
       "      <td>0</td>\n",
       "      <td>0</td>\n",
       "      <td>0</td>\n",
       "      <td>8</td>\n",
       "      <td>8</td>\n",
       "      <td>36.640774</td>\n",
       "      <td>36.640774</td>\n",
       "      <td>45</td>\n",
       "      <td>163</td>\n",
       "      <td>84.333333</td>\n",
       "      <td>68.127332</td>\n",
       "      <td>4641.333333</td>\n",
       "      <td>0</td>\n",
       "      <td>0</td>\n",
       "      <td>0</td>\n",
       "      <td>0</td>\n",
       "      <td>0</td>\n",
       "      <td>0</td>\n",
       "      <td>0</td>\n",
       "      <td>0</td>\n",
       "      <td>126.50000</td>\n",
       "      <td>45.00000</td>\n",
       "      <td>163.00000</td>\n",
       "      <td>0</td>\n",
       "      <td>0</td>\n",
       "      <td>0</td>\n",
       "      <td>0</td>\n",
       "      <td>0</td>\n",
       "      <td>0</td>\n",
       "      <td>1</td>\n",
       "      <td>45</td>\n",
       "      <td>1</td>\n",
       "      <td>163</td>\n",
       "      <td>-1</td>\n",
       "      <td>-1</td>\n",
       "      <td>0</td>\n",
       "      <td>8</td>\n",
       "      <td>0.000000</td>\n",
       "      <td>0.000000</td>\n",
       "      <td>0</td>\n",
       "      <td>0</td>\n",
       "      <td>0.000000e+00</td>\n",
       "      <td>0.000000e+00</td>\n",
       "      <td>0</td>\n",
       "      <td>0</td>\n",
       "      <td>1</td>\n",
       "    </tr>\n",
       "    <tr>\n",
       "      <th>3</th>\n",
       "      <td>491912</td>\n",
       "      <td>443</td>\n",
       "      <td>6</td>\n",
       "      <td>70343424</td>\n",
       "      <td>17</td>\n",
       "      <td>20</td>\n",
       "      <td>1118</td>\n",
       "      <td>5653</td>\n",
       "      <td>258</td>\n",
       "      <td>0</td>\n",
       "      <td>65.764706</td>\n",
       "      <td>88.989837</td>\n",
       "      <td>1430</td>\n",
       "      <td>0</td>\n",
       "      <td>282.650000</td>\n",
       "      <td>445.753682</td>\n",
       "      <td>96.256332</td>\n",
       "      <td>0.525991</td>\n",
       "      <td>1.953984e+06</td>\n",
       "      <td>9.874980e+06</td>\n",
       "      <td>58654921</td>\n",
       "      <td>8</td>\n",
       "      <td>70343424</td>\n",
       "      <td>4396464.0</td>\n",
       "      <td>1.474216e+07</td>\n",
       "      <td>58790474</td>\n",
       "      <td>142</td>\n",
       "      <td>70195940</td>\n",
       "      <td>3.694523e+06</td>\n",
       "      <td>1.354913e+07</td>\n",
       "      <td>58750691</td>\n",
       "      <td>13</td>\n",
       "      <td>0</td>\n",
       "      <td>0</td>\n",
       "      <td>0</td>\n",
       "      <td>0</td>\n",
       "      <td>352</td>\n",
       "      <td>412</td>\n",
       "      <td>0.241671</td>\n",
       "      <td>0.284319</td>\n",
       "      <td>0</td>\n",
       "      <td>1430</td>\n",
       "      <td>178.184211</td>\n",
       "      <td>343.542661</td>\n",
       "      <td>118021.559744</td>\n",
       "      <td>0</td>\n",
       "      <td>0</td>\n",
       "      <td>0</td>\n",
       "      <td>1</td>\n",
       "      <td>0</td>\n",
       "      <td>0</td>\n",
       "      <td>0</td>\n",
       "      <td>0</td>\n",
       "      <td>183.00000</td>\n",
       "      <td>65.76471</td>\n",
       "      <td>282.65000</td>\n",
       "      <td>0</td>\n",
       "      <td>0</td>\n",
       "      <td>0</td>\n",
       "      <td>0</td>\n",
       "      <td>0</td>\n",
       "      <td>0</td>\n",
       "      <td>17</td>\n",
       "      <td>1118</td>\n",
       "      <td>20</td>\n",
       "      <td>5653</td>\n",
       "      <td>8192</td>\n",
       "      <td>184</td>\n",
       "      <td>9</td>\n",
       "      <td>20</td>\n",
       "      <td>527683.500000</td>\n",
       "      <td>386311.526445</td>\n",
       "      <td>800847</td>\n",
       "      <td>254520</td>\n",
       "      <td>3.457024e+07</td>\n",
       "      <td>3.406089e+07</td>\n",
       "      <td>58654921</td>\n",
       "      <td>10485549</td>\n",
       "      <td>1</td>\n",
       "    </tr>\n",
       "    <tr>\n",
       "      <th>4</th>\n",
       "      <td>858679</td>\n",
       "      <td>53</td>\n",
       "      <td>17</td>\n",
       "      <td>137267</td>\n",
       "      <td>2</td>\n",
       "      <td>2</td>\n",
       "      <td>94</td>\n",
       "      <td>214</td>\n",
       "      <td>47</td>\n",
       "      <td>47</td>\n",
       "      <td>47.000000</td>\n",
       "      <td>0.000000</td>\n",
       "      <td>107</td>\n",
       "      <td>107</td>\n",
       "      <td>107.000000</td>\n",
       "      <td>0.000000</td>\n",
       "      <td>2243.802225</td>\n",
       "      <td>29.140289</td>\n",
       "      <td>4.575567e+04</td>\n",
       "      <td>4.240885e+04</td>\n",
       "      <td>84190</td>\n",
       "      <td>259</td>\n",
       "      <td>137008</td>\n",
       "      <td>137008.0</td>\n",
       "      <td>0.000000e+00</td>\n",
       "      <td>137008</td>\n",
       "      <td>137008</td>\n",
       "      <td>84449</td>\n",
       "      <td>8.444900e+04</td>\n",
       "      <td>0.000000e+00</td>\n",
       "      <td>84449</td>\n",
       "      <td>84449</td>\n",
       "      <td>0</td>\n",
       "      <td>0</td>\n",
       "      <td>0</td>\n",
       "      <td>0</td>\n",
       "      <td>16</td>\n",
       "      <td>16</td>\n",
       "      <td>14.570144</td>\n",
       "      <td>14.570144</td>\n",
       "      <td>47</td>\n",
       "      <td>107</td>\n",
       "      <td>71.000000</td>\n",
       "      <td>32.863353</td>\n",
       "      <td>1080.000000</td>\n",
       "      <td>0</td>\n",
       "      <td>0</td>\n",
       "      <td>0</td>\n",
       "      <td>0</td>\n",
       "      <td>0</td>\n",
       "      <td>0</td>\n",
       "      <td>0</td>\n",
       "      <td>0</td>\n",
       "      <td>88.75000</td>\n",
       "      <td>47.00000</td>\n",
       "      <td>107.00000</td>\n",
       "      <td>0</td>\n",
       "      <td>0</td>\n",
       "      <td>0</td>\n",
       "      <td>0</td>\n",
       "      <td>0</td>\n",
       "      <td>0</td>\n",
       "      <td>2</td>\n",
       "      <td>94</td>\n",
       "      <td>2</td>\n",
       "      <td>214</td>\n",
       "      <td>-1</td>\n",
       "      <td>-1</td>\n",
       "      <td>1</td>\n",
       "      <td>8</td>\n",
       "      <td>0.000000</td>\n",
       "      <td>0.000000</td>\n",
       "      <td>0</td>\n",
       "      <td>0</td>\n",
       "      <td>0.000000e+00</td>\n",
       "      <td>0.000000e+00</td>\n",
       "      <td>0</td>\n",
       "      <td>0</td>\n",
       "      <td>1</td>\n",
       "    </tr>\n",
       "  </tbody>\n",
       "</table>\n",
       "</div>"
      ],
      "text/plain": [
       "   Unnamed: 0  Dst Port  Protocol  Flow Duration  Tot Fwd Pkts  Tot Bwd Pkts  \\\n",
       "0      146275      3389         6        5206015             9            11   \n",
       "1      512109       443         6       60991608            14            14   \n",
       "2      807703        53        17          27292             1             1   \n",
       "3      491912       443         6       70343424            17            20   \n",
       "4      858679        53        17         137267             2             2   \n",
       "\n",
       "   TotLen Fwd Pkts  TotLen Bwd Pkts  Fwd Pkt Len Max  Fwd Pkt Len Min  \\\n",
       "0             1213             1948              661                0   \n",
       "1             1211             3396              875                0   \n",
       "2               45              163               45               45   \n",
       "3             1118             5653              258                0   \n",
       "4               94              214               47               47   \n",
       "\n",
       "   Fwd Pkt Len Mean  Fwd Pkt Len Std  Bwd Pkt Len Max  Bwd Pkt Len Min  \\\n",
       "0        134.777778       209.079995             1173                0   \n",
       "1         86.500000       235.073066             1460                0   \n",
       "2         45.000000         0.000000              163              163   \n",
       "3         65.764706        88.989837             1430                0   \n",
       "4         47.000000         0.000000              107              107   \n",
       "\n",
       "   Bwd Pkt Len Mean  Bwd Pkt Len Std  Flow Byts/s  Flow Pkts/s  Flow IAT Mean  \\\n",
       "0        177.090909       347.937194   607.182269     3.841710   2.740008e+05   \n",
       "1        242.571429       520.660485    75.534982     0.459080   2.258948e+06   \n",
       "2        163.000000         0.000000  7621.280961    73.281548   2.729200e+04   \n",
       "3        282.650000       445.753682    96.256332     0.525991   1.953984e+06   \n",
       "4        107.000000         0.000000  2243.802225    29.140289   4.575567e+04   \n",
       "\n",
       "   Flow IAT Std  Flow IAT Max  Flow IAT Min  Fwd IAT Tot  Fwd IAT Mean  \\\n",
       "0  4.873823e+05       1906221            54      5206015      650751.9   \n",
       "1  4.218116e+06      10009249             1     60991608     4691662.0   \n",
       "2  0.000000e+00         27292         27292            0           0.0   \n",
       "3  9.874980e+06      58654921             8     70343424     4396464.0   \n",
       "4  4.240885e+04         84190           259       137008      137008.0   \n",
       "\n",
       "    Fwd IAT Std  Fwd IAT Max  Fwd IAT Min  Bwd IAT Tot  Bwd IAT Mean  \\\n",
       "0  1.367797e+06      4024698          186      5043065  5.043065e+05   \n",
       "1  5.173112e+06     10077768          265     60922977  4.686383e+06   \n",
       "2  0.000000e+00            0            0            0  0.000000e+00   \n",
       "3  1.474216e+07     58790474          142     70195940  3.694523e+06   \n",
       "4  0.000000e+00       137008       137008        84449  8.444900e+04   \n",
       "\n",
       "    Bwd IAT Std  Bwd IAT Max  Bwd IAT Min  Fwd PSH Flags  Bwd PSH Flags  \\\n",
       "0  5.916400e+05      1906221        46378              0              0   \n",
       "1  5.195334e+06     10080219            1              0              0   \n",
       "2  0.000000e+00            0            0              0              0   \n",
       "3  1.354913e+07     58750691           13              0              0   \n",
       "4  0.000000e+00        84449        84449              0              0   \n",
       "\n",
       "   Fwd URG Flags  Bwd URG Flags  Fwd Header Len  Bwd Header Len  Fwd Pkts/s  \\\n",
       "0              0              0             192             244    1.728770   \n",
       "1              0              0             292             364    0.229540   \n",
       "2              0              0               8               8   36.640774   \n",
       "3              0              0             352             412    0.241671   \n",
       "4              0              0              16              16   14.570144   \n",
       "\n",
       "   Bwd Pkts/s  Pkt Len Min  Pkt Len Max  Pkt Len Mean  Pkt Len Std  \\\n",
       "0    2.112941            0         1173    150.523810   282.220768   \n",
       "1    0.229540            0         1460    158.862069   398.172318   \n",
       "2   36.640774           45          163     84.333333    68.127332   \n",
       "3    0.284319            0         1430    178.184211   343.542661   \n",
       "4   14.570144           47          107     71.000000    32.863353   \n",
       "\n",
       "     Pkt Len Var  FIN Flag Cnt  SYN Flag Cnt  RST Flag Cnt  PSH Flag Cnt  \\\n",
       "0   79648.561905             0             0             1             1   \n",
       "1  158541.194581             0             0             0             1   \n",
       "2    4641.333333             0             0             0             0   \n",
       "3  118021.559744             0             0             0             1   \n",
       "4    1080.000000             0             0             0             0   \n",
       "\n",
       "   ACK Flag Cnt  URG Flag Cnt  CWE Flag Count  ECE Flag Cnt  Pkt Size Avg  \\\n",
       "0             0             0               0             1     158.05000   \n",
       "1             0             0               0             0     164.53572   \n",
       "2             0             0               0             0     126.50000   \n",
       "3             0             0               0             0     183.00000   \n",
       "4             0             0               0             0      88.75000   \n",
       "\n",
       "   Fwd Seg Size Avg  Bwd Seg Size Avg  Fwd Byts/b Avg  Fwd Pkts/b Avg  \\\n",
       "0         134.77777         177.09091               0               0   \n",
       "1          86.50000         242.57143               0               0   \n",
       "2          45.00000         163.00000               0               0   \n",
       "3          65.76471         282.65000               0               0   \n",
       "4          47.00000         107.00000               0               0   \n",
       "\n",
       "   Fwd Blk Rate Avg  Bwd Byts/b Avg  Bwd Pkts/b Avg  Bwd Blk Rate Avg  \\\n",
       "0                 0               0               0                 0   \n",
       "1                 0               0               0                 0   \n",
       "2                 0               0               0                 0   \n",
       "3                 0               0               0                 0   \n",
       "4                 0               0               0                 0   \n",
       "\n",
       "   Subflow Fwd Pkts  Subflow Fwd Byts  Subflow Bwd Pkts  Subflow Bwd Byts  \\\n",
       "0                 9              1213                11              1948   \n",
       "1                14              1211                14              3396   \n",
       "2                 1                45                 1               163   \n",
       "3                17              1118                20              5653   \n",
       "4                 2                94                 2               214   \n",
       "\n",
       "   Init Fwd Win Byts  Init Bwd Win Byts  Fwd Act Data Pkts  Fwd Seg Size Min  \\\n",
       "0               8192              62872                  6                20   \n",
       "1               8192                117                  9                20   \n",
       "2                 -1                 -1                  0                 8   \n",
       "3               8192                184                  9                20   \n",
       "4                 -1                 -1                  1                 8   \n",
       "\n",
       "     Active Mean     Active Std  Active Max  Active Min     Idle Mean  \\\n",
       "0       0.000000       0.000000           0           0  0.000000e+00   \n",
       "1  116504.666667  117401.762867      356150       68519  1.000239e+07   \n",
       "2       0.000000       0.000000           0           0  0.000000e+00   \n",
       "3  527683.500000  386311.526445      800847      254520  3.457024e+07   \n",
       "4       0.000000       0.000000           0           0  0.000000e+00   \n",
       "\n",
       "       Idle Std  Idle Max  Idle Min  Label  \n",
       "0  0.000000e+00         0         0      1  \n",
       "1  1.665183e+04  10009249   9968397      1  \n",
       "2  0.000000e+00         0         0      1  \n",
       "3  3.406089e+07  58654921  10485549      1  \n",
       "4  0.000000e+00         0         0      1  "
      ]
     },
     "execution_count": 3,
     "metadata": {},
     "output_type": "execute_result"
    }
   ],
   "source": [
    "df_train.head()"
   ]
  },
  {
   "cell_type": "markdown",
   "id": "44cdb5f6",
   "metadata": {},
   "source": [
    "<a name=\"Statistics\"></a>\n",
    "## 3. Statistical summaries"
   ]
  },
  {
   "cell_type": "code",
   "execution_count": 4,
   "id": "d4476790",
   "metadata": {},
   "outputs": [
    {
     "name": "stdout",
     "output_type": "stream",
     "text": [
      "<class 'pandas.core.frame.DataFrame'>\n",
      "RangeIndex: 1252846 entries, 0 to 1252845\n",
      "Data columns (total 79 columns):\n",
      " #   Column             Non-Null Count    Dtype  \n",
      "---  ------             --------------    -----  \n",
      " 0   Unnamed: 0         1252846 non-null  int64  \n",
      " 1   Dst Port           1252846 non-null  int64  \n",
      " 2   Protocol           1252846 non-null  int64  \n",
      " 3   Flow Duration      1252846 non-null  int64  \n",
      " 4   Tot Fwd Pkts       1252846 non-null  int64  \n",
      " 5   Tot Bwd Pkts       1252846 non-null  int64  \n",
      " 6   TotLen Fwd Pkts    1252846 non-null  int64  \n",
      " 7   TotLen Bwd Pkts    1252846 non-null  int64  \n",
      " 8   Fwd Pkt Len Max    1252846 non-null  int64  \n",
      " 9   Fwd Pkt Len Min    1252846 non-null  int64  \n",
      " 10  Fwd Pkt Len Mean   1252846 non-null  float64\n",
      " 11  Fwd Pkt Len Std    1252846 non-null  float64\n",
      " 12  Bwd Pkt Len Max    1252846 non-null  int64  \n",
      " 13  Bwd Pkt Len Min    1252846 non-null  int64  \n",
      " 14  Bwd Pkt Len Mean   1252846 non-null  float64\n",
      " 15  Bwd Pkt Len Std    1252846 non-null  float64\n",
      " 16  Flow Byts/s        1252846 non-null  float64\n",
      " 17  Flow Pkts/s        1252846 non-null  float64\n",
      " 18  Flow IAT Mean      1252846 non-null  float64\n",
      " 19  Flow IAT Std       1252846 non-null  float64\n",
      " 20  Flow IAT Max       1252846 non-null  int64  \n",
      " 21  Flow IAT Min       1252846 non-null  int64  \n",
      " 22  Fwd IAT Tot        1252846 non-null  int64  \n",
      " 23  Fwd IAT Mean       1252846 non-null  float64\n",
      " 24  Fwd IAT Std        1252846 non-null  float64\n",
      " 25  Fwd IAT Max        1252846 non-null  int64  \n",
      " 26  Fwd IAT Min        1252846 non-null  int64  \n",
      " 27  Bwd IAT Tot        1252846 non-null  int64  \n",
      " 28  Bwd IAT Mean       1252846 non-null  float64\n",
      " 29  Bwd IAT Std        1252846 non-null  float64\n",
      " 30  Bwd IAT Max        1252846 non-null  int64  \n",
      " 31  Bwd IAT Min        1252846 non-null  int64  \n",
      " 32  Fwd PSH Flags      1252846 non-null  int64  \n",
      " 33  Bwd PSH Flags      1252846 non-null  int64  \n",
      " 34  Fwd URG Flags      1252846 non-null  int64  \n",
      " 35  Bwd URG Flags      1252846 non-null  int64  \n",
      " 36  Fwd Header Len     1252846 non-null  int64  \n",
      " 37  Bwd Header Len     1252846 non-null  int64  \n",
      " 38  Fwd Pkts/s         1252846 non-null  float64\n",
      " 39  Bwd Pkts/s         1252846 non-null  float64\n",
      " 40  Pkt Len Min        1252846 non-null  int64  \n",
      " 41  Pkt Len Max        1252846 non-null  int64  \n",
      " 42  Pkt Len Mean       1252846 non-null  float64\n",
      " 43  Pkt Len Std        1252846 non-null  float64\n",
      " 44  Pkt Len Var        1252846 non-null  float64\n",
      " 45  FIN Flag Cnt       1252846 non-null  int64  \n",
      " 46  SYN Flag Cnt       1252846 non-null  int64  \n",
      " 47  RST Flag Cnt       1252846 non-null  int64  \n",
      " 48  PSH Flag Cnt       1252846 non-null  int64  \n",
      " 49  ACK Flag Cnt       1252846 non-null  int64  \n",
      " 50  URG Flag Cnt       1252846 non-null  int64  \n",
      " 51  CWE Flag Count     1252846 non-null  int64  \n",
      " 52  ECE Flag Cnt       1252846 non-null  int64  \n",
      " 53  Pkt Size Avg       1252846 non-null  float64\n",
      " 54  Fwd Seg Size Avg   1252846 non-null  float64\n",
      " 55  Bwd Seg Size Avg   1252846 non-null  float64\n",
      " 56  Fwd Byts/b Avg     1252846 non-null  int64  \n",
      " 57  Fwd Pkts/b Avg     1252846 non-null  int64  \n",
      " 58  Fwd Blk Rate Avg   1252846 non-null  int64  \n",
      " 59  Bwd Byts/b Avg     1252846 non-null  int64  \n",
      " 60  Bwd Pkts/b Avg     1252846 non-null  int64  \n",
      " 61  Bwd Blk Rate Avg   1252846 non-null  int64  \n",
      " 62  Subflow Fwd Pkts   1252846 non-null  int64  \n",
      " 63  Subflow Fwd Byts   1252846 non-null  int64  \n",
      " 64  Subflow Bwd Pkts   1252846 non-null  int64  \n",
      " 65  Subflow Bwd Byts   1252846 non-null  int64  \n",
      " 66  Init Fwd Win Byts  1252846 non-null  int64  \n",
      " 67  Init Bwd Win Byts  1252846 non-null  int64  \n",
      " 68  Fwd Act Data Pkts  1252846 non-null  int64  \n",
      " 69  Fwd Seg Size Min   1252846 non-null  int64  \n",
      " 70  Active Mean        1252846 non-null  float64\n",
      " 71  Active Std         1252846 non-null  float64\n",
      " 72  Active Max         1252846 non-null  int64  \n",
      " 73  Active Min         1252846 non-null  int64  \n",
      " 74  Idle Mean          1252846 non-null  float64\n",
      " 75  Idle Std           1252846 non-null  float64\n",
      " 76  Idle Max           1252846 non-null  int64  \n",
      " 77  Idle Min           1252846 non-null  int64  \n",
      " 78  Label              1252846 non-null  int64  \n",
      "dtypes: float64(24), int64(55)\n",
      "memory usage: 755.1 MB\n"
     ]
    }
   ],
   "source": [
    "df_train.info()"
   ]
  },
  {
   "cell_type": "code",
   "execution_count": 5,
   "id": "73c2b6a5",
   "metadata": {},
   "outputs": [
    {
     "data": {
      "text/html": [
       "<div>\n",
       "<style scoped>\n",
       "    .dataframe tbody tr th:only-of-type {\n",
       "        vertical-align: middle;\n",
       "    }\n",
       "\n",
       "    .dataframe tbody tr th {\n",
       "        vertical-align: top;\n",
       "    }\n",
       "\n",
       "    .dataframe thead th {\n",
       "        text-align: right;\n",
       "    }\n",
       "</style>\n",
       "<table border=\"1\" class=\"dataframe\">\n",
       "  <thead>\n",
       "    <tr style=\"text-align: right;\">\n",
       "      <th></th>\n",
       "      <th>Unnamed: 0</th>\n",
       "      <th>Dst Port</th>\n",
       "      <th>Protocol</th>\n",
       "      <th>Flow Duration</th>\n",
       "      <th>Tot Fwd Pkts</th>\n",
       "      <th>Tot Bwd Pkts</th>\n",
       "      <th>TotLen Fwd Pkts</th>\n",
       "      <th>TotLen Bwd Pkts</th>\n",
       "      <th>Fwd Pkt Len Max</th>\n",
       "      <th>Fwd Pkt Len Min</th>\n",
       "      <th>Fwd Pkt Len Mean</th>\n",
       "      <th>Fwd Pkt Len Std</th>\n",
       "      <th>Bwd Pkt Len Max</th>\n",
       "      <th>Bwd Pkt Len Min</th>\n",
       "      <th>Bwd Pkt Len Mean</th>\n",
       "      <th>Bwd Pkt Len Std</th>\n",
       "      <th>Flow Byts/s</th>\n",
       "      <th>Flow Pkts/s</th>\n",
       "      <th>Flow IAT Mean</th>\n",
       "      <th>Flow IAT Std</th>\n",
       "      <th>Flow IAT Max</th>\n",
       "      <th>Flow IAT Min</th>\n",
       "      <th>Fwd IAT Tot</th>\n",
       "      <th>Fwd IAT Mean</th>\n",
       "      <th>Fwd IAT Std</th>\n",
       "      <th>Fwd IAT Max</th>\n",
       "      <th>Fwd IAT Min</th>\n",
       "      <th>Bwd IAT Tot</th>\n",
       "      <th>Bwd IAT Mean</th>\n",
       "      <th>Bwd IAT Std</th>\n",
       "      <th>Bwd IAT Max</th>\n",
       "      <th>Bwd IAT Min</th>\n",
       "      <th>Fwd PSH Flags</th>\n",
       "      <th>Bwd PSH Flags</th>\n",
       "      <th>Fwd URG Flags</th>\n",
       "      <th>Bwd URG Flags</th>\n",
       "      <th>Fwd Header Len</th>\n",
       "      <th>Bwd Header Len</th>\n",
       "      <th>Fwd Pkts/s</th>\n",
       "      <th>Bwd Pkts/s</th>\n",
       "      <th>Pkt Len Min</th>\n",
       "      <th>Pkt Len Max</th>\n",
       "      <th>Pkt Len Mean</th>\n",
       "      <th>Pkt Len Std</th>\n",
       "      <th>Pkt Len Var</th>\n",
       "      <th>FIN Flag Cnt</th>\n",
       "      <th>SYN Flag Cnt</th>\n",
       "      <th>RST Flag Cnt</th>\n",
       "      <th>PSH Flag Cnt</th>\n",
       "      <th>ACK Flag Cnt</th>\n",
       "      <th>URG Flag Cnt</th>\n",
       "      <th>CWE Flag Count</th>\n",
       "      <th>ECE Flag Cnt</th>\n",
       "      <th>Pkt Size Avg</th>\n",
       "      <th>Fwd Seg Size Avg</th>\n",
       "      <th>Bwd Seg Size Avg</th>\n",
       "      <th>Fwd Byts/b Avg</th>\n",
       "      <th>Fwd Pkts/b Avg</th>\n",
       "      <th>Fwd Blk Rate Avg</th>\n",
       "      <th>Bwd Byts/b Avg</th>\n",
       "      <th>Bwd Pkts/b Avg</th>\n",
       "      <th>Bwd Blk Rate Avg</th>\n",
       "      <th>Subflow Fwd Pkts</th>\n",
       "      <th>Subflow Fwd Byts</th>\n",
       "      <th>Subflow Bwd Pkts</th>\n",
       "      <th>Subflow Bwd Byts</th>\n",
       "      <th>Init Fwd Win Byts</th>\n",
       "      <th>Init Bwd Win Byts</th>\n",
       "      <th>Fwd Act Data Pkts</th>\n",
       "      <th>Fwd Seg Size Min</th>\n",
       "      <th>Active Mean</th>\n",
       "      <th>Active Std</th>\n",
       "      <th>Active Max</th>\n",
       "      <th>Active Min</th>\n",
       "      <th>Idle Mean</th>\n",
       "      <th>Idle Std</th>\n",
       "      <th>Idle Max</th>\n",
       "      <th>Idle Min</th>\n",
       "      <th>Label</th>\n",
       "    </tr>\n",
       "  </thead>\n",
       "  <tbody>\n",
       "    <tr>\n",
       "      <th>count</th>\n",
       "      <td>1.252846e+06</td>\n",
       "      <td>1.252846e+06</td>\n",
       "      <td>1.252846e+06</td>\n",
       "      <td>1.252846e+06</td>\n",
       "      <td>1.252846e+06</td>\n",
       "      <td>1.252846e+06</td>\n",
       "      <td>1.252846e+06</td>\n",
       "      <td>1.252846e+06</td>\n",
       "      <td>1.252846e+06</td>\n",
       "      <td>1.252846e+06</td>\n",
       "      <td>1.252846e+06</td>\n",
       "      <td>1.252846e+06</td>\n",
       "      <td>1.252846e+06</td>\n",
       "      <td>1.252846e+06</td>\n",
       "      <td>1.252846e+06</td>\n",
       "      <td>1.252846e+06</td>\n",
       "      <td>1.252846e+06</td>\n",
       "      <td>1.252846e+06</td>\n",
       "      <td>1.252846e+06</td>\n",
       "      <td>1.252846e+06</td>\n",
       "      <td>1.252846e+06</td>\n",
       "      <td>1.252846e+06</td>\n",
       "      <td>1.252846e+06</td>\n",
       "      <td>1.252846e+06</td>\n",
       "      <td>1.252846e+06</td>\n",
       "      <td>1.252846e+06</td>\n",
       "      <td>1.252846e+06</td>\n",
       "      <td>1.252846e+06</td>\n",
       "      <td>1.252846e+06</td>\n",
       "      <td>1.252846e+06</td>\n",
       "      <td>1.252846e+06</td>\n",
       "      <td>1.252846e+06</td>\n",
       "      <td>1.252846e+06</td>\n",
       "      <td>1252846.0</td>\n",
       "      <td>1252846.0</td>\n",
       "      <td>1252846.0</td>\n",
       "      <td>1.252846e+06</td>\n",
       "      <td>1.252846e+06</td>\n",
       "      <td>1.252846e+06</td>\n",
       "      <td>1.252846e+06</td>\n",
       "      <td>1.252846e+06</td>\n",
       "      <td>1.252846e+06</td>\n",
       "      <td>1.252846e+06</td>\n",
       "      <td>1.252846e+06</td>\n",
       "      <td>1.252846e+06</td>\n",
       "      <td>1.252846e+06</td>\n",
       "      <td>1.252846e+06</td>\n",
       "      <td>1.252846e+06</td>\n",
       "      <td>1.252846e+06</td>\n",
       "      <td>1.252846e+06</td>\n",
       "      <td>1.252846e+06</td>\n",
       "      <td>1252846.0</td>\n",
       "      <td>1.252846e+06</td>\n",
       "      <td>1.252846e+06</td>\n",
       "      <td>1.252846e+06</td>\n",
       "      <td>1.252846e+06</td>\n",
       "      <td>1252846.0</td>\n",
       "      <td>1252846.0</td>\n",
       "      <td>1252846.0</td>\n",
       "      <td>1252846.0</td>\n",
       "      <td>1252846.0</td>\n",
       "      <td>1252846.0</td>\n",
       "      <td>1.252846e+06</td>\n",
       "      <td>1.252846e+06</td>\n",
       "      <td>1.252846e+06</td>\n",
       "      <td>1.252846e+06</td>\n",
       "      <td>1.252846e+06</td>\n",
       "      <td>1.252846e+06</td>\n",
       "      <td>1.252846e+06</td>\n",
       "      <td>1.252846e+06</td>\n",
       "      <td>1.252846e+06</td>\n",
       "      <td>1.252846e+06</td>\n",
       "      <td>1.252846e+06</td>\n",
       "      <td>1.252846e+06</td>\n",
       "      <td>1.252846e+06</td>\n",
       "      <td>1.252846e+06</td>\n",
       "      <td>1.252846e+06</td>\n",
       "      <td>1.252846e+06</td>\n",
       "      <td>1.252846e+06</td>\n",
       "    </tr>\n",
       "    <tr>\n",
       "      <th>mean</th>\n",
       "      <td>5.238727e+05</td>\n",
       "      <td>9.588155e+03</td>\n",
       "      <td>8.313469e+00</td>\n",
       "      <td>1.123717e+07</td>\n",
       "      <td>4.948192e+00</td>\n",
       "      <td>6.590077e+00</td>\n",
       "      <td>1.392080e+03</td>\n",
       "      <td>5.579347e+03</td>\n",
       "      <td>2.115555e+02</td>\n",
       "      <td>9.397622e+00</td>\n",
       "      <td>5.166799e+01</td>\n",
       "      <td>7.700061e+01</td>\n",
       "      <td>3.331753e+02</td>\n",
       "      <td>2.197513e+01</td>\n",
       "      <td>1.077116e+02</td>\n",
       "      <td>1.275320e+02</td>\n",
       "      <td>2.629520e+05</td>\n",
       "      <td>6.412666e+04</td>\n",
       "      <td>3.891897e+06</td>\n",
       "      <td>1.026042e+06</td>\n",
       "      <td>6.390905e+06</td>\n",
       "      <td>4.205112e+06</td>\n",
       "      <td>1.174706e+07</td>\n",
       "      <td>4.155316e+06</td>\n",
       "      <td>1.054539e+06</td>\n",
       "      <td>6.583450e+06</td>\n",
       "      <td>4.322050e+06</td>\n",
       "      <td>6.492204e+06</td>\n",
       "      <td>6.360427e+05</td>\n",
       "      <td>6.918445e+05</td>\n",
       "      <td>2.069425e+06</td>\n",
       "      <td>1.863643e+05</td>\n",
       "      <td>2.926218e-02</td>\n",
       "      <td>0.0</td>\n",
       "      <td>0.0</td>\n",
       "      <td>0.0</td>\n",
       "      <td>3.674974e+02</td>\n",
       "      <td>1.457332e+02</td>\n",
       "      <td>4.085563e+04</td>\n",
       "      <td>2.327103e+04</td>\n",
       "      <td>9.286034e+00</td>\n",
       "      <td>3.804896e+02</td>\n",
       "      <td>7.584724e+01</td>\n",
       "      <td>1.192518e+02</td>\n",
       "      <td>3.989491e+04</td>\n",
       "      <td>3.497637e-03</td>\n",
       "      <td>2.926218e-02</td>\n",
       "      <td>1.839436e-01</td>\n",
       "      <td>4.355212e-01</td>\n",
       "      <td>3.333434e-01</td>\n",
       "      <td>4.720852e-02</td>\n",
       "      <td>0.0</td>\n",
       "      <td>1.839420e-01</td>\n",
       "      <td>8.679076e+01</td>\n",
       "      <td>5.166799e+01</td>\n",
       "      <td>1.077116e+02</td>\n",
       "      <td>0.0</td>\n",
       "      <td>0.0</td>\n",
       "      <td>0.0</td>\n",
       "      <td>0.0</td>\n",
       "      <td>0.0</td>\n",
       "      <td>0.0</td>\n",
       "      <td>4.948192e+00</td>\n",
       "      <td>1.392080e+03</td>\n",
       "      <td>6.590077e+00</td>\n",
       "      <td>5.579392e+03</td>\n",
       "      <td>1.493192e+04</td>\n",
       "      <td>9.178897e+03</td>\n",
       "      <td>1.237123e+00</td>\n",
       "      <td>1.830886e+01</td>\n",
       "      <td>7.112120e+04</td>\n",
       "      <td>3.308383e+04</td>\n",
       "      <td>1.186159e+05</td>\n",
       "      <td>5.104884e+04</td>\n",
       "      <td>5.227947e+06</td>\n",
       "      <td>2.379458e+05</td>\n",
       "      <td>5.441625e+06</td>\n",
       "      <td>4.966927e+06</td>\n",
       "      <td>1.649700e+00</td>\n",
       "    </tr>\n",
       "    <tr>\n",
       "      <th>std</th>\n",
       "      <td>3.026476e+05</td>\n",
       "      <td>1.935468e+04</td>\n",
       "      <td>4.619283e+00</td>\n",
       "      <td>7.594986e+08</td>\n",
       "      <td>2.671988e+02</td>\n",
       "      <td>1.624900e+02</td>\n",
       "      <td>6.334609e+04</td>\n",
       "      <td>2.826559e+05</td>\n",
       "      <td>3.108414e+02</td>\n",
       "      <td>2.312893e+01</td>\n",
       "      <td>6.253531e+01</td>\n",
       "      <td>1.200345e+02</td>\n",
       "      <td>4.822189e+02</td>\n",
       "      <td>4.806628e+01</td>\n",
       "      <td>1.652413e+02</td>\n",
       "      <td>1.956342e+02</td>\n",
       "      <td>3.797400e+06</td>\n",
       "      <td>2.986723e+05</td>\n",
       "      <td>7.404437e+08</td>\n",
       "      <td>2.497161e+08</td>\n",
       "      <td>7.950531e+08</td>\n",
       "      <td>1.721979e+07</td>\n",
       "      <td>3.063698e+07</td>\n",
       "      <td>7.404482e+08</td>\n",
       "      <td>2.497172e+08</td>\n",
       "      <td>1.954620e+07</td>\n",
       "      <td>1.742660e+07</td>\n",
       "      <td>2.396192e+07</td>\n",
       "      <td>3.661819e+06</td>\n",
       "      <td>2.927942e+06</td>\n",
       "      <td>9.008842e+06</td>\n",
       "      <td>3.067016e+06</td>\n",
       "      <td>1.685406e-01</td>\n",
       "      <td>0.0</td>\n",
       "      <td>0.0</td>\n",
       "      <td>0.0</td>\n",
       "      <td>1.556601e+04</td>\n",
       "      <td>3.890884e+03</td>\n",
       "      <td>2.126593e+05</td>\n",
       "      <td>1.235655e+05</td>\n",
       "      <td>2.216134e+01</td>\n",
       "      <td>5.032455e+02</td>\n",
       "      <td>1.078422e+02</td>\n",
       "      <td>1.602309e+02</td>\n",
       "      <td>8.124096e+04</td>\n",
       "      <td>5.903733e-02</td>\n",
       "      <td>1.685406e-01</td>\n",
       "      <td>3.874383e-01</td>\n",
       "      <td>4.958253e-01</td>\n",
       "      <td>4.714083e-01</td>\n",
       "      <td>2.120847e-01</td>\n",
       "      <td>0.0</td>\n",
       "      <td>3.874370e-01</td>\n",
       "      <td>1.128315e+02</td>\n",
       "      <td>6.253531e+01</td>\n",
       "      <td>1.652413e+02</td>\n",
       "      <td>0.0</td>\n",
       "      <td>0.0</td>\n",
       "      <td>0.0</td>\n",
       "      <td>0.0</td>\n",
       "      <td>0.0</td>\n",
       "      <td>0.0</td>\n",
       "      <td>2.671988e+02</td>\n",
       "      <td>6.334609e+04</td>\n",
       "      <td>1.624900e+02</td>\n",
       "      <td>2.826714e+05</td>\n",
       "      <td>2.132031e+04</td>\n",
       "      <td>2.041888e+04</td>\n",
       "      <td>2.605071e+02</td>\n",
       "      <td>7.243993e+00</td>\n",
       "      <td>1.056708e+06</td>\n",
       "      <td>5.714664e+05</td>\n",
       "      <td>1.398053e+06</td>\n",
       "      <td>9.293325e+05</td>\n",
       "      <td>1.773220e+08</td>\n",
       "      <td>1.262057e+08</td>\n",
       "      <td>2.907424e+08</td>\n",
       "      <td>2.632555e+07</td>\n",
       "      <td>1.304563e+00</td>\n",
       "    </tr>\n",
       "    <tr>\n",
       "      <th>min</th>\n",
       "      <td>0.000000e+00</td>\n",
       "      <td>0.000000e+00</td>\n",
       "      <td>0.000000e+00</td>\n",
       "      <td>-8.282200e+11</td>\n",
       "      <td>-3.266300e+04</td>\n",
       "      <td>-3.122800e+04</td>\n",
       "      <td>0.000000e+00</td>\n",
       "      <td>0.000000e+00</td>\n",
       "      <td>0.000000e+00</td>\n",
       "      <td>0.000000e+00</td>\n",
       "      <td>0.000000e+00</td>\n",
       "      <td>0.000000e+00</td>\n",
       "      <td>0.000000e+00</td>\n",
       "      <td>0.000000e+00</td>\n",
       "      <td>0.000000e+00</td>\n",
       "      <td>0.000000e+00</td>\n",
       "      <td>0.000000e+00</td>\n",
       "      <td>-4.774409e-05</td>\n",
       "      <td>-8.282200e+11</td>\n",
       "      <td>0.000000e+00</td>\n",
       "      <td>-8.282200e+11</td>\n",
       "      <td>0.000000e+00</td>\n",
       "      <td>0.000000e+00</td>\n",
       "      <td>-8.282200e+11</td>\n",
       "      <td>0.000000e+00</td>\n",
       "      <td>-1.610514e+09</td>\n",
       "      <td>0.000000e+00</td>\n",
       "      <td>0.000000e+00</td>\n",
       "      <td>0.000000e+00</td>\n",
       "      <td>0.000000e+00</td>\n",
       "      <td>0.000000e+00</td>\n",
       "      <td>0.000000e+00</td>\n",
       "      <td>0.000000e+00</td>\n",
       "      <td>0.0</td>\n",
       "      <td>0.0</td>\n",
       "      <td>0.0</td>\n",
       "      <td>0.000000e+00</td>\n",
       "      <td>0.000000e+00</td>\n",
       "      <td>0.000000e+00</td>\n",
       "      <td>0.000000e+00</td>\n",
       "      <td>0.000000e+00</td>\n",
       "      <td>0.000000e+00</td>\n",
       "      <td>0.000000e+00</td>\n",
       "      <td>0.000000e+00</td>\n",
       "      <td>0.000000e+00</td>\n",
       "      <td>0.000000e+00</td>\n",
       "      <td>0.000000e+00</td>\n",
       "      <td>0.000000e+00</td>\n",
       "      <td>0.000000e+00</td>\n",
       "      <td>0.000000e+00</td>\n",
       "      <td>0.000000e+00</td>\n",
       "      <td>0.0</td>\n",
       "      <td>0.000000e+00</td>\n",
       "      <td>0.000000e+00</td>\n",
       "      <td>0.000000e+00</td>\n",
       "      <td>0.000000e+00</td>\n",
       "      <td>0.0</td>\n",
       "      <td>0.0</td>\n",
       "      <td>0.0</td>\n",
       "      <td>0.0</td>\n",
       "      <td>0.0</td>\n",
       "      <td>0.0</td>\n",
       "      <td>-3.266300e+04</td>\n",
       "      <td>0.000000e+00</td>\n",
       "      <td>-3.122800e+04</td>\n",
       "      <td>0.000000e+00</td>\n",
       "      <td>-1.000000e+00</td>\n",
       "      <td>-1.000000e+00</td>\n",
       "      <td>-3.266400e+04</td>\n",
       "      <td>0.000000e+00</td>\n",
       "      <td>0.000000e+00</td>\n",
       "      <td>0.000000e+00</td>\n",
       "      <td>0.000000e+00</td>\n",
       "      <td>0.000000e+00</td>\n",
       "      <td>0.000000e+00</td>\n",
       "      <td>0.000000e+00</td>\n",
       "      <td>0.000000e+00</td>\n",
       "      <td>0.000000e+00</td>\n",
       "      <td>1.000000e+00</td>\n",
       "    </tr>\n",
       "    <tr>\n",
       "      <th>25%</th>\n",
       "      <td>2.618230e+05</td>\n",
       "      <td>5.300000e+01</td>\n",
       "      <td>6.000000e+00</td>\n",
       "      <td>5.510000e+02</td>\n",
       "      <td>2.000000e+00</td>\n",
       "      <td>0.000000e+00</td>\n",
       "      <td>0.000000e+00</td>\n",
       "      <td>0.000000e+00</td>\n",
       "      <td>0.000000e+00</td>\n",
       "      <td>0.000000e+00</td>\n",
       "      <td>0.000000e+00</td>\n",
       "      <td>0.000000e+00</td>\n",
       "      <td>0.000000e+00</td>\n",
       "      <td>0.000000e+00</td>\n",
       "      <td>0.000000e+00</td>\n",
       "      <td>0.000000e+00</td>\n",
       "      <td>0.000000e+00</td>\n",
       "      <td>6.820604e+00</td>\n",
       "      <td>2.920000e+02</td>\n",
       "      <td>0.000000e+00</td>\n",
       "      <td>4.580000e+02</td>\n",
       "      <td>5.000000e+00</td>\n",
       "      <td>1.000000e+00</td>\n",
       "      <td>1.000000e+00</td>\n",
       "      <td>0.000000e+00</td>\n",
       "      <td>1.000000e+00</td>\n",
       "      <td>0.000000e+00</td>\n",
       "      <td>0.000000e+00</td>\n",
       "      <td>0.000000e+00</td>\n",
       "      <td>0.000000e+00</td>\n",
       "      <td>0.000000e+00</td>\n",
       "      <td>0.000000e+00</td>\n",
       "      <td>0.000000e+00</td>\n",
       "      <td>0.0</td>\n",
       "      <td>0.0</td>\n",
       "      <td>0.0</td>\n",
       "      <td>2.000000e+01</td>\n",
       "      <td>0.000000e+00</td>\n",
       "      <td>3.839602e+00</td>\n",
       "      <td>0.000000e+00</td>\n",
       "      <td>0.000000e+00</td>\n",
       "      <td>0.000000e+00</td>\n",
       "      <td>0.000000e+00</td>\n",
       "      <td>0.000000e+00</td>\n",
       "      <td>0.000000e+00</td>\n",
       "      <td>0.000000e+00</td>\n",
       "      <td>0.000000e+00</td>\n",
       "      <td>0.000000e+00</td>\n",
       "      <td>0.000000e+00</td>\n",
       "      <td>0.000000e+00</td>\n",
       "      <td>0.000000e+00</td>\n",
       "      <td>0.0</td>\n",
       "      <td>0.000000e+00</td>\n",
       "      <td>0.000000e+00</td>\n",
       "      <td>0.000000e+00</td>\n",
       "      <td>0.000000e+00</td>\n",
       "      <td>0.0</td>\n",
       "      <td>0.0</td>\n",
       "      <td>0.0</td>\n",
       "      <td>0.0</td>\n",
       "      <td>0.0</td>\n",
       "      <td>0.0</td>\n",
       "      <td>2.000000e+00</td>\n",
       "      <td>0.000000e+00</td>\n",
       "      <td>0.000000e+00</td>\n",
       "      <td>0.000000e+00</td>\n",
       "      <td>1.270000e+02</td>\n",
       "      <td>-1.000000e+00</td>\n",
       "      <td>0.000000e+00</td>\n",
       "      <td>2.000000e+01</td>\n",
       "      <td>0.000000e+00</td>\n",
       "      <td>0.000000e+00</td>\n",
       "      <td>0.000000e+00</td>\n",
       "      <td>0.000000e+00</td>\n",
       "      <td>0.000000e+00</td>\n",
       "      <td>0.000000e+00</td>\n",
       "      <td>0.000000e+00</td>\n",
       "      <td>0.000000e+00</td>\n",
       "      <td>1.000000e+00</td>\n",
       "    </tr>\n",
       "    <tr>\n",
       "      <th>50%</th>\n",
       "      <td>5.235700e+05</td>\n",
       "      <td>8.000000e+01</td>\n",
       "      <td>6.000000e+00</td>\n",
       "      <td>1.140100e+04</td>\n",
       "      <td>2.000000e+00</td>\n",
       "      <td>1.000000e+00</td>\n",
       "      <td>4.400000e+01</td>\n",
       "      <td>1.000000e+02</td>\n",
       "      <td>4.100000e+01</td>\n",
       "      <td>0.000000e+00</td>\n",
       "      <td>3.600000e+01</td>\n",
       "      <td>0.000000e+00</td>\n",
       "      <td>9.100000e+01</td>\n",
       "      <td>0.000000e+00</td>\n",
       "      <td>5.900000e+01</td>\n",
       "      <td>0.000000e+00</td>\n",
       "      <td>7.885739e+02</td>\n",
       "      <td>4.114501e+02</td>\n",
       "      <td>3.451929e+03</td>\n",
       "      <td>3.000000e+00</td>\n",
       "      <td>1.058600e+04</td>\n",
       "      <td>5.900000e+01</td>\n",
       "      <td>3.298000e+03</td>\n",
       "      <td>2.245000e+03</td>\n",
       "      <td>0.000000e+00</td>\n",
       "      <td>3.208000e+03</td>\n",
       "      <td>7.700000e+01</td>\n",
       "      <td>0.000000e+00</td>\n",
       "      <td>0.000000e+00</td>\n",
       "      <td>0.000000e+00</td>\n",
       "      <td>0.000000e+00</td>\n",
       "      <td>0.000000e+00</td>\n",
       "      <td>0.000000e+00</td>\n",
       "      <td>0.0</td>\n",
       "      <td>0.0</td>\n",
       "      <td>0.0</td>\n",
       "      <td>4.000000e+01</td>\n",
       "      <td>2.000000e+01</td>\n",
       "      <td>2.638522e+02</td>\n",
       "      <td>4.433544e+00</td>\n",
       "      <td>0.000000e+00</td>\n",
       "      <td>9.400000e+01</td>\n",
       "      <td>5.033333e+01</td>\n",
       "      <td>3.231563e+01</td>\n",
       "      <td>1.044300e+03</td>\n",
       "      <td>0.000000e+00</td>\n",
       "      <td>0.000000e+00</td>\n",
       "      <td>0.000000e+00</td>\n",
       "      <td>0.000000e+00</td>\n",
       "      <td>0.000000e+00</td>\n",
       "      <td>0.000000e+00</td>\n",
       "      <td>0.0</td>\n",
       "      <td>0.000000e+00</td>\n",
       "      <td>6.700000e+01</td>\n",
       "      <td>3.600000e+01</td>\n",
       "      <td>5.900000e+01</td>\n",
       "      <td>0.0</td>\n",
       "      <td>0.0</td>\n",
       "      <td>0.0</td>\n",
       "      <td>0.0</td>\n",
       "      <td>0.0</td>\n",
       "      <td>0.0</td>\n",
       "      <td>2.000000e+00</td>\n",
       "      <td>4.400000e+01</td>\n",
       "      <td>1.000000e+00</td>\n",
       "      <td>1.000000e+02</td>\n",
       "      <td>8.192000e+03</td>\n",
       "      <td>0.000000e+00</td>\n",
       "      <td>0.000000e+00</td>\n",
       "      <td>2.000000e+01</td>\n",
       "      <td>0.000000e+00</td>\n",
       "      <td>0.000000e+00</td>\n",
       "      <td>0.000000e+00</td>\n",
       "      <td>0.000000e+00</td>\n",
       "      <td>0.000000e+00</td>\n",
       "      <td>0.000000e+00</td>\n",
       "      <td>0.000000e+00</td>\n",
       "      <td>0.000000e+00</td>\n",
       "      <td>1.000000e+00</td>\n",
       "    </tr>\n",
       "    <tr>\n",
       "      <th>75%</th>\n",
       "      <td>7.857798e+05</td>\n",
       "      <td>3.389000e+03</td>\n",
       "      <td>6.000000e+00</td>\n",
       "      <td>2.060460e+06</td>\n",
       "      <td>5.000000e+00</td>\n",
       "      <td>4.000000e+00</td>\n",
       "      <td>4.570000e+02</td>\n",
       "      <td>4.880000e+02</td>\n",
       "      <td>3.260000e+02</td>\n",
       "      <td>0.000000e+00</td>\n",
       "      <td>8.333333e+01</td>\n",
       "      <td>1.397511e+02</td>\n",
       "      <td>4.090000e+02</td>\n",
       "      <td>0.000000e+00</td>\n",
       "      <td>1.570000e+02</td>\n",
       "      <td>2.305168e+02</td>\n",
       "      <td>7.285229e+04</td>\n",
       "      <td>5.571031e+03</td>\n",
       "      <td>1.603583e+05</td>\n",
       "      <td>7.897106e+04</td>\n",
       "      <td>9.531300e+05</td>\n",
       "      <td>1.030000e+03</td>\n",
       "      <td>1.465696e+06</td>\n",
       "      <td>2.377992e+05</td>\n",
       "      <td>3.519867e+04</td>\n",
       "      <td>9.531255e+05</td>\n",
       "      <td>1.368000e+03</td>\n",
       "      <td>9.952775e+04</td>\n",
       "      <td>2.047238e+04</td>\n",
       "      <td>6.906596e+03</td>\n",
       "      <td>7.067675e+04</td>\n",
       "      <td>7.600000e+01</td>\n",
       "      <td>0.000000e+00</td>\n",
       "      <td>0.0</td>\n",
       "      <td>0.0</td>\n",
       "      <td>0.0</td>\n",
       "      <td>1.240000e+02</td>\n",
       "      <td>9.200000e+01</td>\n",
       "      <td>3.514938e+03</td>\n",
       "      <td>8.764242e+02</td>\n",
       "      <td>0.000000e+00</td>\n",
       "      <td>9.350000e+02</td>\n",
       "      <td>1.356500e+02</td>\n",
       "      <td>2.788795e+02</td>\n",
       "      <td>7.777377e+04</td>\n",
       "      <td>0.000000e+00</td>\n",
       "      <td>0.000000e+00</td>\n",
       "      <td>0.000000e+00</td>\n",
       "      <td>1.000000e+00</td>\n",
       "      <td>1.000000e+00</td>\n",
       "      <td>0.000000e+00</td>\n",
       "      <td>0.0</td>\n",
       "      <td>0.000000e+00</td>\n",
       "      <td>1.441364e+02</td>\n",
       "      <td>8.333334e+01</td>\n",
       "      <td>1.570000e+02</td>\n",
       "      <td>0.0</td>\n",
       "      <td>0.0</td>\n",
       "      <td>0.0</td>\n",
       "      <td>0.0</td>\n",
       "      <td>0.0</td>\n",
       "      <td>0.0</td>\n",
       "      <td>5.000000e+00</td>\n",
       "      <td>4.570000e+02</td>\n",
       "      <td>4.000000e+00</td>\n",
       "      <td>4.880000e+02</td>\n",
       "      <td>2.688300e+04</td>\n",
       "      <td>2.550000e+02</td>\n",
       "      <td>1.000000e+00</td>\n",
       "      <td>2.000000e+01</td>\n",
       "      <td>0.000000e+00</td>\n",
       "      <td>0.000000e+00</td>\n",
       "      <td>0.000000e+00</td>\n",
       "      <td>0.000000e+00</td>\n",
       "      <td>0.000000e+00</td>\n",
       "      <td>0.000000e+00</td>\n",
       "      <td>0.000000e+00</td>\n",
       "      <td>0.000000e+00</td>\n",
       "      <td>1.000000e+00</td>\n",
       "    </tr>\n",
       "    <tr>\n",
       "      <th>max</th>\n",
       "      <td>1.048574e+06</td>\n",
       "      <td>6.553400e+04</td>\n",
       "      <td>1.700000e+01</td>\n",
       "      <td>1.200000e+08</td>\n",
       "      <td>3.217300e+04</td>\n",
       "      <td>2.661800e+04</td>\n",
       "      <td>8.737314e+06</td>\n",
       "      <td>1.010000e+08</td>\n",
       "      <td>4.439200e+04</td>\n",
       "      <td>1.460000e+03</td>\n",
       "      <td>6.237014e+03</td>\n",
       "      <td>5.579582e+03</td>\n",
       "      <td>4.012000e+03</td>\n",
       "      <td>1.050000e+03</td>\n",
       "      <td>1.826971e+03</td>\n",
       "      <td>2.006000e+03</td>\n",
       "      <td>1.298500e+09</td>\n",
       "      <td>4.000000e+06</td>\n",
       "      <td>1.200000e+08</td>\n",
       "      <td>2.794822e+11</td>\n",
       "      <td>3.248070e+11</td>\n",
       "      <td>1.262566e+09</td>\n",
       "      <td>7.086881e+08</td>\n",
       "      <td>1.200000e+08</td>\n",
       "      <td>2.794822e+11</td>\n",
       "      <td>7.086881e+08</td>\n",
       "      <td>1.262566e+09</td>\n",
       "      <td>1.200000e+08</td>\n",
       "      <td>1.200000e+08</td>\n",
       "      <td>8.418521e+07</td>\n",
       "      <td>1.200000e+08</td>\n",
       "      <td>1.200000e+08</td>\n",
       "      <td>1.000000e+00</td>\n",
       "      <td>0.0</td>\n",
       "      <td>0.0</td>\n",
       "      <td>0.0</td>\n",
       "      <td>1.942424e+06</td>\n",
       "      <td>1.383932e+06</td>\n",
       "      <td>4.000000e+06</td>\n",
       "      <td>2.000000e+06</td>\n",
       "      <td>1.460000e+03</td>\n",
       "      <td>4.439200e+04</td>\n",
       "      <td>1.955882e+03</td>\n",
       "      <td>4.257221e+03</td>\n",
       "      <td>1.812393e+07</td>\n",
       "      <td>1.000000e+00</td>\n",
       "      <td>1.000000e+00</td>\n",
       "      <td>1.000000e+00</td>\n",
       "      <td>1.000000e+00</td>\n",
       "      <td>1.000000e+00</td>\n",
       "      <td>1.000000e+00</td>\n",
       "      <td>0.0</td>\n",
       "      <td>1.000000e+00</td>\n",
       "      <td>1.956326e+03</td>\n",
       "      <td>6.237015e+03</td>\n",
       "      <td>1.826971e+03</td>\n",
       "      <td>0.0</td>\n",
       "      <td>0.0</td>\n",
       "      <td>0.0</td>\n",
       "      <td>0.0</td>\n",
       "      <td>0.0</td>\n",
       "      <td>0.0</td>\n",
       "      <td>3.217300e+04</td>\n",
       "      <td>8.737314e+06</td>\n",
       "      <td>2.661800e+04</td>\n",
       "      <td>1.009997e+08</td>\n",
       "      <td>6.553500e+04</td>\n",
       "      <td>6.553500e+04</td>\n",
       "      <td>3.217200e+04</td>\n",
       "      <td>4.800000e+01</td>\n",
       "      <td>1.110000e+08</td>\n",
       "      <td>5.739751e+07</td>\n",
       "      <td>1.110000e+08</td>\n",
       "      <td>1.110000e+08</td>\n",
       "      <td>1.974748e+11</td>\n",
       "      <td>1.412517e+11</td>\n",
       "      <td>3.248070e+11</td>\n",
       "      <td>2.175600e+10</td>\n",
       "      <td>1.100000e+01</td>\n",
       "    </tr>\n",
       "  </tbody>\n",
       "</table>\n",
       "</div>"
      ],
      "text/plain": [
       "         Unnamed: 0      Dst Port      Protocol  Flow Duration  Tot Fwd Pkts  \\\n",
       "count  1.252846e+06  1.252846e+06  1.252846e+06   1.252846e+06  1.252846e+06   \n",
       "mean   5.238727e+05  9.588155e+03  8.313469e+00   1.123717e+07  4.948192e+00   \n",
       "std    3.026476e+05  1.935468e+04  4.619283e+00   7.594986e+08  2.671988e+02   \n",
       "min    0.000000e+00  0.000000e+00  0.000000e+00  -8.282200e+11 -3.266300e+04   \n",
       "25%    2.618230e+05  5.300000e+01  6.000000e+00   5.510000e+02  2.000000e+00   \n",
       "50%    5.235700e+05  8.000000e+01  6.000000e+00   1.140100e+04  2.000000e+00   \n",
       "75%    7.857798e+05  3.389000e+03  6.000000e+00   2.060460e+06  5.000000e+00   \n",
       "max    1.048574e+06  6.553400e+04  1.700000e+01   1.200000e+08  3.217300e+04   \n",
       "\n",
       "       Tot Bwd Pkts  TotLen Fwd Pkts  TotLen Bwd Pkts  Fwd Pkt Len Max  \\\n",
       "count  1.252846e+06     1.252846e+06     1.252846e+06     1.252846e+06   \n",
       "mean   6.590077e+00     1.392080e+03     5.579347e+03     2.115555e+02   \n",
       "std    1.624900e+02     6.334609e+04     2.826559e+05     3.108414e+02   \n",
       "min   -3.122800e+04     0.000000e+00     0.000000e+00     0.000000e+00   \n",
       "25%    0.000000e+00     0.000000e+00     0.000000e+00     0.000000e+00   \n",
       "50%    1.000000e+00     4.400000e+01     1.000000e+02     4.100000e+01   \n",
       "75%    4.000000e+00     4.570000e+02     4.880000e+02     3.260000e+02   \n",
       "max    2.661800e+04     8.737314e+06     1.010000e+08     4.439200e+04   \n",
       "\n",
       "       Fwd Pkt Len Min  Fwd Pkt Len Mean  Fwd Pkt Len Std  Bwd Pkt Len Max  \\\n",
       "count     1.252846e+06      1.252846e+06     1.252846e+06     1.252846e+06   \n",
       "mean      9.397622e+00      5.166799e+01     7.700061e+01     3.331753e+02   \n",
       "std       2.312893e+01      6.253531e+01     1.200345e+02     4.822189e+02   \n",
       "min       0.000000e+00      0.000000e+00     0.000000e+00     0.000000e+00   \n",
       "25%       0.000000e+00      0.000000e+00     0.000000e+00     0.000000e+00   \n",
       "50%       0.000000e+00      3.600000e+01     0.000000e+00     9.100000e+01   \n",
       "75%       0.000000e+00      8.333333e+01     1.397511e+02     4.090000e+02   \n",
       "max       1.460000e+03      6.237014e+03     5.579582e+03     4.012000e+03   \n",
       "\n",
       "       Bwd Pkt Len Min  Bwd Pkt Len Mean  Bwd Pkt Len Std   Flow Byts/s  \\\n",
       "count     1.252846e+06      1.252846e+06     1.252846e+06  1.252846e+06   \n",
       "mean      2.197513e+01      1.077116e+02     1.275320e+02  2.629520e+05   \n",
       "std       4.806628e+01      1.652413e+02     1.956342e+02  3.797400e+06   \n",
       "min       0.000000e+00      0.000000e+00     0.000000e+00  0.000000e+00   \n",
       "25%       0.000000e+00      0.000000e+00     0.000000e+00  0.000000e+00   \n",
       "50%       0.000000e+00      5.900000e+01     0.000000e+00  7.885739e+02   \n",
       "75%       0.000000e+00      1.570000e+02     2.305168e+02  7.285229e+04   \n",
       "max       1.050000e+03      1.826971e+03     2.006000e+03  1.298500e+09   \n",
       "\n",
       "        Flow Pkts/s  Flow IAT Mean  Flow IAT Std  Flow IAT Max  Flow IAT Min  \\\n",
       "count  1.252846e+06   1.252846e+06  1.252846e+06  1.252846e+06  1.252846e+06   \n",
       "mean   6.412666e+04   3.891897e+06  1.026042e+06  6.390905e+06  4.205112e+06   \n",
       "std    2.986723e+05   7.404437e+08  2.497161e+08  7.950531e+08  1.721979e+07   \n",
       "min   -4.774409e-05  -8.282200e+11  0.000000e+00 -8.282200e+11  0.000000e+00   \n",
       "25%    6.820604e+00   2.920000e+02  0.000000e+00  4.580000e+02  5.000000e+00   \n",
       "50%    4.114501e+02   3.451929e+03  3.000000e+00  1.058600e+04  5.900000e+01   \n",
       "75%    5.571031e+03   1.603583e+05  7.897106e+04  9.531300e+05  1.030000e+03   \n",
       "max    4.000000e+06   1.200000e+08  2.794822e+11  3.248070e+11  1.262566e+09   \n",
       "\n",
       "        Fwd IAT Tot  Fwd IAT Mean   Fwd IAT Std   Fwd IAT Max   Fwd IAT Min  \\\n",
       "count  1.252846e+06  1.252846e+06  1.252846e+06  1.252846e+06  1.252846e+06   \n",
       "mean   1.174706e+07  4.155316e+06  1.054539e+06  6.583450e+06  4.322050e+06   \n",
       "std    3.063698e+07  7.404482e+08  2.497172e+08  1.954620e+07  1.742660e+07   \n",
       "min    0.000000e+00 -8.282200e+11  0.000000e+00 -1.610514e+09  0.000000e+00   \n",
       "25%    1.000000e+00  1.000000e+00  0.000000e+00  1.000000e+00  0.000000e+00   \n",
       "50%    3.298000e+03  2.245000e+03  0.000000e+00  3.208000e+03  7.700000e+01   \n",
       "75%    1.465696e+06  2.377992e+05  3.519867e+04  9.531255e+05  1.368000e+03   \n",
       "max    7.086881e+08  1.200000e+08  2.794822e+11  7.086881e+08  1.262566e+09   \n",
       "\n",
       "        Bwd IAT Tot  Bwd IAT Mean   Bwd IAT Std   Bwd IAT Max   Bwd IAT Min  \\\n",
       "count  1.252846e+06  1.252846e+06  1.252846e+06  1.252846e+06  1.252846e+06   \n",
       "mean   6.492204e+06  6.360427e+05  6.918445e+05  2.069425e+06  1.863643e+05   \n",
       "std    2.396192e+07  3.661819e+06  2.927942e+06  9.008842e+06  3.067016e+06   \n",
       "min    0.000000e+00  0.000000e+00  0.000000e+00  0.000000e+00  0.000000e+00   \n",
       "25%    0.000000e+00  0.000000e+00  0.000000e+00  0.000000e+00  0.000000e+00   \n",
       "50%    0.000000e+00  0.000000e+00  0.000000e+00  0.000000e+00  0.000000e+00   \n",
       "75%    9.952775e+04  2.047238e+04  6.906596e+03  7.067675e+04  7.600000e+01   \n",
       "max    1.200000e+08  1.200000e+08  8.418521e+07  1.200000e+08  1.200000e+08   \n",
       "\n",
       "       Fwd PSH Flags  Bwd PSH Flags  Fwd URG Flags  Bwd URG Flags  \\\n",
       "count   1.252846e+06      1252846.0      1252846.0      1252846.0   \n",
       "mean    2.926218e-02            0.0            0.0            0.0   \n",
       "std     1.685406e-01            0.0            0.0            0.0   \n",
       "min     0.000000e+00            0.0            0.0            0.0   \n",
       "25%     0.000000e+00            0.0            0.0            0.0   \n",
       "50%     0.000000e+00            0.0            0.0            0.0   \n",
       "75%     0.000000e+00            0.0            0.0            0.0   \n",
       "max     1.000000e+00            0.0            0.0            0.0   \n",
       "\n",
       "       Fwd Header Len  Bwd Header Len    Fwd Pkts/s    Bwd Pkts/s  \\\n",
       "count    1.252846e+06    1.252846e+06  1.252846e+06  1.252846e+06   \n",
       "mean     3.674974e+02    1.457332e+02  4.085563e+04  2.327103e+04   \n",
       "std      1.556601e+04    3.890884e+03  2.126593e+05  1.235655e+05   \n",
       "min      0.000000e+00    0.000000e+00  0.000000e+00  0.000000e+00   \n",
       "25%      2.000000e+01    0.000000e+00  3.839602e+00  0.000000e+00   \n",
       "50%      4.000000e+01    2.000000e+01  2.638522e+02  4.433544e+00   \n",
       "75%      1.240000e+02    9.200000e+01  3.514938e+03  8.764242e+02   \n",
       "max      1.942424e+06    1.383932e+06  4.000000e+06  2.000000e+06   \n",
       "\n",
       "        Pkt Len Min   Pkt Len Max  Pkt Len Mean   Pkt Len Std   Pkt Len Var  \\\n",
       "count  1.252846e+06  1.252846e+06  1.252846e+06  1.252846e+06  1.252846e+06   \n",
       "mean   9.286034e+00  3.804896e+02  7.584724e+01  1.192518e+02  3.989491e+04   \n",
       "std    2.216134e+01  5.032455e+02  1.078422e+02  1.602309e+02  8.124096e+04   \n",
       "min    0.000000e+00  0.000000e+00  0.000000e+00  0.000000e+00  0.000000e+00   \n",
       "25%    0.000000e+00  0.000000e+00  0.000000e+00  0.000000e+00  0.000000e+00   \n",
       "50%    0.000000e+00  9.400000e+01  5.033333e+01  3.231563e+01  1.044300e+03   \n",
       "75%    0.000000e+00  9.350000e+02  1.356500e+02  2.788795e+02  7.777377e+04   \n",
       "max    1.460000e+03  4.439200e+04  1.955882e+03  4.257221e+03  1.812393e+07   \n",
       "\n",
       "       FIN Flag Cnt  SYN Flag Cnt  RST Flag Cnt  PSH Flag Cnt  ACK Flag Cnt  \\\n",
       "count  1.252846e+06  1.252846e+06  1.252846e+06  1.252846e+06  1.252846e+06   \n",
       "mean   3.497637e-03  2.926218e-02  1.839436e-01  4.355212e-01  3.333434e-01   \n",
       "std    5.903733e-02  1.685406e-01  3.874383e-01  4.958253e-01  4.714083e-01   \n",
       "min    0.000000e+00  0.000000e+00  0.000000e+00  0.000000e+00  0.000000e+00   \n",
       "25%    0.000000e+00  0.000000e+00  0.000000e+00  0.000000e+00  0.000000e+00   \n",
       "50%    0.000000e+00  0.000000e+00  0.000000e+00  0.000000e+00  0.000000e+00   \n",
       "75%    0.000000e+00  0.000000e+00  0.000000e+00  1.000000e+00  1.000000e+00   \n",
       "max    1.000000e+00  1.000000e+00  1.000000e+00  1.000000e+00  1.000000e+00   \n",
       "\n",
       "       URG Flag Cnt  CWE Flag Count  ECE Flag Cnt  Pkt Size Avg  \\\n",
       "count  1.252846e+06       1252846.0  1.252846e+06  1.252846e+06   \n",
       "mean   4.720852e-02             0.0  1.839420e-01  8.679076e+01   \n",
       "std    2.120847e-01             0.0  3.874370e-01  1.128315e+02   \n",
       "min    0.000000e+00             0.0  0.000000e+00  0.000000e+00   \n",
       "25%    0.000000e+00             0.0  0.000000e+00  0.000000e+00   \n",
       "50%    0.000000e+00             0.0  0.000000e+00  6.700000e+01   \n",
       "75%    0.000000e+00             0.0  0.000000e+00  1.441364e+02   \n",
       "max    1.000000e+00             0.0  1.000000e+00  1.956326e+03   \n",
       "\n",
       "       Fwd Seg Size Avg  Bwd Seg Size Avg  Fwd Byts/b Avg  Fwd Pkts/b Avg  \\\n",
       "count      1.252846e+06      1.252846e+06       1252846.0       1252846.0   \n",
       "mean       5.166799e+01      1.077116e+02             0.0             0.0   \n",
       "std        6.253531e+01      1.652413e+02             0.0             0.0   \n",
       "min        0.000000e+00      0.000000e+00             0.0             0.0   \n",
       "25%        0.000000e+00      0.000000e+00             0.0             0.0   \n",
       "50%        3.600000e+01      5.900000e+01             0.0             0.0   \n",
       "75%        8.333334e+01      1.570000e+02             0.0             0.0   \n",
       "max        6.237015e+03      1.826971e+03             0.0             0.0   \n",
       "\n",
       "       Fwd Blk Rate Avg  Bwd Byts/b Avg  Bwd Pkts/b Avg  Bwd Blk Rate Avg  \\\n",
       "count         1252846.0       1252846.0       1252846.0         1252846.0   \n",
       "mean                0.0             0.0             0.0               0.0   \n",
       "std                 0.0             0.0             0.0               0.0   \n",
       "min                 0.0             0.0             0.0               0.0   \n",
       "25%                 0.0             0.0             0.0               0.0   \n",
       "50%                 0.0             0.0             0.0               0.0   \n",
       "75%                 0.0             0.0             0.0               0.0   \n",
       "max                 0.0             0.0             0.0               0.0   \n",
       "\n",
       "       Subflow Fwd Pkts  Subflow Fwd Byts  Subflow Bwd Pkts  Subflow Bwd Byts  \\\n",
       "count      1.252846e+06      1.252846e+06      1.252846e+06      1.252846e+06   \n",
       "mean       4.948192e+00      1.392080e+03      6.590077e+00      5.579392e+03   \n",
       "std        2.671988e+02      6.334609e+04      1.624900e+02      2.826714e+05   \n",
       "min       -3.266300e+04      0.000000e+00     -3.122800e+04      0.000000e+00   \n",
       "25%        2.000000e+00      0.000000e+00      0.000000e+00      0.000000e+00   \n",
       "50%        2.000000e+00      4.400000e+01      1.000000e+00      1.000000e+02   \n",
       "75%        5.000000e+00      4.570000e+02      4.000000e+00      4.880000e+02   \n",
       "max        3.217300e+04      8.737314e+06      2.661800e+04      1.009997e+08   \n",
       "\n",
       "       Init Fwd Win Byts  Init Bwd Win Byts  Fwd Act Data Pkts  \\\n",
       "count       1.252846e+06       1.252846e+06       1.252846e+06   \n",
       "mean        1.493192e+04       9.178897e+03       1.237123e+00   \n",
       "std         2.132031e+04       2.041888e+04       2.605071e+02   \n",
       "min        -1.000000e+00      -1.000000e+00      -3.266400e+04   \n",
       "25%         1.270000e+02      -1.000000e+00       0.000000e+00   \n",
       "50%         8.192000e+03       0.000000e+00       0.000000e+00   \n",
       "75%         2.688300e+04       2.550000e+02       1.000000e+00   \n",
       "max         6.553500e+04       6.553500e+04       3.217200e+04   \n",
       "\n",
       "       Fwd Seg Size Min   Active Mean    Active Std    Active Max  \\\n",
       "count      1.252846e+06  1.252846e+06  1.252846e+06  1.252846e+06   \n",
       "mean       1.830886e+01  7.112120e+04  3.308383e+04  1.186159e+05   \n",
       "std        7.243993e+00  1.056708e+06  5.714664e+05  1.398053e+06   \n",
       "min        0.000000e+00  0.000000e+00  0.000000e+00  0.000000e+00   \n",
       "25%        2.000000e+01  0.000000e+00  0.000000e+00  0.000000e+00   \n",
       "50%        2.000000e+01  0.000000e+00  0.000000e+00  0.000000e+00   \n",
       "75%        2.000000e+01  0.000000e+00  0.000000e+00  0.000000e+00   \n",
       "max        4.800000e+01  1.110000e+08  5.739751e+07  1.110000e+08   \n",
       "\n",
       "         Active Min     Idle Mean      Idle Std      Idle Max      Idle Min  \\\n",
       "count  1.252846e+06  1.252846e+06  1.252846e+06  1.252846e+06  1.252846e+06   \n",
       "mean   5.104884e+04  5.227947e+06  2.379458e+05  5.441625e+06  4.966927e+06   \n",
       "std    9.293325e+05  1.773220e+08  1.262057e+08  2.907424e+08  2.632555e+07   \n",
       "min    0.000000e+00  0.000000e+00  0.000000e+00  0.000000e+00  0.000000e+00   \n",
       "25%    0.000000e+00  0.000000e+00  0.000000e+00  0.000000e+00  0.000000e+00   \n",
       "50%    0.000000e+00  0.000000e+00  0.000000e+00  0.000000e+00  0.000000e+00   \n",
       "75%    0.000000e+00  0.000000e+00  0.000000e+00  0.000000e+00  0.000000e+00   \n",
       "max    1.110000e+08  1.974748e+11  1.412517e+11  3.248070e+11  2.175600e+10   \n",
       "\n",
       "              Label  \n",
       "count  1.252846e+06  \n",
       "mean   1.649700e+00  \n",
       "std    1.304563e+00  \n",
       "min    1.000000e+00  \n",
       "25%    1.000000e+00  \n",
       "50%    1.000000e+00  \n",
       "75%    1.000000e+00  \n",
       "max    1.100000e+01  "
      ]
     },
     "execution_count": 5,
     "metadata": {},
     "output_type": "execute_result"
    }
   ],
   "source": [
    "df_train.describe()"
   ]
  },
  {
   "cell_type": "code",
   "execution_count": 6,
   "id": "9772ccfe",
   "metadata": {},
   "outputs": [
    {
     "data": {
      "text/plain": [
       "(1252846, 79)"
      ]
     },
     "execution_count": 6,
     "metadata": {},
     "output_type": "execute_result"
    }
   ],
   "source": [
    "df_train.shape"
   ]
  },
  {
   "cell_type": "code",
   "execution_count": 7,
   "id": "639772fe",
   "metadata": {},
   "outputs": [
    {
     "data": {
      "text/plain": [
       "False"
      ]
     },
     "execution_count": 7,
     "metadata": {},
     "output_type": "execute_result"
    }
   ],
   "source": [
    "# Check for missing values\n",
    "df_train.isnull().sum().any()"
   ]
  },
  {
   "cell_type": "markdown",
   "id": "eb75e3aa",
   "metadata": {},
   "source": [
    "No missing values nor duplicate this shows that this dataset was well cleaned."
   ]
  },
  {
   "cell_type": "markdown",
   "id": "bdd533c4",
   "metadata": {},
   "source": [
    "## Preprocessing"
   ]
  },
  {
   "cell_type": "code",
   "execution_count": 8,
   "id": "71f04fa7",
   "metadata": {},
   "outputs": [
    {
     "name": "stdout",
     "output_type": "stream",
     "text": [
      "1     971016\n",
      "4     137185\n",
      "5      57507\n",
      "2      38703\n",
      "3      37323\n",
      "6       8377\n",
      "7       2234\n",
      "8        332\n",
      "9        103\n",
      "10        55\n",
      "11        11\n",
      "Name: Label, dtype: int64\n"
     ]
    }
   ],
   "source": [
    "target = 'Label'\n",
    "print(df_train.Label.value_counts())"
   ]
  },
  {
   "cell_type": "code",
   "execution_count": 9,
   "id": "836cd2f9",
   "metadata": {},
   "outputs": [],
   "source": [
    "old_value = 1\n",
    "new_value = 0\n",
    "df_train['Label'] = df_train['Label'].replace(old_value, new_value)"
   ]
  },
  {
   "cell_type": "code",
   "execution_count": 10,
   "id": "480efcf4",
   "metadata": {},
   "outputs": [],
   "source": [
    "for i in range(2, 12):\n",
    "    old_value = i\n",
    "    new_value = 1\n",
    "    df_train['Label'] = df_train['Label'].replace(old_value, new_value)"
   ]
  },
  {
   "cell_type": "code",
   "execution_count": 11,
   "id": "46404eb7",
   "metadata": {},
   "outputs": [
    {
     "data": {
      "text/plain": [
       "<bound method IndexOpsMixin.value_counts of 0          0\n",
       "1          0\n",
       "2          0\n",
       "3          0\n",
       "4          0\n",
       "          ..\n",
       "1252841    0\n",
       "1252842    0\n",
       "1252843    0\n",
       "1252844    0\n",
       "1252845    0\n",
       "Name: Label, Length: 1252846, dtype: int64>"
      ]
     },
     "execution_count": 11,
     "metadata": {},
     "output_type": "execute_result"
    }
   ],
   "source": [
    "df_train.Label.value_counts"
   ]
  },
  {
   "cell_type": "code",
   "execution_count": 12,
   "id": "55025c9f",
   "metadata": {},
   "outputs": [
    {
     "data": {
      "text/plain": [
       "0    971016\n",
       "1    281830\n",
       "Name: Label, dtype: int64"
      ]
     },
     "execution_count": 12,
     "metadata": {},
     "output_type": "execute_result"
    }
   ],
   "source": [
    "df_train[\"Label\"].value_counts()"
   ]
  },
  {
   "cell_type": "code",
   "execution_count": 13,
   "id": "81c57269",
   "metadata": {},
   "outputs": [
    {
     "data": {
      "text/html": [
       "        <script type=\"text/javascript\">\n",
       "        window.PlotlyConfig = {MathJaxConfig: 'local'};\n",
       "        if (window.MathJax && window.MathJax.Hub && window.MathJax.Hub.Config) {window.MathJax.Hub.Config({SVG: {font: \"STIX-Web\"}});}\n",
       "        if (typeof require !== 'undefined') {\n",
       "        require.undef(\"plotly\");\n",
       "        requirejs.config({\n",
       "            paths: {\n",
       "                'plotly': ['https://cdn.plot.ly/plotly-2.12.1.min']\n",
       "            }\n",
       "        });\n",
       "        require(['plotly'], function(Plotly) {\n",
       "            window._Plotly = Plotly;\n",
       "        });\n",
       "        }\n",
       "        </script>\n",
       "        "
      ]
     },
     "metadata": {},
     "output_type": "display_data"
    },
    {
     "data": {
      "application/vnd.plotly.v1+json": {
       "config": {
        "linkText": "Export to plot.ly",
        "plotlyServerURL": "https://plot.ly",
        "showLink": false
       },
       "data": [
        {
         "name": "Normal",
         "orientation": "v",
         "text": [
          971016
         ],
         "textposition": "outside",
         "type": "bar",
         "x": [
          "Normal"
         ],
         "y": [
          971016
         ]
        },
        {
         "name": "Attack",
         "orientation": "v",
         "text": [
          281830
         ],
         "textposition": "outside",
         "type": "bar",
         "x": [
          "Attack"
         ],
         "y": [
          281830
         ]
        }
       ],
       "layout": {
        "height": 600,
        "template": {
         "data": {
          "bar": [
           {
            "error_x": {
             "color": "#2a3f5f"
            },
            "error_y": {
             "color": "#2a3f5f"
            },
            "marker": {
             "line": {
              "color": "#E5ECF6",
              "width": 0.5
             },
             "pattern": {
              "fillmode": "overlay",
              "size": 10,
              "solidity": 0.2
             }
            },
            "type": "bar"
           }
          ],
          "barpolar": [
           {
            "marker": {
             "line": {
              "color": "#E5ECF6",
              "width": 0.5
             },
             "pattern": {
              "fillmode": "overlay",
              "size": 10,
              "solidity": 0.2
             }
            },
            "type": "barpolar"
           }
          ],
          "carpet": [
           {
            "aaxis": {
             "endlinecolor": "#2a3f5f",
             "gridcolor": "white",
             "linecolor": "white",
             "minorgridcolor": "white",
             "startlinecolor": "#2a3f5f"
            },
            "baxis": {
             "endlinecolor": "#2a3f5f",
             "gridcolor": "white",
             "linecolor": "white",
             "minorgridcolor": "white",
             "startlinecolor": "#2a3f5f"
            },
            "type": "carpet"
           }
          ],
          "choropleth": [
           {
            "colorbar": {
             "outlinewidth": 0,
             "ticks": ""
            },
            "type": "choropleth"
           }
          ],
          "contour": [
           {
            "colorbar": {
             "outlinewidth": 0,
             "ticks": ""
            },
            "colorscale": [
             [
              0,
              "#0d0887"
             ],
             [
              0.1111111111111111,
              "#46039f"
             ],
             [
              0.2222222222222222,
              "#7201a8"
             ],
             [
              0.3333333333333333,
              "#9c179e"
             ],
             [
              0.4444444444444444,
              "#bd3786"
             ],
             [
              0.5555555555555556,
              "#d8576b"
             ],
             [
              0.6666666666666666,
              "#ed7953"
             ],
             [
              0.7777777777777778,
              "#fb9f3a"
             ],
             [
              0.8888888888888888,
              "#fdca26"
             ],
             [
              1,
              "#f0f921"
             ]
            ],
            "type": "contour"
           }
          ],
          "contourcarpet": [
           {
            "colorbar": {
             "outlinewidth": 0,
             "ticks": ""
            },
            "type": "contourcarpet"
           }
          ],
          "heatmap": [
           {
            "colorbar": {
             "outlinewidth": 0,
             "ticks": ""
            },
            "colorscale": [
             [
              0,
              "#0d0887"
             ],
             [
              0.1111111111111111,
              "#46039f"
             ],
             [
              0.2222222222222222,
              "#7201a8"
             ],
             [
              0.3333333333333333,
              "#9c179e"
             ],
             [
              0.4444444444444444,
              "#bd3786"
             ],
             [
              0.5555555555555556,
              "#d8576b"
             ],
             [
              0.6666666666666666,
              "#ed7953"
             ],
             [
              0.7777777777777778,
              "#fb9f3a"
             ],
             [
              0.8888888888888888,
              "#fdca26"
             ],
             [
              1,
              "#f0f921"
             ]
            ],
            "type": "heatmap"
           }
          ],
          "heatmapgl": [
           {
            "colorbar": {
             "outlinewidth": 0,
             "ticks": ""
            },
            "colorscale": [
             [
              0,
              "#0d0887"
             ],
             [
              0.1111111111111111,
              "#46039f"
             ],
             [
              0.2222222222222222,
              "#7201a8"
             ],
             [
              0.3333333333333333,
              "#9c179e"
             ],
             [
              0.4444444444444444,
              "#bd3786"
             ],
             [
              0.5555555555555556,
              "#d8576b"
             ],
             [
              0.6666666666666666,
              "#ed7953"
             ],
             [
              0.7777777777777778,
              "#fb9f3a"
             ],
             [
              0.8888888888888888,
              "#fdca26"
             ],
             [
              1,
              "#f0f921"
             ]
            ],
            "type": "heatmapgl"
           }
          ],
          "histogram": [
           {
            "marker": {
             "pattern": {
              "fillmode": "overlay",
              "size": 10,
              "solidity": 0.2
             }
            },
            "type": "histogram"
           }
          ],
          "histogram2d": [
           {
            "colorbar": {
             "outlinewidth": 0,
             "ticks": ""
            },
            "colorscale": [
             [
              0,
              "#0d0887"
             ],
             [
              0.1111111111111111,
              "#46039f"
             ],
             [
              0.2222222222222222,
              "#7201a8"
             ],
             [
              0.3333333333333333,
              "#9c179e"
             ],
             [
              0.4444444444444444,
              "#bd3786"
             ],
             [
              0.5555555555555556,
              "#d8576b"
             ],
             [
              0.6666666666666666,
              "#ed7953"
             ],
             [
              0.7777777777777778,
              "#fb9f3a"
             ],
             [
              0.8888888888888888,
              "#fdca26"
             ],
             [
              1,
              "#f0f921"
             ]
            ],
            "type": "histogram2d"
           }
          ],
          "histogram2dcontour": [
           {
            "colorbar": {
             "outlinewidth": 0,
             "ticks": ""
            },
            "colorscale": [
             [
              0,
              "#0d0887"
             ],
             [
              0.1111111111111111,
              "#46039f"
             ],
             [
              0.2222222222222222,
              "#7201a8"
             ],
             [
              0.3333333333333333,
              "#9c179e"
             ],
             [
              0.4444444444444444,
              "#bd3786"
             ],
             [
              0.5555555555555556,
              "#d8576b"
             ],
             [
              0.6666666666666666,
              "#ed7953"
             ],
             [
              0.7777777777777778,
              "#fb9f3a"
             ],
             [
              0.8888888888888888,
              "#fdca26"
             ],
             [
              1,
              "#f0f921"
             ]
            ],
            "type": "histogram2dcontour"
           }
          ],
          "mesh3d": [
           {
            "colorbar": {
             "outlinewidth": 0,
             "ticks": ""
            },
            "type": "mesh3d"
           }
          ],
          "parcoords": [
           {
            "line": {
             "colorbar": {
              "outlinewidth": 0,
              "ticks": ""
             }
            },
            "type": "parcoords"
           }
          ],
          "pie": [
           {
            "automargin": true,
            "type": "pie"
           }
          ],
          "scatter": [
           {
            "fillpattern": {
             "fillmode": "overlay",
             "size": 10,
             "solidity": 0.2
            },
            "type": "scatter"
           }
          ],
          "scatter3d": [
           {
            "line": {
             "colorbar": {
              "outlinewidth": 0,
              "ticks": ""
             }
            },
            "marker": {
             "colorbar": {
              "outlinewidth": 0,
              "ticks": ""
             }
            },
            "type": "scatter3d"
           }
          ],
          "scattercarpet": [
           {
            "marker": {
             "colorbar": {
              "outlinewidth": 0,
              "ticks": ""
             }
            },
            "type": "scattercarpet"
           }
          ],
          "scattergeo": [
           {
            "marker": {
             "colorbar": {
              "outlinewidth": 0,
              "ticks": ""
             }
            },
            "type": "scattergeo"
           }
          ],
          "scattergl": [
           {
            "marker": {
             "colorbar": {
              "outlinewidth": 0,
              "ticks": ""
             }
            },
            "type": "scattergl"
           }
          ],
          "scattermapbox": [
           {
            "marker": {
             "colorbar": {
              "outlinewidth": 0,
              "ticks": ""
             }
            },
            "type": "scattermapbox"
           }
          ],
          "scatterpolar": [
           {
            "marker": {
             "colorbar": {
              "outlinewidth": 0,
              "ticks": ""
             }
            },
            "type": "scatterpolar"
           }
          ],
          "scatterpolargl": [
           {
            "marker": {
             "colorbar": {
              "outlinewidth": 0,
              "ticks": ""
             }
            },
            "type": "scatterpolargl"
           }
          ],
          "scatterternary": [
           {
            "marker": {
             "colorbar": {
              "outlinewidth": 0,
              "ticks": ""
             }
            },
            "type": "scatterternary"
           }
          ],
          "surface": [
           {
            "colorbar": {
             "outlinewidth": 0,
             "ticks": ""
            },
            "colorscale": [
             [
              0,
              "#0d0887"
             ],
             [
              0.1111111111111111,
              "#46039f"
             ],
             [
              0.2222222222222222,
              "#7201a8"
             ],
             [
              0.3333333333333333,
              "#9c179e"
             ],
             [
              0.4444444444444444,
              "#bd3786"
             ],
             [
              0.5555555555555556,
              "#d8576b"
             ],
             [
              0.6666666666666666,
              "#ed7953"
             ],
             [
              0.7777777777777778,
              "#fb9f3a"
             ],
             [
              0.8888888888888888,
              "#fdca26"
             ],
             [
              1,
              "#f0f921"
             ]
            ],
            "type": "surface"
           }
          ],
          "table": [
           {
            "cells": {
             "fill": {
              "color": "#EBF0F8"
             },
             "line": {
              "color": "white"
             }
            },
            "header": {
             "fill": {
              "color": "#C8D4E3"
             },
             "line": {
              "color": "white"
             }
            },
            "type": "table"
           }
          ]
         },
         "layout": {
          "annotationdefaults": {
           "arrowcolor": "#2a3f5f",
           "arrowhead": 0,
           "arrowwidth": 1
          },
          "autotypenumbers": "strict",
          "coloraxis": {
           "colorbar": {
            "outlinewidth": 0,
            "ticks": ""
           }
          },
          "colorscale": {
           "diverging": [
            [
             0,
             "#8e0152"
            ],
            [
             0.1,
             "#c51b7d"
            ],
            [
             0.2,
             "#de77ae"
            ],
            [
             0.3,
             "#f1b6da"
            ],
            [
             0.4,
             "#fde0ef"
            ],
            [
             0.5,
             "#f7f7f7"
            ],
            [
             0.6,
             "#e6f5d0"
            ],
            [
             0.7,
             "#b8e186"
            ],
            [
             0.8,
             "#7fbc41"
            ],
            [
             0.9,
             "#4d9221"
            ],
            [
             1,
             "#276419"
            ]
           ],
           "sequential": [
            [
             0,
             "#0d0887"
            ],
            [
             0.1111111111111111,
             "#46039f"
            ],
            [
             0.2222222222222222,
             "#7201a8"
            ],
            [
             0.3333333333333333,
             "#9c179e"
            ],
            [
             0.4444444444444444,
             "#bd3786"
            ],
            [
             0.5555555555555556,
             "#d8576b"
            ],
            [
             0.6666666666666666,
             "#ed7953"
            ],
            [
             0.7777777777777778,
             "#fb9f3a"
            ],
            [
             0.8888888888888888,
             "#fdca26"
            ],
            [
             1,
             "#f0f921"
            ]
           ],
           "sequentialminus": [
            [
             0,
             "#0d0887"
            ],
            [
             0.1111111111111111,
             "#46039f"
            ],
            [
             0.2222222222222222,
             "#7201a8"
            ],
            [
             0.3333333333333333,
             "#9c179e"
            ],
            [
             0.4444444444444444,
             "#bd3786"
            ],
            [
             0.5555555555555556,
             "#d8576b"
            ],
            [
             0.6666666666666666,
             "#ed7953"
            ],
            [
             0.7777777777777778,
             "#fb9f3a"
            ],
            [
             0.8888888888888888,
             "#fdca26"
            ],
            [
             1,
             "#f0f921"
            ]
           ]
          },
          "colorway": [
           "#636efa",
           "#EF553B",
           "#00cc96",
           "#ab63fa",
           "#FFA15A",
           "#19d3f3",
           "#FF6692",
           "#B6E880",
           "#FF97FF",
           "#FECB52"
          ],
          "font": {
           "color": "#2a3f5f"
          },
          "geo": {
           "bgcolor": "white",
           "lakecolor": "white",
           "landcolor": "#E5ECF6",
           "showlakes": true,
           "showland": true,
           "subunitcolor": "white"
          },
          "hoverlabel": {
           "align": "left"
          },
          "hovermode": "closest",
          "mapbox": {
           "style": "light"
          },
          "paper_bgcolor": "white",
          "plot_bgcolor": "#E5ECF6",
          "polar": {
           "angularaxis": {
            "gridcolor": "white",
            "linecolor": "white",
            "ticks": ""
           },
           "bgcolor": "#E5ECF6",
           "radialaxis": {
            "gridcolor": "white",
            "linecolor": "white",
            "ticks": ""
           }
          },
          "scene": {
           "xaxis": {
            "backgroundcolor": "#E5ECF6",
            "gridcolor": "white",
            "gridwidth": 2,
            "linecolor": "white",
            "showbackground": true,
            "ticks": "",
            "zerolinecolor": "white"
           },
           "yaxis": {
            "backgroundcolor": "#E5ECF6",
            "gridcolor": "white",
            "gridwidth": 2,
            "linecolor": "white",
            "showbackground": true,
            "ticks": "",
            "zerolinecolor": "white"
           },
           "zaxis": {
            "backgroundcolor": "#E5ECF6",
            "gridcolor": "white",
            "gridwidth": 2,
            "linecolor": "white",
            "showbackground": true,
            "ticks": "",
            "zerolinecolor": "white"
           }
          },
          "shapedefaults": {
           "line": {
            "color": "#2a3f5f"
           }
          },
          "ternary": {
           "aaxis": {
            "gridcolor": "white",
            "linecolor": "white",
            "ticks": ""
           },
           "baxis": {
            "gridcolor": "white",
            "linecolor": "white",
            "ticks": ""
           },
           "bgcolor": "#E5ECF6",
           "caxis": {
            "gridcolor": "white",
            "linecolor": "white",
            "ticks": ""
           }
          },
          "title": {
           "x": 0.05
          },
          "xaxis": {
           "automargin": true,
           "gridcolor": "white",
           "linecolor": "white",
           "ticks": "",
           "title": {
            "standoff": 15
           },
           "zerolinecolor": "white",
           "zerolinewidth": 2
          },
          "yaxis": {
           "automargin": true,
           "gridcolor": "white",
           "linecolor": "white",
           "ticks": "",
           "title": {
            "standoff": 15
           },
           "zerolinecolor": "white",
           "zerolinewidth": 2
          }
         }
        },
        "title": {
         "text": "Class Distribution"
        },
        "width": 800,
        "xaxis": {
         "title": {
          "text": "Attack Name"
         }
        },
        "yaxis": {
         "title": {
          "text": "Number of attacks"
         }
        }
       }
      },
      "text/html": [
       "<div>                            <div id=\"037e668c-d358-458a-80df-8789b075a1fb\" class=\"plotly-graph-div\" style=\"height:600px; width:800px;\"></div>            <script type=\"text/javascript\">                require([\"plotly\"], function(Plotly) {                    window.PLOTLYENV=window.PLOTLYENV || {};                                    if (document.getElementById(\"037e668c-d358-458a-80df-8789b075a1fb\")) {                    Plotly.newPlot(                        \"037e668c-d358-458a-80df-8789b075a1fb\",                        [{\"name\":\"Normal\",\"orientation\":\"v\",\"text\":[971016.0],\"textposition\":\"outside\",\"x\":[\"Normal\"],\"y\":[971016],\"type\":\"bar\"},{\"name\":\"Attack\",\"orientation\":\"v\",\"text\":[281830.0],\"textposition\":\"outside\",\"x\":[\"Attack\"],\"y\":[281830],\"type\":\"bar\"}],                        {\"height\":600,\"template\":{\"data\":{\"barpolar\":[{\"marker\":{\"line\":{\"color\":\"#E5ECF6\",\"width\":0.5},\"pattern\":{\"fillmode\":\"overlay\",\"size\":10,\"solidity\":0.2}},\"type\":\"barpolar\"}],\"bar\":[{\"error_x\":{\"color\":\"#2a3f5f\"},\"error_y\":{\"color\":\"#2a3f5f\"},\"marker\":{\"line\":{\"color\":\"#E5ECF6\",\"width\":0.5},\"pattern\":{\"fillmode\":\"overlay\",\"size\":10,\"solidity\":0.2}},\"type\":\"bar\"}],\"carpet\":[{\"aaxis\":{\"endlinecolor\":\"#2a3f5f\",\"gridcolor\":\"white\",\"linecolor\":\"white\",\"minorgridcolor\":\"white\",\"startlinecolor\":\"#2a3f5f\"},\"baxis\":{\"endlinecolor\":\"#2a3f5f\",\"gridcolor\":\"white\",\"linecolor\":\"white\",\"minorgridcolor\":\"white\",\"startlinecolor\":\"#2a3f5f\"},\"type\":\"carpet\"}],\"choropleth\":[{\"colorbar\":{\"outlinewidth\":0,\"ticks\":\"\"},\"type\":\"choropleth\"}],\"contourcarpet\":[{\"colorbar\":{\"outlinewidth\":0,\"ticks\":\"\"},\"type\":\"contourcarpet\"}],\"contour\":[{\"colorbar\":{\"outlinewidth\":0,\"ticks\":\"\"},\"colorscale\":[[0.0,\"#0d0887\"],[0.1111111111111111,\"#46039f\"],[0.2222222222222222,\"#7201a8\"],[0.3333333333333333,\"#9c179e\"],[0.4444444444444444,\"#bd3786\"],[0.5555555555555556,\"#d8576b\"],[0.6666666666666666,\"#ed7953\"],[0.7777777777777778,\"#fb9f3a\"],[0.8888888888888888,\"#fdca26\"],[1.0,\"#f0f921\"]],\"type\":\"contour\"}],\"heatmapgl\":[{\"colorbar\":{\"outlinewidth\":0,\"ticks\":\"\"},\"colorscale\":[[0.0,\"#0d0887\"],[0.1111111111111111,\"#46039f\"],[0.2222222222222222,\"#7201a8\"],[0.3333333333333333,\"#9c179e\"],[0.4444444444444444,\"#bd3786\"],[0.5555555555555556,\"#d8576b\"],[0.6666666666666666,\"#ed7953\"],[0.7777777777777778,\"#fb9f3a\"],[0.8888888888888888,\"#fdca26\"],[1.0,\"#f0f921\"]],\"type\":\"heatmapgl\"}],\"heatmap\":[{\"colorbar\":{\"outlinewidth\":0,\"ticks\":\"\"},\"colorscale\":[[0.0,\"#0d0887\"],[0.1111111111111111,\"#46039f\"],[0.2222222222222222,\"#7201a8\"],[0.3333333333333333,\"#9c179e\"],[0.4444444444444444,\"#bd3786\"],[0.5555555555555556,\"#d8576b\"],[0.6666666666666666,\"#ed7953\"],[0.7777777777777778,\"#fb9f3a\"],[0.8888888888888888,\"#fdca26\"],[1.0,\"#f0f921\"]],\"type\":\"heatmap\"}],\"histogram2dcontour\":[{\"colorbar\":{\"outlinewidth\":0,\"ticks\":\"\"},\"colorscale\":[[0.0,\"#0d0887\"],[0.1111111111111111,\"#46039f\"],[0.2222222222222222,\"#7201a8\"],[0.3333333333333333,\"#9c179e\"],[0.4444444444444444,\"#bd3786\"],[0.5555555555555556,\"#d8576b\"],[0.6666666666666666,\"#ed7953\"],[0.7777777777777778,\"#fb9f3a\"],[0.8888888888888888,\"#fdca26\"],[1.0,\"#f0f921\"]],\"type\":\"histogram2dcontour\"}],\"histogram2d\":[{\"colorbar\":{\"outlinewidth\":0,\"ticks\":\"\"},\"colorscale\":[[0.0,\"#0d0887\"],[0.1111111111111111,\"#46039f\"],[0.2222222222222222,\"#7201a8\"],[0.3333333333333333,\"#9c179e\"],[0.4444444444444444,\"#bd3786\"],[0.5555555555555556,\"#d8576b\"],[0.6666666666666666,\"#ed7953\"],[0.7777777777777778,\"#fb9f3a\"],[0.8888888888888888,\"#fdca26\"],[1.0,\"#f0f921\"]],\"type\":\"histogram2d\"}],\"histogram\":[{\"marker\":{\"pattern\":{\"fillmode\":\"overlay\",\"size\":10,\"solidity\":0.2}},\"type\":\"histogram\"}],\"mesh3d\":[{\"colorbar\":{\"outlinewidth\":0,\"ticks\":\"\"},\"type\":\"mesh3d\"}],\"parcoords\":[{\"line\":{\"colorbar\":{\"outlinewidth\":0,\"ticks\":\"\"}},\"type\":\"parcoords\"}],\"pie\":[{\"automargin\":true,\"type\":\"pie\"}],\"scatter3d\":[{\"line\":{\"colorbar\":{\"outlinewidth\":0,\"ticks\":\"\"}},\"marker\":{\"colorbar\":{\"outlinewidth\":0,\"ticks\":\"\"}},\"type\":\"scatter3d\"}],\"scattercarpet\":[{\"marker\":{\"colorbar\":{\"outlinewidth\":0,\"ticks\":\"\"}},\"type\":\"scattercarpet\"}],\"scattergeo\":[{\"marker\":{\"colorbar\":{\"outlinewidth\":0,\"ticks\":\"\"}},\"type\":\"scattergeo\"}],\"scattergl\":[{\"marker\":{\"colorbar\":{\"outlinewidth\":0,\"ticks\":\"\"}},\"type\":\"scattergl\"}],\"scattermapbox\":[{\"marker\":{\"colorbar\":{\"outlinewidth\":0,\"ticks\":\"\"}},\"type\":\"scattermapbox\"}],\"scatterpolargl\":[{\"marker\":{\"colorbar\":{\"outlinewidth\":0,\"ticks\":\"\"}},\"type\":\"scatterpolargl\"}],\"scatterpolar\":[{\"marker\":{\"colorbar\":{\"outlinewidth\":0,\"ticks\":\"\"}},\"type\":\"scatterpolar\"}],\"scatter\":[{\"fillpattern\":{\"fillmode\":\"overlay\",\"size\":10,\"solidity\":0.2},\"type\":\"scatter\"}],\"scatterternary\":[{\"marker\":{\"colorbar\":{\"outlinewidth\":0,\"ticks\":\"\"}},\"type\":\"scatterternary\"}],\"surface\":[{\"colorbar\":{\"outlinewidth\":0,\"ticks\":\"\"},\"colorscale\":[[0.0,\"#0d0887\"],[0.1111111111111111,\"#46039f\"],[0.2222222222222222,\"#7201a8\"],[0.3333333333333333,\"#9c179e\"],[0.4444444444444444,\"#bd3786\"],[0.5555555555555556,\"#d8576b\"],[0.6666666666666666,\"#ed7953\"],[0.7777777777777778,\"#fb9f3a\"],[0.8888888888888888,\"#fdca26\"],[1.0,\"#f0f921\"]],\"type\":\"surface\"}],\"table\":[{\"cells\":{\"fill\":{\"color\":\"#EBF0F8\"},\"line\":{\"color\":\"white\"}},\"header\":{\"fill\":{\"color\":\"#C8D4E3\"},\"line\":{\"color\":\"white\"}},\"type\":\"table\"}]},\"layout\":{\"annotationdefaults\":{\"arrowcolor\":\"#2a3f5f\",\"arrowhead\":0,\"arrowwidth\":1},\"autotypenumbers\":\"strict\",\"coloraxis\":{\"colorbar\":{\"outlinewidth\":0,\"ticks\":\"\"}},\"colorscale\":{\"diverging\":[[0,\"#8e0152\"],[0.1,\"#c51b7d\"],[0.2,\"#de77ae\"],[0.3,\"#f1b6da\"],[0.4,\"#fde0ef\"],[0.5,\"#f7f7f7\"],[0.6,\"#e6f5d0\"],[0.7,\"#b8e186\"],[0.8,\"#7fbc41\"],[0.9,\"#4d9221\"],[1,\"#276419\"]],\"sequential\":[[0.0,\"#0d0887\"],[0.1111111111111111,\"#46039f\"],[0.2222222222222222,\"#7201a8\"],[0.3333333333333333,\"#9c179e\"],[0.4444444444444444,\"#bd3786\"],[0.5555555555555556,\"#d8576b\"],[0.6666666666666666,\"#ed7953\"],[0.7777777777777778,\"#fb9f3a\"],[0.8888888888888888,\"#fdca26\"],[1.0,\"#f0f921\"]],\"sequentialminus\":[[0.0,\"#0d0887\"],[0.1111111111111111,\"#46039f\"],[0.2222222222222222,\"#7201a8\"],[0.3333333333333333,\"#9c179e\"],[0.4444444444444444,\"#bd3786\"],[0.5555555555555556,\"#d8576b\"],[0.6666666666666666,\"#ed7953\"],[0.7777777777777778,\"#fb9f3a\"],[0.8888888888888888,\"#fdca26\"],[1.0,\"#f0f921\"]]},\"colorway\":[\"#636efa\",\"#EF553B\",\"#00cc96\",\"#ab63fa\",\"#FFA15A\",\"#19d3f3\",\"#FF6692\",\"#B6E880\",\"#FF97FF\",\"#FECB52\"],\"font\":{\"color\":\"#2a3f5f\"},\"geo\":{\"bgcolor\":\"white\",\"lakecolor\":\"white\",\"landcolor\":\"#E5ECF6\",\"showlakes\":true,\"showland\":true,\"subunitcolor\":\"white\"},\"hoverlabel\":{\"align\":\"left\"},\"hovermode\":\"closest\",\"mapbox\":{\"style\":\"light\"},\"paper_bgcolor\":\"white\",\"plot_bgcolor\":\"#E5ECF6\",\"polar\":{\"angularaxis\":{\"gridcolor\":\"white\",\"linecolor\":\"white\",\"ticks\":\"\"},\"bgcolor\":\"#E5ECF6\",\"radialaxis\":{\"gridcolor\":\"white\",\"linecolor\":\"white\",\"ticks\":\"\"}},\"scene\":{\"xaxis\":{\"backgroundcolor\":\"#E5ECF6\",\"gridcolor\":\"white\",\"gridwidth\":2,\"linecolor\":\"white\",\"showbackground\":true,\"ticks\":\"\",\"zerolinecolor\":\"white\"},\"yaxis\":{\"backgroundcolor\":\"#E5ECF6\",\"gridcolor\":\"white\",\"gridwidth\":2,\"linecolor\":\"white\",\"showbackground\":true,\"ticks\":\"\",\"zerolinecolor\":\"white\"},\"zaxis\":{\"backgroundcolor\":\"#E5ECF6\",\"gridcolor\":\"white\",\"gridwidth\":2,\"linecolor\":\"white\",\"showbackground\":true,\"ticks\":\"\",\"zerolinecolor\":\"white\"}},\"shapedefaults\":{\"line\":{\"color\":\"#2a3f5f\"}},\"ternary\":{\"aaxis\":{\"gridcolor\":\"white\",\"linecolor\":\"white\",\"ticks\":\"\"},\"baxis\":{\"gridcolor\":\"white\",\"linecolor\":\"white\",\"ticks\":\"\"},\"bgcolor\":\"#E5ECF6\",\"caxis\":{\"gridcolor\":\"white\",\"linecolor\":\"white\",\"ticks\":\"\"}},\"title\":{\"x\":0.05},\"xaxis\":{\"automargin\":true,\"gridcolor\":\"white\",\"linecolor\":\"white\",\"ticks\":\"\",\"title\":{\"standoff\":15},\"zerolinecolor\":\"white\",\"zerolinewidth\":2},\"yaxis\":{\"automargin\":true,\"gridcolor\":\"white\",\"linecolor\":\"white\",\"ticks\":\"\",\"title\":{\"standoff\":15},\"zerolinecolor\":\"white\",\"zerolinewidth\":2}}},\"title\":{\"text\":\"Class Distribution\"},\"width\":800,\"xaxis\":{\"title\":{\"text\":\"Attack Name\"}},\"yaxis\":{\"title\":{\"text\":\"Number of attacks\"}}},                        {\"responsive\": true}                    ).then(function(){\n",
       "                            \n",
       "var gd = document.getElementById('037e668c-d358-458a-80df-8789b075a1fb');\n",
       "var x = new MutationObserver(function (mutations, observer) {{\n",
       "        var display = window.getComputedStyle(gd).display;\n",
       "        if (!display || display === 'none') {{\n",
       "            console.log([gd, 'removed!']);\n",
       "            Plotly.purge(gd);\n",
       "            observer.disconnect();\n",
       "        }}\n",
       "}});\n",
       "\n",
       "// Listen for the removal of the full notebook cells\n",
       "var notebookContainer = gd.closest('#notebook-container');\n",
       "if (notebookContainer) {{\n",
       "    x.observe(notebookContainer, {childList: true});\n",
       "}}\n",
       "\n",
       "// Listen for the clearing of the current output cell\n",
       "var outputEl = gd.closest('.output');\n",
       "if (outputEl) {{\n",
       "    x.observe(outputEl, {childList: true});\n",
       "}}\n",
       "\n",
       "                        })                };                });            </script>        </div>"
      ]
     },
     "metadata": {},
     "output_type": "display_data"
    }
   ],
   "source": [
    "import joblib\n",
    "import sklearn\n",
    "from sklearn.utils import class_weight\n",
    "from sklearn.preprocessing import MinMaxScaler\n",
    "from sklearn.ensemble import RandomForestClassifier\n",
    "from sklearn.model_selection import GridSearchCV, train_test_split\n",
    "from sklearn.metrics import accuracy_score, classification_report, confusion_matrix\n",
    "\n",
    "\n",
    "RANDOM_STATE_SEED = 12\n",
    "\n",
    "from plotly.offline import init_notebook_mode, iplot, plot\n",
    "import plotly as py\n",
    "import plotly.express as px\n",
    "init_notebook_mode(connected=True)\n",
    "import plotly.graph_objs as go\n",
    "\n",
    "df = df_train\n",
    "fig = go.Figure(data=[\n",
    "    go.Bar(name='Normal', \n",
    "           y=df[\"Label\"].value_counts().values[0:1],\n",
    "           x=['Normal'],\n",
    "           text = df[\"Label\"].value_counts()[0:1],\n",
    "           orientation='v',\n",
    "           textposition='outside',),\n",
    "    go.Bar(name='Attack', \n",
    "           y=df[\"Label\"].value_counts().values[1:2],\n",
    "           x=['Attack'],\n",
    "           text = df[\"Label\"].value_counts()[1:2],\n",
    "           orientation='v',\n",
    "           textposition='outside',)\n",
    "])\n",
    "# Change the bar mode\n",
    "fig.update_layout(\n",
    "                  width=800,\n",
    "                  height=600,\n",
    "                  title=f'Class Distribution',\n",
    "                  yaxis_title='Number of attacks',\n",
    "                  xaxis_title='Attack Name',)\n",
    "iplot(fig)\n"
   ]
  },
  {
   "cell_type": "code",
   "execution_count": 14,
   "id": "69c21e83",
   "metadata": {},
   "outputs": [],
   "source": [
    "df1 = df[df[\"Label\"] == 0][:25000]\n",
    "df2 = df[df[\"Label\"] == 1][:25000]\n",
    "df_equal = pd.concat([ df1,df2], axis =0)"
   ]
  },
  {
   "cell_type": "code",
   "execution_count": 15,
   "id": "31e12c53",
   "metadata": {},
   "outputs": [],
   "source": [
    "from sklearn.model_selection import RandomizedSearchCV\n",
    "from scipy.stats import randint"
   ]
  },
  {
   "cell_type": "code",
   "execution_count": 16,
   "id": "8c74cc97",
   "metadata": {},
   "outputs": [
    {
     "data": {
      "application/vnd.plotly.v1+json": {
       "config": {
        "linkText": "Export to plot.ly",
        "plotlyServerURL": "https://plot.ly",
        "showLink": false
       },
       "data": [
        {
         "name": "Normal",
         "orientation": "v",
         "text": [
          25000
         ],
         "textposition": "outside",
         "type": "bar",
         "x": [
          "Normal"
         ],
         "y": [
          25000
         ]
        },
        {
         "name": "Attack",
         "orientation": "v",
         "text": [
          25000
         ],
         "textposition": "outside",
         "type": "bar",
         "x": [
          "Attack"
         ],
         "y": [
          25000
         ]
        }
       ],
       "layout": {
        "height": 600,
        "template": {
         "data": {
          "bar": [
           {
            "error_x": {
             "color": "#2a3f5f"
            },
            "error_y": {
             "color": "#2a3f5f"
            },
            "marker": {
             "line": {
              "color": "#E5ECF6",
              "width": 0.5
             },
             "pattern": {
              "fillmode": "overlay",
              "size": 10,
              "solidity": 0.2
             }
            },
            "type": "bar"
           }
          ],
          "barpolar": [
           {
            "marker": {
             "line": {
              "color": "#E5ECF6",
              "width": 0.5
             },
             "pattern": {
              "fillmode": "overlay",
              "size": 10,
              "solidity": 0.2
             }
            },
            "type": "barpolar"
           }
          ],
          "carpet": [
           {
            "aaxis": {
             "endlinecolor": "#2a3f5f",
             "gridcolor": "white",
             "linecolor": "white",
             "minorgridcolor": "white",
             "startlinecolor": "#2a3f5f"
            },
            "baxis": {
             "endlinecolor": "#2a3f5f",
             "gridcolor": "white",
             "linecolor": "white",
             "minorgridcolor": "white",
             "startlinecolor": "#2a3f5f"
            },
            "type": "carpet"
           }
          ],
          "choropleth": [
           {
            "colorbar": {
             "outlinewidth": 0,
             "ticks": ""
            },
            "type": "choropleth"
           }
          ],
          "contour": [
           {
            "colorbar": {
             "outlinewidth": 0,
             "ticks": ""
            },
            "colorscale": [
             [
              0,
              "#0d0887"
             ],
             [
              0.1111111111111111,
              "#46039f"
             ],
             [
              0.2222222222222222,
              "#7201a8"
             ],
             [
              0.3333333333333333,
              "#9c179e"
             ],
             [
              0.4444444444444444,
              "#bd3786"
             ],
             [
              0.5555555555555556,
              "#d8576b"
             ],
             [
              0.6666666666666666,
              "#ed7953"
             ],
             [
              0.7777777777777778,
              "#fb9f3a"
             ],
             [
              0.8888888888888888,
              "#fdca26"
             ],
             [
              1,
              "#f0f921"
             ]
            ],
            "type": "contour"
           }
          ],
          "contourcarpet": [
           {
            "colorbar": {
             "outlinewidth": 0,
             "ticks": ""
            },
            "type": "contourcarpet"
           }
          ],
          "heatmap": [
           {
            "colorbar": {
             "outlinewidth": 0,
             "ticks": ""
            },
            "colorscale": [
             [
              0,
              "#0d0887"
             ],
             [
              0.1111111111111111,
              "#46039f"
             ],
             [
              0.2222222222222222,
              "#7201a8"
             ],
             [
              0.3333333333333333,
              "#9c179e"
             ],
             [
              0.4444444444444444,
              "#bd3786"
             ],
             [
              0.5555555555555556,
              "#d8576b"
             ],
             [
              0.6666666666666666,
              "#ed7953"
             ],
             [
              0.7777777777777778,
              "#fb9f3a"
             ],
             [
              0.8888888888888888,
              "#fdca26"
             ],
             [
              1,
              "#f0f921"
             ]
            ],
            "type": "heatmap"
           }
          ],
          "heatmapgl": [
           {
            "colorbar": {
             "outlinewidth": 0,
             "ticks": ""
            },
            "colorscale": [
             [
              0,
              "#0d0887"
             ],
             [
              0.1111111111111111,
              "#46039f"
             ],
             [
              0.2222222222222222,
              "#7201a8"
             ],
             [
              0.3333333333333333,
              "#9c179e"
             ],
             [
              0.4444444444444444,
              "#bd3786"
             ],
             [
              0.5555555555555556,
              "#d8576b"
             ],
             [
              0.6666666666666666,
              "#ed7953"
             ],
             [
              0.7777777777777778,
              "#fb9f3a"
             ],
             [
              0.8888888888888888,
              "#fdca26"
             ],
             [
              1,
              "#f0f921"
             ]
            ],
            "type": "heatmapgl"
           }
          ],
          "histogram": [
           {
            "marker": {
             "pattern": {
              "fillmode": "overlay",
              "size": 10,
              "solidity": 0.2
             }
            },
            "type": "histogram"
           }
          ],
          "histogram2d": [
           {
            "colorbar": {
             "outlinewidth": 0,
             "ticks": ""
            },
            "colorscale": [
             [
              0,
              "#0d0887"
             ],
             [
              0.1111111111111111,
              "#46039f"
             ],
             [
              0.2222222222222222,
              "#7201a8"
             ],
             [
              0.3333333333333333,
              "#9c179e"
             ],
             [
              0.4444444444444444,
              "#bd3786"
             ],
             [
              0.5555555555555556,
              "#d8576b"
             ],
             [
              0.6666666666666666,
              "#ed7953"
             ],
             [
              0.7777777777777778,
              "#fb9f3a"
             ],
             [
              0.8888888888888888,
              "#fdca26"
             ],
             [
              1,
              "#f0f921"
             ]
            ],
            "type": "histogram2d"
           }
          ],
          "histogram2dcontour": [
           {
            "colorbar": {
             "outlinewidth": 0,
             "ticks": ""
            },
            "colorscale": [
             [
              0,
              "#0d0887"
             ],
             [
              0.1111111111111111,
              "#46039f"
             ],
             [
              0.2222222222222222,
              "#7201a8"
             ],
             [
              0.3333333333333333,
              "#9c179e"
             ],
             [
              0.4444444444444444,
              "#bd3786"
             ],
             [
              0.5555555555555556,
              "#d8576b"
             ],
             [
              0.6666666666666666,
              "#ed7953"
             ],
             [
              0.7777777777777778,
              "#fb9f3a"
             ],
             [
              0.8888888888888888,
              "#fdca26"
             ],
             [
              1,
              "#f0f921"
             ]
            ],
            "type": "histogram2dcontour"
           }
          ],
          "mesh3d": [
           {
            "colorbar": {
             "outlinewidth": 0,
             "ticks": ""
            },
            "type": "mesh3d"
           }
          ],
          "parcoords": [
           {
            "line": {
             "colorbar": {
              "outlinewidth": 0,
              "ticks": ""
             }
            },
            "type": "parcoords"
           }
          ],
          "pie": [
           {
            "automargin": true,
            "type": "pie"
           }
          ],
          "scatter": [
           {
            "fillpattern": {
             "fillmode": "overlay",
             "size": 10,
             "solidity": 0.2
            },
            "type": "scatter"
           }
          ],
          "scatter3d": [
           {
            "line": {
             "colorbar": {
              "outlinewidth": 0,
              "ticks": ""
             }
            },
            "marker": {
             "colorbar": {
              "outlinewidth": 0,
              "ticks": ""
             }
            },
            "type": "scatter3d"
           }
          ],
          "scattercarpet": [
           {
            "marker": {
             "colorbar": {
              "outlinewidth": 0,
              "ticks": ""
             }
            },
            "type": "scattercarpet"
           }
          ],
          "scattergeo": [
           {
            "marker": {
             "colorbar": {
              "outlinewidth": 0,
              "ticks": ""
             }
            },
            "type": "scattergeo"
           }
          ],
          "scattergl": [
           {
            "marker": {
             "colorbar": {
              "outlinewidth": 0,
              "ticks": ""
             }
            },
            "type": "scattergl"
           }
          ],
          "scattermapbox": [
           {
            "marker": {
             "colorbar": {
              "outlinewidth": 0,
              "ticks": ""
             }
            },
            "type": "scattermapbox"
           }
          ],
          "scatterpolar": [
           {
            "marker": {
             "colorbar": {
              "outlinewidth": 0,
              "ticks": ""
             }
            },
            "type": "scatterpolar"
           }
          ],
          "scatterpolargl": [
           {
            "marker": {
             "colorbar": {
              "outlinewidth": 0,
              "ticks": ""
             }
            },
            "type": "scatterpolargl"
           }
          ],
          "scatterternary": [
           {
            "marker": {
             "colorbar": {
              "outlinewidth": 0,
              "ticks": ""
             }
            },
            "type": "scatterternary"
           }
          ],
          "surface": [
           {
            "colorbar": {
             "outlinewidth": 0,
             "ticks": ""
            },
            "colorscale": [
             [
              0,
              "#0d0887"
             ],
             [
              0.1111111111111111,
              "#46039f"
             ],
             [
              0.2222222222222222,
              "#7201a8"
             ],
             [
              0.3333333333333333,
              "#9c179e"
             ],
             [
              0.4444444444444444,
              "#bd3786"
             ],
             [
              0.5555555555555556,
              "#d8576b"
             ],
             [
              0.6666666666666666,
              "#ed7953"
             ],
             [
              0.7777777777777778,
              "#fb9f3a"
             ],
             [
              0.8888888888888888,
              "#fdca26"
             ],
             [
              1,
              "#f0f921"
             ]
            ],
            "type": "surface"
           }
          ],
          "table": [
           {
            "cells": {
             "fill": {
              "color": "#EBF0F8"
             },
             "line": {
              "color": "white"
             }
            },
            "header": {
             "fill": {
              "color": "#C8D4E3"
             },
             "line": {
              "color": "white"
             }
            },
            "type": "table"
           }
          ]
         },
         "layout": {
          "annotationdefaults": {
           "arrowcolor": "#2a3f5f",
           "arrowhead": 0,
           "arrowwidth": 1
          },
          "autotypenumbers": "strict",
          "coloraxis": {
           "colorbar": {
            "outlinewidth": 0,
            "ticks": ""
           }
          },
          "colorscale": {
           "diverging": [
            [
             0,
             "#8e0152"
            ],
            [
             0.1,
             "#c51b7d"
            ],
            [
             0.2,
             "#de77ae"
            ],
            [
             0.3,
             "#f1b6da"
            ],
            [
             0.4,
             "#fde0ef"
            ],
            [
             0.5,
             "#f7f7f7"
            ],
            [
             0.6,
             "#e6f5d0"
            ],
            [
             0.7,
             "#b8e186"
            ],
            [
             0.8,
             "#7fbc41"
            ],
            [
             0.9,
             "#4d9221"
            ],
            [
             1,
             "#276419"
            ]
           ],
           "sequential": [
            [
             0,
             "#0d0887"
            ],
            [
             0.1111111111111111,
             "#46039f"
            ],
            [
             0.2222222222222222,
             "#7201a8"
            ],
            [
             0.3333333333333333,
             "#9c179e"
            ],
            [
             0.4444444444444444,
             "#bd3786"
            ],
            [
             0.5555555555555556,
             "#d8576b"
            ],
            [
             0.6666666666666666,
             "#ed7953"
            ],
            [
             0.7777777777777778,
             "#fb9f3a"
            ],
            [
             0.8888888888888888,
             "#fdca26"
            ],
            [
             1,
             "#f0f921"
            ]
           ],
           "sequentialminus": [
            [
             0,
             "#0d0887"
            ],
            [
             0.1111111111111111,
             "#46039f"
            ],
            [
             0.2222222222222222,
             "#7201a8"
            ],
            [
             0.3333333333333333,
             "#9c179e"
            ],
            [
             0.4444444444444444,
             "#bd3786"
            ],
            [
             0.5555555555555556,
             "#d8576b"
            ],
            [
             0.6666666666666666,
             "#ed7953"
            ],
            [
             0.7777777777777778,
             "#fb9f3a"
            ],
            [
             0.8888888888888888,
             "#fdca26"
            ],
            [
             1,
             "#f0f921"
            ]
           ]
          },
          "colorway": [
           "#636efa",
           "#EF553B",
           "#00cc96",
           "#ab63fa",
           "#FFA15A",
           "#19d3f3",
           "#FF6692",
           "#B6E880",
           "#FF97FF",
           "#FECB52"
          ],
          "font": {
           "color": "#2a3f5f"
          },
          "geo": {
           "bgcolor": "white",
           "lakecolor": "white",
           "landcolor": "#E5ECF6",
           "showlakes": true,
           "showland": true,
           "subunitcolor": "white"
          },
          "hoverlabel": {
           "align": "left"
          },
          "hovermode": "closest",
          "mapbox": {
           "style": "light"
          },
          "paper_bgcolor": "white",
          "plot_bgcolor": "#E5ECF6",
          "polar": {
           "angularaxis": {
            "gridcolor": "white",
            "linecolor": "white",
            "ticks": ""
           },
           "bgcolor": "#E5ECF6",
           "radialaxis": {
            "gridcolor": "white",
            "linecolor": "white",
            "ticks": ""
           }
          },
          "scene": {
           "xaxis": {
            "backgroundcolor": "#E5ECF6",
            "gridcolor": "white",
            "gridwidth": 2,
            "linecolor": "white",
            "showbackground": true,
            "ticks": "",
            "zerolinecolor": "white"
           },
           "yaxis": {
            "backgroundcolor": "#E5ECF6",
            "gridcolor": "white",
            "gridwidth": 2,
            "linecolor": "white",
            "showbackground": true,
            "ticks": "",
            "zerolinecolor": "white"
           },
           "zaxis": {
            "backgroundcolor": "#E5ECF6",
            "gridcolor": "white",
            "gridwidth": 2,
            "linecolor": "white",
            "showbackground": true,
            "ticks": "",
            "zerolinecolor": "white"
           }
          },
          "shapedefaults": {
           "line": {
            "color": "#2a3f5f"
           }
          },
          "ternary": {
           "aaxis": {
            "gridcolor": "white",
            "linecolor": "white",
            "ticks": ""
           },
           "baxis": {
            "gridcolor": "white",
            "linecolor": "white",
            "ticks": ""
           },
           "bgcolor": "#E5ECF6",
           "caxis": {
            "gridcolor": "white",
            "linecolor": "white",
            "ticks": ""
           }
          },
          "title": {
           "x": 0.05
          },
          "xaxis": {
           "automargin": true,
           "gridcolor": "white",
           "linecolor": "white",
           "ticks": "",
           "title": {
            "standoff": 15
           },
           "zerolinecolor": "white",
           "zerolinewidth": 2
          },
          "yaxis": {
           "automargin": true,
           "gridcolor": "white",
           "linecolor": "white",
           "ticks": "",
           "title": {
            "standoff": 15
           },
           "zerolinecolor": "white",
           "zerolinewidth": 2
          }
         }
        },
        "title": {
         "text": "Class Distribution"
        },
        "width": 800,
        "xaxis": {
         "title": {
          "text": "Attack Name"
         }
        },
        "yaxis": {
         "title": {
          "text": "Number of attacks"
         }
        }
       }
      },
      "text/html": [
       "<div>                            <div id=\"0da09aa5-a132-4f30-9225-a95cd43162c1\" class=\"plotly-graph-div\" style=\"height:600px; width:800px;\"></div>            <script type=\"text/javascript\">                require([\"plotly\"], function(Plotly) {                    window.PLOTLYENV=window.PLOTLYENV || {};                                    if (document.getElementById(\"0da09aa5-a132-4f30-9225-a95cd43162c1\")) {                    Plotly.newPlot(                        \"0da09aa5-a132-4f30-9225-a95cd43162c1\",                        [{\"name\":\"Normal\",\"orientation\":\"v\",\"text\":[25000.0],\"textposition\":\"outside\",\"x\":[\"Normal\"],\"y\":[25000],\"type\":\"bar\"},{\"name\":\"Attack\",\"orientation\":\"v\",\"text\":[25000.0],\"textposition\":\"outside\",\"x\":[\"Attack\"],\"y\":[25000],\"type\":\"bar\"}],                        {\"height\":600,\"template\":{\"data\":{\"barpolar\":[{\"marker\":{\"line\":{\"color\":\"#E5ECF6\",\"width\":0.5},\"pattern\":{\"fillmode\":\"overlay\",\"size\":10,\"solidity\":0.2}},\"type\":\"barpolar\"}],\"bar\":[{\"error_x\":{\"color\":\"#2a3f5f\"},\"error_y\":{\"color\":\"#2a3f5f\"},\"marker\":{\"line\":{\"color\":\"#E5ECF6\",\"width\":0.5},\"pattern\":{\"fillmode\":\"overlay\",\"size\":10,\"solidity\":0.2}},\"type\":\"bar\"}],\"carpet\":[{\"aaxis\":{\"endlinecolor\":\"#2a3f5f\",\"gridcolor\":\"white\",\"linecolor\":\"white\",\"minorgridcolor\":\"white\",\"startlinecolor\":\"#2a3f5f\"},\"baxis\":{\"endlinecolor\":\"#2a3f5f\",\"gridcolor\":\"white\",\"linecolor\":\"white\",\"minorgridcolor\":\"white\",\"startlinecolor\":\"#2a3f5f\"},\"type\":\"carpet\"}],\"choropleth\":[{\"colorbar\":{\"outlinewidth\":0,\"ticks\":\"\"},\"type\":\"choropleth\"}],\"contourcarpet\":[{\"colorbar\":{\"outlinewidth\":0,\"ticks\":\"\"},\"type\":\"contourcarpet\"}],\"contour\":[{\"colorbar\":{\"outlinewidth\":0,\"ticks\":\"\"},\"colorscale\":[[0.0,\"#0d0887\"],[0.1111111111111111,\"#46039f\"],[0.2222222222222222,\"#7201a8\"],[0.3333333333333333,\"#9c179e\"],[0.4444444444444444,\"#bd3786\"],[0.5555555555555556,\"#d8576b\"],[0.6666666666666666,\"#ed7953\"],[0.7777777777777778,\"#fb9f3a\"],[0.8888888888888888,\"#fdca26\"],[1.0,\"#f0f921\"]],\"type\":\"contour\"}],\"heatmapgl\":[{\"colorbar\":{\"outlinewidth\":0,\"ticks\":\"\"},\"colorscale\":[[0.0,\"#0d0887\"],[0.1111111111111111,\"#46039f\"],[0.2222222222222222,\"#7201a8\"],[0.3333333333333333,\"#9c179e\"],[0.4444444444444444,\"#bd3786\"],[0.5555555555555556,\"#d8576b\"],[0.6666666666666666,\"#ed7953\"],[0.7777777777777778,\"#fb9f3a\"],[0.8888888888888888,\"#fdca26\"],[1.0,\"#f0f921\"]],\"type\":\"heatmapgl\"}],\"heatmap\":[{\"colorbar\":{\"outlinewidth\":0,\"ticks\":\"\"},\"colorscale\":[[0.0,\"#0d0887\"],[0.1111111111111111,\"#46039f\"],[0.2222222222222222,\"#7201a8\"],[0.3333333333333333,\"#9c179e\"],[0.4444444444444444,\"#bd3786\"],[0.5555555555555556,\"#d8576b\"],[0.6666666666666666,\"#ed7953\"],[0.7777777777777778,\"#fb9f3a\"],[0.8888888888888888,\"#fdca26\"],[1.0,\"#f0f921\"]],\"type\":\"heatmap\"}],\"histogram2dcontour\":[{\"colorbar\":{\"outlinewidth\":0,\"ticks\":\"\"},\"colorscale\":[[0.0,\"#0d0887\"],[0.1111111111111111,\"#46039f\"],[0.2222222222222222,\"#7201a8\"],[0.3333333333333333,\"#9c179e\"],[0.4444444444444444,\"#bd3786\"],[0.5555555555555556,\"#d8576b\"],[0.6666666666666666,\"#ed7953\"],[0.7777777777777778,\"#fb9f3a\"],[0.8888888888888888,\"#fdca26\"],[1.0,\"#f0f921\"]],\"type\":\"histogram2dcontour\"}],\"histogram2d\":[{\"colorbar\":{\"outlinewidth\":0,\"ticks\":\"\"},\"colorscale\":[[0.0,\"#0d0887\"],[0.1111111111111111,\"#46039f\"],[0.2222222222222222,\"#7201a8\"],[0.3333333333333333,\"#9c179e\"],[0.4444444444444444,\"#bd3786\"],[0.5555555555555556,\"#d8576b\"],[0.6666666666666666,\"#ed7953\"],[0.7777777777777778,\"#fb9f3a\"],[0.8888888888888888,\"#fdca26\"],[1.0,\"#f0f921\"]],\"type\":\"histogram2d\"}],\"histogram\":[{\"marker\":{\"pattern\":{\"fillmode\":\"overlay\",\"size\":10,\"solidity\":0.2}},\"type\":\"histogram\"}],\"mesh3d\":[{\"colorbar\":{\"outlinewidth\":0,\"ticks\":\"\"},\"type\":\"mesh3d\"}],\"parcoords\":[{\"line\":{\"colorbar\":{\"outlinewidth\":0,\"ticks\":\"\"}},\"type\":\"parcoords\"}],\"pie\":[{\"automargin\":true,\"type\":\"pie\"}],\"scatter3d\":[{\"line\":{\"colorbar\":{\"outlinewidth\":0,\"ticks\":\"\"}},\"marker\":{\"colorbar\":{\"outlinewidth\":0,\"ticks\":\"\"}},\"type\":\"scatter3d\"}],\"scattercarpet\":[{\"marker\":{\"colorbar\":{\"outlinewidth\":0,\"ticks\":\"\"}},\"type\":\"scattercarpet\"}],\"scattergeo\":[{\"marker\":{\"colorbar\":{\"outlinewidth\":0,\"ticks\":\"\"}},\"type\":\"scattergeo\"}],\"scattergl\":[{\"marker\":{\"colorbar\":{\"outlinewidth\":0,\"ticks\":\"\"}},\"type\":\"scattergl\"}],\"scattermapbox\":[{\"marker\":{\"colorbar\":{\"outlinewidth\":0,\"ticks\":\"\"}},\"type\":\"scattermapbox\"}],\"scatterpolargl\":[{\"marker\":{\"colorbar\":{\"outlinewidth\":0,\"ticks\":\"\"}},\"type\":\"scatterpolargl\"}],\"scatterpolar\":[{\"marker\":{\"colorbar\":{\"outlinewidth\":0,\"ticks\":\"\"}},\"type\":\"scatterpolar\"}],\"scatter\":[{\"fillpattern\":{\"fillmode\":\"overlay\",\"size\":10,\"solidity\":0.2},\"type\":\"scatter\"}],\"scatterternary\":[{\"marker\":{\"colorbar\":{\"outlinewidth\":0,\"ticks\":\"\"}},\"type\":\"scatterternary\"}],\"surface\":[{\"colorbar\":{\"outlinewidth\":0,\"ticks\":\"\"},\"colorscale\":[[0.0,\"#0d0887\"],[0.1111111111111111,\"#46039f\"],[0.2222222222222222,\"#7201a8\"],[0.3333333333333333,\"#9c179e\"],[0.4444444444444444,\"#bd3786\"],[0.5555555555555556,\"#d8576b\"],[0.6666666666666666,\"#ed7953\"],[0.7777777777777778,\"#fb9f3a\"],[0.8888888888888888,\"#fdca26\"],[1.0,\"#f0f921\"]],\"type\":\"surface\"}],\"table\":[{\"cells\":{\"fill\":{\"color\":\"#EBF0F8\"},\"line\":{\"color\":\"white\"}},\"header\":{\"fill\":{\"color\":\"#C8D4E3\"},\"line\":{\"color\":\"white\"}},\"type\":\"table\"}]},\"layout\":{\"annotationdefaults\":{\"arrowcolor\":\"#2a3f5f\",\"arrowhead\":0,\"arrowwidth\":1},\"autotypenumbers\":\"strict\",\"coloraxis\":{\"colorbar\":{\"outlinewidth\":0,\"ticks\":\"\"}},\"colorscale\":{\"diverging\":[[0,\"#8e0152\"],[0.1,\"#c51b7d\"],[0.2,\"#de77ae\"],[0.3,\"#f1b6da\"],[0.4,\"#fde0ef\"],[0.5,\"#f7f7f7\"],[0.6,\"#e6f5d0\"],[0.7,\"#b8e186\"],[0.8,\"#7fbc41\"],[0.9,\"#4d9221\"],[1,\"#276419\"]],\"sequential\":[[0.0,\"#0d0887\"],[0.1111111111111111,\"#46039f\"],[0.2222222222222222,\"#7201a8\"],[0.3333333333333333,\"#9c179e\"],[0.4444444444444444,\"#bd3786\"],[0.5555555555555556,\"#d8576b\"],[0.6666666666666666,\"#ed7953\"],[0.7777777777777778,\"#fb9f3a\"],[0.8888888888888888,\"#fdca26\"],[1.0,\"#f0f921\"]],\"sequentialminus\":[[0.0,\"#0d0887\"],[0.1111111111111111,\"#46039f\"],[0.2222222222222222,\"#7201a8\"],[0.3333333333333333,\"#9c179e\"],[0.4444444444444444,\"#bd3786\"],[0.5555555555555556,\"#d8576b\"],[0.6666666666666666,\"#ed7953\"],[0.7777777777777778,\"#fb9f3a\"],[0.8888888888888888,\"#fdca26\"],[1.0,\"#f0f921\"]]},\"colorway\":[\"#636efa\",\"#EF553B\",\"#00cc96\",\"#ab63fa\",\"#FFA15A\",\"#19d3f3\",\"#FF6692\",\"#B6E880\",\"#FF97FF\",\"#FECB52\"],\"font\":{\"color\":\"#2a3f5f\"},\"geo\":{\"bgcolor\":\"white\",\"lakecolor\":\"white\",\"landcolor\":\"#E5ECF6\",\"showlakes\":true,\"showland\":true,\"subunitcolor\":\"white\"},\"hoverlabel\":{\"align\":\"left\"},\"hovermode\":\"closest\",\"mapbox\":{\"style\":\"light\"},\"paper_bgcolor\":\"white\",\"plot_bgcolor\":\"#E5ECF6\",\"polar\":{\"angularaxis\":{\"gridcolor\":\"white\",\"linecolor\":\"white\",\"ticks\":\"\"},\"bgcolor\":\"#E5ECF6\",\"radialaxis\":{\"gridcolor\":\"white\",\"linecolor\":\"white\",\"ticks\":\"\"}},\"scene\":{\"xaxis\":{\"backgroundcolor\":\"#E5ECF6\",\"gridcolor\":\"white\",\"gridwidth\":2,\"linecolor\":\"white\",\"showbackground\":true,\"ticks\":\"\",\"zerolinecolor\":\"white\"},\"yaxis\":{\"backgroundcolor\":\"#E5ECF6\",\"gridcolor\":\"white\",\"gridwidth\":2,\"linecolor\":\"white\",\"showbackground\":true,\"ticks\":\"\",\"zerolinecolor\":\"white\"},\"zaxis\":{\"backgroundcolor\":\"#E5ECF6\",\"gridcolor\":\"white\",\"gridwidth\":2,\"linecolor\":\"white\",\"showbackground\":true,\"ticks\":\"\",\"zerolinecolor\":\"white\"}},\"shapedefaults\":{\"line\":{\"color\":\"#2a3f5f\"}},\"ternary\":{\"aaxis\":{\"gridcolor\":\"white\",\"linecolor\":\"white\",\"ticks\":\"\"},\"baxis\":{\"gridcolor\":\"white\",\"linecolor\":\"white\",\"ticks\":\"\"},\"bgcolor\":\"#E5ECF6\",\"caxis\":{\"gridcolor\":\"white\",\"linecolor\":\"white\",\"ticks\":\"\"}},\"title\":{\"x\":0.05},\"xaxis\":{\"automargin\":true,\"gridcolor\":\"white\",\"linecolor\":\"white\",\"ticks\":\"\",\"title\":{\"standoff\":15},\"zerolinecolor\":\"white\",\"zerolinewidth\":2},\"yaxis\":{\"automargin\":true,\"gridcolor\":\"white\",\"linecolor\":\"white\",\"ticks\":\"\",\"title\":{\"standoff\":15},\"zerolinecolor\":\"white\",\"zerolinewidth\":2}}},\"title\":{\"text\":\"Class Distribution\"},\"width\":800,\"xaxis\":{\"title\":{\"text\":\"Attack Name\"}},\"yaxis\":{\"title\":{\"text\":\"Number of attacks\"}}},                        {\"responsive\": true}                    ).then(function(){\n",
       "                            \n",
       "var gd = document.getElementById('0da09aa5-a132-4f30-9225-a95cd43162c1');\n",
       "var x = new MutationObserver(function (mutations, observer) {{\n",
       "        var display = window.getComputedStyle(gd).display;\n",
       "        if (!display || display === 'none') {{\n",
       "            console.log([gd, 'removed!']);\n",
       "            Plotly.purge(gd);\n",
       "            observer.disconnect();\n",
       "        }}\n",
       "}});\n",
       "\n",
       "// Listen for the removal of the full notebook cells\n",
       "var notebookContainer = gd.closest('#notebook-container');\n",
       "if (notebookContainer) {{\n",
       "    x.observe(notebookContainer, {childList: true});\n",
       "}}\n",
       "\n",
       "// Listen for the clearing of the current output cell\n",
       "var outputEl = gd.closest('.output');\n",
       "if (outputEl) {{\n",
       "    x.observe(outputEl, {childList: true});\n",
       "}}\n",
       "\n",
       "                        })                };                });            </script>        </div>"
      ]
     },
     "metadata": {},
     "output_type": "display_data"
    }
   ],
   "source": [
    "fig = go.Figure(data=[\n",
    "    go.Bar(name='Normal', \n",
    "           y=df_equal[\"Label\"].value_counts().values[0:1],\n",
    "           x=['Normal'],\n",
    "           text = df_equal[\"Label\"].value_counts()[0:1],\n",
    "           orientation='v',\n",
    "           textposition='outside',),\n",
    "    go.Bar(name='Attack', \n",
    "           y=df_equal[\"Label\"].value_counts().values[1:2],\n",
    "           x=['Attack'],\n",
    "           text = df_equal[\"Label\"].value_counts()[1:2],\n",
    "           orientation='v',\n",
    "           textposition='outside',)\n",
    "])\n",
    "# Change the bar mode\n",
    "fig.update_layout(\n",
    "                  width=800,\n",
    "                  height=600,\n",
    "                  title=f'Class Distribution',\n",
    "                  yaxis_title='Number of attacks',\n",
    "                  xaxis_title='Attack Name',)\n",
    "iplot(fig)"
   ]
  },
  {
   "cell_type": "code",
   "execution_count": null,
   "id": "f60c1b23",
   "metadata": {},
   "outputs": [],
   "source": []
  },
  {
   "cell_type": "code",
   "execution_count": 17,
   "id": "84009976",
   "metadata": {},
   "outputs": [
    {
     "data": {
      "text/html": [
       "<div>\n",
       "<style scoped>\n",
       "    .dataframe tbody tr th:only-of-type {\n",
       "        vertical-align: middle;\n",
       "    }\n",
       "\n",
       "    .dataframe tbody tr th {\n",
       "        vertical-align: top;\n",
       "    }\n",
       "\n",
       "    .dataframe thead th {\n",
       "        text-align: right;\n",
       "    }\n",
       "</style>\n",
       "<table border=\"1\" class=\"dataframe\">\n",
       "  <thead>\n",
       "    <tr style=\"text-align: right;\">\n",
       "      <th></th>\n",
       "      <th>Unnamed: 0</th>\n",
       "      <th>Dst Port</th>\n",
       "      <th>Protocol</th>\n",
       "      <th>Flow Duration</th>\n",
       "      <th>Tot Fwd Pkts</th>\n",
       "      <th>Tot Bwd Pkts</th>\n",
       "      <th>TotLen Fwd Pkts</th>\n",
       "      <th>TotLen Bwd Pkts</th>\n",
       "      <th>Fwd Pkt Len Max</th>\n",
       "      <th>Fwd Pkt Len Min</th>\n",
       "      <th>Fwd Pkt Len Mean</th>\n",
       "      <th>Fwd Pkt Len Std</th>\n",
       "      <th>Bwd Pkt Len Max</th>\n",
       "      <th>Bwd Pkt Len Min</th>\n",
       "      <th>Bwd Pkt Len Mean</th>\n",
       "      <th>Bwd Pkt Len Std</th>\n",
       "      <th>Flow Byts/s</th>\n",
       "      <th>Flow Pkts/s</th>\n",
       "      <th>Flow IAT Mean</th>\n",
       "      <th>Flow IAT Std</th>\n",
       "      <th>Flow IAT Max</th>\n",
       "      <th>Flow IAT Min</th>\n",
       "      <th>Fwd IAT Tot</th>\n",
       "      <th>Fwd IAT Mean</th>\n",
       "      <th>Fwd IAT Std</th>\n",
       "      <th>Fwd IAT Max</th>\n",
       "      <th>Fwd IAT Min</th>\n",
       "      <th>Bwd IAT Tot</th>\n",
       "      <th>Bwd IAT Mean</th>\n",
       "      <th>Bwd IAT Std</th>\n",
       "      <th>Bwd IAT Max</th>\n",
       "      <th>Bwd IAT Min</th>\n",
       "      <th>Fwd PSH Flags</th>\n",
       "      <th>Bwd PSH Flags</th>\n",
       "      <th>Fwd URG Flags</th>\n",
       "      <th>Bwd URG Flags</th>\n",
       "      <th>Fwd Header Len</th>\n",
       "      <th>Bwd Header Len</th>\n",
       "      <th>Fwd Pkts/s</th>\n",
       "      <th>Bwd Pkts/s</th>\n",
       "      <th>Pkt Len Min</th>\n",
       "      <th>Pkt Len Max</th>\n",
       "      <th>Pkt Len Mean</th>\n",
       "      <th>Pkt Len Std</th>\n",
       "      <th>Pkt Len Var</th>\n",
       "      <th>FIN Flag Cnt</th>\n",
       "      <th>SYN Flag Cnt</th>\n",
       "      <th>RST Flag Cnt</th>\n",
       "      <th>PSH Flag Cnt</th>\n",
       "      <th>ACK Flag Cnt</th>\n",
       "      <th>URG Flag Cnt</th>\n",
       "      <th>CWE Flag Count</th>\n",
       "      <th>ECE Flag Cnt</th>\n",
       "      <th>Pkt Size Avg</th>\n",
       "      <th>Fwd Seg Size Avg</th>\n",
       "      <th>Bwd Seg Size Avg</th>\n",
       "      <th>Fwd Byts/b Avg</th>\n",
       "      <th>Fwd Pkts/b Avg</th>\n",
       "      <th>Fwd Blk Rate Avg</th>\n",
       "      <th>Bwd Byts/b Avg</th>\n",
       "      <th>Bwd Pkts/b Avg</th>\n",
       "      <th>Bwd Blk Rate Avg</th>\n",
       "      <th>Subflow Fwd Pkts</th>\n",
       "      <th>Subflow Fwd Byts</th>\n",
       "      <th>Subflow Bwd Pkts</th>\n",
       "      <th>Subflow Bwd Byts</th>\n",
       "      <th>Init Fwd Win Byts</th>\n",
       "      <th>Init Bwd Win Byts</th>\n",
       "      <th>Fwd Act Data Pkts</th>\n",
       "      <th>Fwd Seg Size Min</th>\n",
       "      <th>Active Mean</th>\n",
       "      <th>Active Std</th>\n",
       "      <th>Active Max</th>\n",
       "      <th>Active Min</th>\n",
       "      <th>Idle Mean</th>\n",
       "      <th>Idle Std</th>\n",
       "      <th>Idle Max</th>\n",
       "      <th>Idle Min</th>\n",
       "      <th>Label</th>\n",
       "    </tr>\n",
       "  </thead>\n",
       "  <tbody>\n",
       "    <tr>\n",
       "      <th>0</th>\n",
       "      <td>146275</td>\n",
       "      <td>3389</td>\n",
       "      <td>6</td>\n",
       "      <td>5206015</td>\n",
       "      <td>9</td>\n",
       "      <td>11</td>\n",
       "      <td>1213</td>\n",
       "      <td>1948</td>\n",
       "      <td>661</td>\n",
       "      <td>0</td>\n",
       "      <td>134.777778</td>\n",
       "      <td>209.079995</td>\n",
       "      <td>1173</td>\n",
       "      <td>0</td>\n",
       "      <td>177.090909</td>\n",
       "      <td>347.937194</td>\n",
       "      <td>607.182269</td>\n",
       "      <td>3.841710</td>\n",
       "      <td>2.740008e+05</td>\n",
       "      <td>4.873823e+05</td>\n",
       "      <td>1906221</td>\n",
       "      <td>54</td>\n",
       "      <td>5206015</td>\n",
       "      <td>650751.9</td>\n",
       "      <td>1.367797e+06</td>\n",
       "      <td>4024698</td>\n",
       "      <td>186</td>\n",
       "      <td>5043065</td>\n",
       "      <td>5.043065e+05</td>\n",
       "      <td>5.916400e+05</td>\n",
       "      <td>1906221</td>\n",
       "      <td>46378</td>\n",
       "      <td>0</td>\n",
       "      <td>0</td>\n",
       "      <td>0</td>\n",
       "      <td>0</td>\n",
       "      <td>192</td>\n",
       "      <td>244</td>\n",
       "      <td>1.728770</td>\n",
       "      <td>2.112941</td>\n",
       "      <td>0</td>\n",
       "      <td>1173</td>\n",
       "      <td>150.523810</td>\n",
       "      <td>282.220768</td>\n",
       "      <td>79648.561905</td>\n",
       "      <td>0</td>\n",
       "      <td>0</td>\n",
       "      <td>1</td>\n",
       "      <td>1</td>\n",
       "      <td>0</td>\n",
       "      <td>0</td>\n",
       "      <td>0</td>\n",
       "      <td>1</td>\n",
       "      <td>158.05000</td>\n",
       "      <td>134.777770</td>\n",
       "      <td>177.09091</td>\n",
       "      <td>0</td>\n",
       "      <td>0</td>\n",
       "      <td>0</td>\n",
       "      <td>0</td>\n",
       "      <td>0</td>\n",
       "      <td>0</td>\n",
       "      <td>9</td>\n",
       "      <td>1213</td>\n",
       "      <td>11</td>\n",
       "      <td>1948</td>\n",
       "      <td>8192</td>\n",
       "      <td>62872</td>\n",
       "      <td>6</td>\n",
       "      <td>20</td>\n",
       "      <td>0.000000</td>\n",
       "      <td>0.000000</td>\n",
       "      <td>0</td>\n",
       "      <td>0</td>\n",
       "      <td>0.000000e+00</td>\n",
       "      <td>0.000000e+00</td>\n",
       "      <td>0</td>\n",
       "      <td>0</td>\n",
       "      <td>0</td>\n",
       "    </tr>\n",
       "    <tr>\n",
       "      <th>1</th>\n",
       "      <td>512109</td>\n",
       "      <td>443</td>\n",
       "      <td>6</td>\n",
       "      <td>60991608</td>\n",
       "      <td>14</td>\n",
       "      <td>14</td>\n",
       "      <td>1211</td>\n",
       "      <td>3396</td>\n",
       "      <td>875</td>\n",
       "      <td>0</td>\n",
       "      <td>86.500000</td>\n",
       "      <td>235.073066</td>\n",
       "      <td>1460</td>\n",
       "      <td>0</td>\n",
       "      <td>242.571429</td>\n",
       "      <td>520.660485</td>\n",
       "      <td>75.534982</td>\n",
       "      <td>0.459080</td>\n",
       "      <td>2.258948e+06</td>\n",
       "      <td>4.218116e+06</td>\n",
       "      <td>10009249</td>\n",
       "      <td>1</td>\n",
       "      <td>60991608</td>\n",
       "      <td>4691662.0</td>\n",
       "      <td>5.173112e+06</td>\n",
       "      <td>10077768</td>\n",
       "      <td>265</td>\n",
       "      <td>60922977</td>\n",
       "      <td>4.686383e+06</td>\n",
       "      <td>5.195334e+06</td>\n",
       "      <td>10080219</td>\n",
       "      <td>1</td>\n",
       "      <td>0</td>\n",
       "      <td>0</td>\n",
       "      <td>0</td>\n",
       "      <td>0</td>\n",
       "      <td>292</td>\n",
       "      <td>364</td>\n",
       "      <td>0.229540</td>\n",
       "      <td>0.229540</td>\n",
       "      <td>0</td>\n",
       "      <td>1460</td>\n",
       "      <td>158.862069</td>\n",
       "      <td>398.172318</td>\n",
       "      <td>158541.194581</td>\n",
       "      <td>0</td>\n",
       "      <td>0</td>\n",
       "      <td>0</td>\n",
       "      <td>1</td>\n",
       "      <td>0</td>\n",
       "      <td>0</td>\n",
       "      <td>0</td>\n",
       "      <td>0</td>\n",
       "      <td>164.53572</td>\n",
       "      <td>86.500000</td>\n",
       "      <td>242.57143</td>\n",
       "      <td>0</td>\n",
       "      <td>0</td>\n",
       "      <td>0</td>\n",
       "      <td>0</td>\n",
       "      <td>0</td>\n",
       "      <td>0</td>\n",
       "      <td>14</td>\n",
       "      <td>1211</td>\n",
       "      <td>14</td>\n",
       "      <td>3396</td>\n",
       "      <td>8192</td>\n",
       "      <td>117</td>\n",
       "      <td>9</td>\n",
       "      <td>20</td>\n",
       "      <td>116504.666667</td>\n",
       "      <td>117401.762867</td>\n",
       "      <td>356150</td>\n",
       "      <td>68519</td>\n",
       "      <td>1.000239e+07</td>\n",
       "      <td>1.665183e+04</td>\n",
       "      <td>10009249</td>\n",
       "      <td>9968397</td>\n",
       "      <td>0</td>\n",
       "    </tr>\n",
       "    <tr>\n",
       "      <th>2</th>\n",
       "      <td>807703</td>\n",
       "      <td>53</td>\n",
       "      <td>17</td>\n",
       "      <td>27292</td>\n",
       "      <td>1</td>\n",
       "      <td>1</td>\n",
       "      <td>45</td>\n",
       "      <td>163</td>\n",
       "      <td>45</td>\n",
       "      <td>45</td>\n",
       "      <td>45.000000</td>\n",
       "      <td>0.000000</td>\n",
       "      <td>163</td>\n",
       "      <td>163</td>\n",
       "      <td>163.000000</td>\n",
       "      <td>0.000000</td>\n",
       "      <td>7621.280961</td>\n",
       "      <td>73.281548</td>\n",
       "      <td>2.729200e+04</td>\n",
       "      <td>0.000000e+00</td>\n",
       "      <td>27292</td>\n",
       "      <td>27292</td>\n",
       "      <td>0</td>\n",
       "      <td>0.0</td>\n",
       "      <td>0.000000e+00</td>\n",
       "      <td>0</td>\n",
       "      <td>0</td>\n",
       "      <td>0</td>\n",
       "      <td>0.000000e+00</td>\n",
       "      <td>0.000000e+00</td>\n",
       "      <td>0</td>\n",
       "      <td>0</td>\n",
       "      <td>0</td>\n",
       "      <td>0</td>\n",
       "      <td>0</td>\n",
       "      <td>0</td>\n",
       "      <td>8</td>\n",
       "      <td>8</td>\n",
       "      <td>36.640774</td>\n",
       "      <td>36.640774</td>\n",
       "      <td>45</td>\n",
       "      <td>163</td>\n",
       "      <td>84.333333</td>\n",
       "      <td>68.127332</td>\n",
       "      <td>4641.333333</td>\n",
       "      <td>0</td>\n",
       "      <td>0</td>\n",
       "      <td>0</td>\n",
       "      <td>0</td>\n",
       "      <td>0</td>\n",
       "      <td>0</td>\n",
       "      <td>0</td>\n",
       "      <td>0</td>\n",
       "      <td>126.50000</td>\n",
       "      <td>45.000000</td>\n",
       "      <td>163.00000</td>\n",
       "      <td>0</td>\n",
       "      <td>0</td>\n",
       "      <td>0</td>\n",
       "      <td>0</td>\n",
       "      <td>0</td>\n",
       "      <td>0</td>\n",
       "      <td>1</td>\n",
       "      <td>45</td>\n",
       "      <td>1</td>\n",
       "      <td>163</td>\n",
       "      <td>-1</td>\n",
       "      <td>-1</td>\n",
       "      <td>0</td>\n",
       "      <td>8</td>\n",
       "      <td>0.000000</td>\n",
       "      <td>0.000000</td>\n",
       "      <td>0</td>\n",
       "      <td>0</td>\n",
       "      <td>0.000000e+00</td>\n",
       "      <td>0.000000e+00</td>\n",
       "      <td>0</td>\n",
       "      <td>0</td>\n",
       "      <td>0</td>\n",
       "    </tr>\n",
       "    <tr>\n",
       "      <th>3</th>\n",
       "      <td>491912</td>\n",
       "      <td>443</td>\n",
       "      <td>6</td>\n",
       "      <td>70343424</td>\n",
       "      <td>17</td>\n",
       "      <td>20</td>\n",
       "      <td>1118</td>\n",
       "      <td>5653</td>\n",
       "      <td>258</td>\n",
       "      <td>0</td>\n",
       "      <td>65.764706</td>\n",
       "      <td>88.989837</td>\n",
       "      <td>1430</td>\n",
       "      <td>0</td>\n",
       "      <td>282.650000</td>\n",
       "      <td>445.753682</td>\n",
       "      <td>96.256332</td>\n",
       "      <td>0.525991</td>\n",
       "      <td>1.953984e+06</td>\n",
       "      <td>9.874980e+06</td>\n",
       "      <td>58654921</td>\n",
       "      <td>8</td>\n",
       "      <td>70343424</td>\n",
       "      <td>4396464.0</td>\n",
       "      <td>1.474216e+07</td>\n",
       "      <td>58790474</td>\n",
       "      <td>142</td>\n",
       "      <td>70195940</td>\n",
       "      <td>3.694523e+06</td>\n",
       "      <td>1.354913e+07</td>\n",
       "      <td>58750691</td>\n",
       "      <td>13</td>\n",
       "      <td>0</td>\n",
       "      <td>0</td>\n",
       "      <td>0</td>\n",
       "      <td>0</td>\n",
       "      <td>352</td>\n",
       "      <td>412</td>\n",
       "      <td>0.241671</td>\n",
       "      <td>0.284319</td>\n",
       "      <td>0</td>\n",
       "      <td>1430</td>\n",
       "      <td>178.184211</td>\n",
       "      <td>343.542661</td>\n",
       "      <td>118021.559744</td>\n",
       "      <td>0</td>\n",
       "      <td>0</td>\n",
       "      <td>0</td>\n",
       "      <td>1</td>\n",
       "      <td>0</td>\n",
       "      <td>0</td>\n",
       "      <td>0</td>\n",
       "      <td>0</td>\n",
       "      <td>183.00000</td>\n",
       "      <td>65.764710</td>\n",
       "      <td>282.65000</td>\n",
       "      <td>0</td>\n",
       "      <td>0</td>\n",
       "      <td>0</td>\n",
       "      <td>0</td>\n",
       "      <td>0</td>\n",
       "      <td>0</td>\n",
       "      <td>17</td>\n",
       "      <td>1118</td>\n",
       "      <td>20</td>\n",
       "      <td>5653</td>\n",
       "      <td>8192</td>\n",
       "      <td>184</td>\n",
       "      <td>9</td>\n",
       "      <td>20</td>\n",
       "      <td>527683.500000</td>\n",
       "      <td>386311.526445</td>\n",
       "      <td>800847</td>\n",
       "      <td>254520</td>\n",
       "      <td>3.457024e+07</td>\n",
       "      <td>3.406089e+07</td>\n",
       "      <td>58654921</td>\n",
       "      <td>10485549</td>\n",
       "      <td>0</td>\n",
       "    </tr>\n",
       "    <tr>\n",
       "      <th>4</th>\n",
       "      <td>858679</td>\n",
       "      <td>53</td>\n",
       "      <td>17</td>\n",
       "      <td>137267</td>\n",
       "      <td>2</td>\n",
       "      <td>2</td>\n",
       "      <td>94</td>\n",
       "      <td>214</td>\n",
       "      <td>47</td>\n",
       "      <td>47</td>\n",
       "      <td>47.000000</td>\n",
       "      <td>0.000000</td>\n",
       "      <td>107</td>\n",
       "      <td>107</td>\n",
       "      <td>107.000000</td>\n",
       "      <td>0.000000</td>\n",
       "      <td>2243.802225</td>\n",
       "      <td>29.140289</td>\n",
       "      <td>4.575567e+04</td>\n",
       "      <td>4.240885e+04</td>\n",
       "      <td>84190</td>\n",
       "      <td>259</td>\n",
       "      <td>137008</td>\n",
       "      <td>137008.0</td>\n",
       "      <td>0.000000e+00</td>\n",
       "      <td>137008</td>\n",
       "      <td>137008</td>\n",
       "      <td>84449</td>\n",
       "      <td>8.444900e+04</td>\n",
       "      <td>0.000000e+00</td>\n",
       "      <td>84449</td>\n",
       "      <td>84449</td>\n",
       "      <td>0</td>\n",
       "      <td>0</td>\n",
       "      <td>0</td>\n",
       "      <td>0</td>\n",
       "      <td>16</td>\n",
       "      <td>16</td>\n",
       "      <td>14.570144</td>\n",
       "      <td>14.570144</td>\n",
       "      <td>47</td>\n",
       "      <td>107</td>\n",
       "      <td>71.000000</td>\n",
       "      <td>32.863353</td>\n",
       "      <td>1080.000000</td>\n",
       "      <td>0</td>\n",
       "      <td>0</td>\n",
       "      <td>0</td>\n",
       "      <td>0</td>\n",
       "      <td>0</td>\n",
       "      <td>0</td>\n",
       "      <td>0</td>\n",
       "      <td>0</td>\n",
       "      <td>88.75000</td>\n",
       "      <td>47.000000</td>\n",
       "      <td>107.00000</td>\n",
       "      <td>0</td>\n",
       "      <td>0</td>\n",
       "      <td>0</td>\n",
       "      <td>0</td>\n",
       "      <td>0</td>\n",
       "      <td>0</td>\n",
       "      <td>2</td>\n",
       "      <td>94</td>\n",
       "      <td>2</td>\n",
       "      <td>214</td>\n",
       "      <td>-1</td>\n",
       "      <td>-1</td>\n",
       "      <td>1</td>\n",
       "      <td>8</td>\n",
       "      <td>0.000000</td>\n",
       "      <td>0.000000</td>\n",
       "      <td>0</td>\n",
       "      <td>0</td>\n",
       "      <td>0.000000e+00</td>\n",
       "      <td>0.000000e+00</td>\n",
       "      <td>0</td>\n",
       "      <td>0</td>\n",
       "      <td>0</td>\n",
       "    </tr>\n",
       "    <tr>\n",
       "      <th>...</th>\n",
       "      <td>...</td>\n",
       "      <td>...</td>\n",
       "      <td>...</td>\n",
       "      <td>...</td>\n",
       "      <td>...</td>\n",
       "      <td>...</td>\n",
       "      <td>...</td>\n",
       "      <td>...</td>\n",
       "      <td>...</td>\n",
       "      <td>...</td>\n",
       "      <td>...</td>\n",
       "      <td>...</td>\n",
       "      <td>...</td>\n",
       "      <td>...</td>\n",
       "      <td>...</td>\n",
       "      <td>...</td>\n",
       "      <td>...</td>\n",
       "      <td>...</td>\n",
       "      <td>...</td>\n",
       "      <td>...</td>\n",
       "      <td>...</td>\n",
       "      <td>...</td>\n",
       "      <td>...</td>\n",
       "      <td>...</td>\n",
       "      <td>...</td>\n",
       "      <td>...</td>\n",
       "      <td>...</td>\n",
       "      <td>...</td>\n",
       "      <td>...</td>\n",
       "      <td>...</td>\n",
       "      <td>...</td>\n",
       "      <td>...</td>\n",
       "      <td>...</td>\n",
       "      <td>...</td>\n",
       "      <td>...</td>\n",
       "      <td>...</td>\n",
       "      <td>...</td>\n",
       "      <td>...</td>\n",
       "      <td>...</td>\n",
       "      <td>...</td>\n",
       "      <td>...</td>\n",
       "      <td>...</td>\n",
       "      <td>...</td>\n",
       "      <td>...</td>\n",
       "      <td>...</td>\n",
       "      <td>...</td>\n",
       "      <td>...</td>\n",
       "      <td>...</td>\n",
       "      <td>...</td>\n",
       "      <td>...</td>\n",
       "      <td>...</td>\n",
       "      <td>...</td>\n",
       "      <td>...</td>\n",
       "      <td>...</td>\n",
       "      <td>...</td>\n",
       "      <td>...</td>\n",
       "      <td>...</td>\n",
       "      <td>...</td>\n",
       "      <td>...</td>\n",
       "      <td>...</td>\n",
       "      <td>...</td>\n",
       "      <td>...</td>\n",
       "      <td>...</td>\n",
       "      <td>...</td>\n",
       "      <td>...</td>\n",
       "      <td>...</td>\n",
       "      <td>...</td>\n",
       "      <td>...</td>\n",
       "      <td>...</td>\n",
       "      <td>...</td>\n",
       "      <td>...</td>\n",
       "      <td>...</td>\n",
       "      <td>...</td>\n",
       "      <td>...</td>\n",
       "      <td>...</td>\n",
       "      <td>...</td>\n",
       "      <td>...</td>\n",
       "      <td>...</td>\n",
       "      <td>...</td>\n",
       "    </tr>\n",
       "    <tr>\n",
       "      <th>111891</th>\n",
       "      <td>474617</td>\n",
       "      <td>80</td>\n",
       "      <td>6</td>\n",
       "      <td>6520</td>\n",
       "      <td>2</td>\n",
       "      <td>0</td>\n",
       "      <td>0</td>\n",
       "      <td>0</td>\n",
       "      <td>0</td>\n",
       "      <td>0</td>\n",
       "      <td>0.000000</td>\n",
       "      <td>0.000000</td>\n",
       "      <td>0</td>\n",
       "      <td>0</td>\n",
       "      <td>0.000000</td>\n",
       "      <td>0.000000</td>\n",
       "      <td>0.000000</td>\n",
       "      <td>306.748466</td>\n",
       "      <td>6.520000e+03</td>\n",
       "      <td>0.000000e+00</td>\n",
       "      <td>6520</td>\n",
       "      <td>6520</td>\n",
       "      <td>6520</td>\n",
       "      <td>6520.0</td>\n",
       "      <td>0.000000e+00</td>\n",
       "      <td>6520</td>\n",
       "      <td>6520</td>\n",
       "      <td>0</td>\n",
       "      <td>0.000000e+00</td>\n",
       "      <td>0.000000e+00</td>\n",
       "      <td>0</td>\n",
       "      <td>0</td>\n",
       "      <td>0</td>\n",
       "      <td>0</td>\n",
       "      <td>0</td>\n",
       "      <td>0</td>\n",
       "      <td>40</td>\n",
       "      <td>0</td>\n",
       "      <td>306.748466</td>\n",
       "      <td>0.000000</td>\n",
       "      <td>0</td>\n",
       "      <td>0</td>\n",
       "      <td>0.000000</td>\n",
       "      <td>0.000000</td>\n",
       "      <td>0.000000</td>\n",
       "      <td>0</td>\n",
       "      <td>0</td>\n",
       "      <td>0</td>\n",
       "      <td>0</td>\n",
       "      <td>1</td>\n",
       "      <td>0</td>\n",
       "      <td>0</td>\n",
       "      <td>0</td>\n",
       "      <td>0.00000</td>\n",
       "      <td>0.000000</td>\n",
       "      <td>0.00000</td>\n",
       "      <td>0</td>\n",
       "      <td>0</td>\n",
       "      <td>0</td>\n",
       "      <td>0</td>\n",
       "      <td>0</td>\n",
       "      <td>0</td>\n",
       "      <td>2</td>\n",
       "      <td>0</td>\n",
       "      <td>0</td>\n",
       "      <td>0</td>\n",
       "      <td>32738</td>\n",
       "      <td>-1</td>\n",
       "      <td>0</td>\n",
       "      <td>20</td>\n",
       "      <td>0.000000</td>\n",
       "      <td>0.000000</td>\n",
       "      <td>0</td>\n",
       "      <td>0</td>\n",
       "      <td>0.000000e+00</td>\n",
       "      <td>0.000000e+00</td>\n",
       "      <td>0</td>\n",
       "      <td>0</td>\n",
       "      <td>1</td>\n",
       "    </tr>\n",
       "    <tr>\n",
       "      <th>111896</th>\n",
       "      <td>71416</td>\n",
       "      <td>80</td>\n",
       "      <td>6</td>\n",
       "      <td>15790</td>\n",
       "      <td>3</td>\n",
       "      <td>4</td>\n",
       "      <td>268</td>\n",
       "      <td>935</td>\n",
       "      <td>268</td>\n",
       "      <td>0</td>\n",
       "      <td>89.333333</td>\n",
       "      <td>154.729872</td>\n",
       "      <td>935</td>\n",
       "      <td>0</td>\n",
       "      <td>233.750000</td>\n",
       "      <td>467.500000</td>\n",
       "      <td>76187.460420</td>\n",
       "      <td>443.318556</td>\n",
       "      <td>2.631667e+03</td>\n",
       "      <td>4.098559e+03</td>\n",
       "      <td>9428</td>\n",
       "      <td>3</td>\n",
       "      <td>6332</td>\n",
       "      <td>3166.0</td>\n",
       "      <td>4.075763e+03</td>\n",
       "      <td>6048</td>\n",
       "      <td>284</td>\n",
       "      <td>15787</td>\n",
       "      <td>5.262333e+03</td>\n",
       "      <td>4.795521e+03</td>\n",
       "      <td>9428</td>\n",
       "      <td>20</td>\n",
       "      <td>0</td>\n",
       "      <td>0</td>\n",
       "      <td>0</td>\n",
       "      <td>0</td>\n",
       "      <td>72</td>\n",
       "      <td>92</td>\n",
       "      <td>189.993667</td>\n",
       "      <td>253.324889</td>\n",
       "      <td>0</td>\n",
       "      <td>935</td>\n",
       "      <td>150.375000</td>\n",
       "      <td>330.615849</td>\n",
       "      <td>109306.839300</td>\n",
       "      <td>0</td>\n",
       "      <td>0</td>\n",
       "      <td>1</td>\n",
       "      <td>1</td>\n",
       "      <td>0</td>\n",
       "      <td>0</td>\n",
       "      <td>0</td>\n",
       "      <td>1</td>\n",
       "      <td>171.85715</td>\n",
       "      <td>89.333336</td>\n",
       "      <td>233.75000</td>\n",
       "      <td>0</td>\n",
       "      <td>0</td>\n",
       "      <td>0</td>\n",
       "      <td>0</td>\n",
       "      <td>0</td>\n",
       "      <td>0</td>\n",
       "      <td>3</td>\n",
       "      <td>268</td>\n",
       "      <td>4</td>\n",
       "      <td>935</td>\n",
       "      <td>65535</td>\n",
       "      <td>219</td>\n",
       "      <td>1</td>\n",
       "      <td>20</td>\n",
       "      <td>0.000000</td>\n",
       "      <td>0.000000</td>\n",
       "      <td>0</td>\n",
       "      <td>0</td>\n",
       "      <td>0.000000e+00</td>\n",
       "      <td>0.000000e+00</td>\n",
       "      <td>0</td>\n",
       "      <td>0</td>\n",
       "      <td>1</td>\n",
       "    </tr>\n",
       "    <tr>\n",
       "      <th>111899</th>\n",
       "      <td>275137</td>\n",
       "      <td>80</td>\n",
       "      <td>6</td>\n",
       "      <td>6248</td>\n",
       "      <td>3</td>\n",
       "      <td>4</td>\n",
       "      <td>266</td>\n",
       "      <td>935</td>\n",
       "      <td>266</td>\n",
       "      <td>0</td>\n",
       "      <td>88.666667</td>\n",
       "      <td>153.575172</td>\n",
       "      <td>935</td>\n",
       "      <td>0</td>\n",
       "      <td>233.750000</td>\n",
       "      <td>467.500000</td>\n",
       "      <td>192221.510900</td>\n",
       "      <td>1120.358515</td>\n",
       "      <td>1.041333e+03</td>\n",
       "      <td>2.277994e+03</td>\n",
       "      <td>5685</td>\n",
       "      <td>5</td>\n",
       "      <td>5989</td>\n",
       "      <td>2994.5</td>\n",
       "      <td>3.804942e+03</td>\n",
       "      <td>5685</td>\n",
       "      <td>304</td>\n",
       "      <td>6243</td>\n",
       "      <td>2.081000e+03</td>\n",
       "      <td>3.387935e+03</td>\n",
       "      <td>5992</td>\n",
       "      <td>47</td>\n",
       "      <td>0</td>\n",
       "      <td>0</td>\n",
       "      <td>0</td>\n",
       "      <td>0</td>\n",
       "      <td>72</td>\n",
       "      <td>92</td>\n",
       "      <td>480.153649</td>\n",
       "      <td>640.204866</td>\n",
       "      <td>0</td>\n",
       "      <td>935</td>\n",
       "      <td>150.125000</td>\n",
       "      <td>330.514939</td>\n",
       "      <td>109240.125000</td>\n",
       "      <td>0</td>\n",
       "      <td>0</td>\n",
       "      <td>1</td>\n",
       "      <td>1</td>\n",
       "      <td>0</td>\n",
       "      <td>0</td>\n",
       "      <td>0</td>\n",
       "      <td>1</td>\n",
       "      <td>171.57143</td>\n",
       "      <td>88.666664</td>\n",
       "      <td>233.75000</td>\n",
       "      <td>0</td>\n",
       "      <td>0</td>\n",
       "      <td>0</td>\n",
       "      <td>0</td>\n",
       "      <td>0</td>\n",
       "      <td>0</td>\n",
       "      <td>3</td>\n",
       "      <td>266</td>\n",
       "      <td>4</td>\n",
       "      <td>935</td>\n",
       "      <td>65535</td>\n",
       "      <td>219</td>\n",
       "      <td>1</td>\n",
       "      <td>20</td>\n",
       "      <td>0.000000</td>\n",
       "      <td>0.000000</td>\n",
       "      <td>0</td>\n",
       "      <td>0</td>\n",
       "      <td>0.000000e+00</td>\n",
       "      <td>0.000000e+00</td>\n",
       "      <td>0</td>\n",
       "      <td>0</td>\n",
       "      <td>1</td>\n",
       "    </tr>\n",
       "    <tr>\n",
       "      <th>111900</th>\n",
       "      <td>612138</td>\n",
       "      <td>80</td>\n",
       "      <td>6</td>\n",
       "      <td>5877</td>\n",
       "      <td>2</td>\n",
       "      <td>0</td>\n",
       "      <td>0</td>\n",
       "      <td>0</td>\n",
       "      <td>0</td>\n",
       "      <td>0</td>\n",
       "      <td>0.000000</td>\n",
       "      <td>0.000000</td>\n",
       "      <td>0</td>\n",
       "      <td>0</td>\n",
       "      <td>0.000000</td>\n",
       "      <td>0.000000</td>\n",
       "      <td>0.000000</td>\n",
       "      <td>340.309682</td>\n",
       "      <td>5.877000e+03</td>\n",
       "      <td>0.000000e+00</td>\n",
       "      <td>5877</td>\n",
       "      <td>5877</td>\n",
       "      <td>5877</td>\n",
       "      <td>5877.0</td>\n",
       "      <td>0.000000e+00</td>\n",
       "      <td>5877</td>\n",
       "      <td>5877</td>\n",
       "      <td>0</td>\n",
       "      <td>0.000000e+00</td>\n",
       "      <td>0.000000e+00</td>\n",
       "      <td>0</td>\n",
       "      <td>0</td>\n",
       "      <td>0</td>\n",
       "      <td>0</td>\n",
       "      <td>0</td>\n",
       "      <td>0</td>\n",
       "      <td>40</td>\n",
       "      <td>0</td>\n",
       "      <td>340.309682</td>\n",
       "      <td>0.000000</td>\n",
       "      <td>0</td>\n",
       "      <td>0</td>\n",
       "      <td>0.000000</td>\n",
       "      <td>0.000000</td>\n",
       "      <td>0.000000</td>\n",
       "      <td>0</td>\n",
       "      <td>0</td>\n",
       "      <td>0</td>\n",
       "      <td>0</td>\n",
       "      <td>1</td>\n",
       "      <td>0</td>\n",
       "      <td>0</td>\n",
       "      <td>0</td>\n",
       "      <td>0.00000</td>\n",
       "      <td>0.000000</td>\n",
       "      <td>0.00000</td>\n",
       "      <td>0</td>\n",
       "      <td>0</td>\n",
       "      <td>0</td>\n",
       "      <td>0</td>\n",
       "      <td>0</td>\n",
       "      <td>0</td>\n",
       "      <td>2</td>\n",
       "      <td>0</td>\n",
       "      <td>0</td>\n",
       "      <td>0</td>\n",
       "      <td>32738</td>\n",
       "      <td>-1</td>\n",
       "      <td>0</td>\n",
       "      <td>20</td>\n",
       "      <td>0.000000</td>\n",
       "      <td>0.000000</td>\n",
       "      <td>0</td>\n",
       "      <td>0</td>\n",
       "      <td>0.000000e+00</td>\n",
       "      <td>0.000000e+00</td>\n",
       "      <td>0</td>\n",
       "      <td>0</td>\n",
       "      <td>1</td>\n",
       "    </tr>\n",
       "    <tr>\n",
       "      <th>111904</th>\n",
       "      <td>39841</td>\n",
       "      <td>21</td>\n",
       "      <td>6</td>\n",
       "      <td>2</td>\n",
       "      <td>1</td>\n",
       "      <td>1</td>\n",
       "      <td>0</td>\n",
       "      <td>0</td>\n",
       "      <td>0</td>\n",
       "      <td>0</td>\n",
       "      <td>0.000000</td>\n",
       "      <td>0.000000</td>\n",
       "      <td>0</td>\n",
       "      <td>0</td>\n",
       "      <td>0.000000</td>\n",
       "      <td>0.000000</td>\n",
       "      <td>0.000000</td>\n",
       "      <td>1000000.000000</td>\n",
       "      <td>2.000000e+00</td>\n",
       "      <td>0.000000e+00</td>\n",
       "      <td>2</td>\n",
       "      <td>2</td>\n",
       "      <td>0</td>\n",
       "      <td>0.0</td>\n",
       "      <td>0.000000e+00</td>\n",
       "      <td>0</td>\n",
       "      <td>0</td>\n",
       "      <td>0</td>\n",
       "      <td>0.000000e+00</td>\n",
       "      <td>0.000000e+00</td>\n",
       "      <td>0</td>\n",
       "      <td>0</td>\n",
       "      <td>0</td>\n",
       "      <td>0</td>\n",
       "      <td>0</td>\n",
       "      <td>0</td>\n",
       "      <td>40</td>\n",
       "      <td>20</td>\n",
       "      <td>500000.000000</td>\n",
       "      <td>500000.000000</td>\n",
       "      <td>0</td>\n",
       "      <td>0</td>\n",
       "      <td>0.000000</td>\n",
       "      <td>0.000000</td>\n",
       "      <td>0.000000</td>\n",
       "      <td>0</td>\n",
       "      <td>0</td>\n",
       "      <td>0</td>\n",
       "      <td>1</td>\n",
       "      <td>0</td>\n",
       "      <td>0</td>\n",
       "      <td>0</td>\n",
       "      <td>0</td>\n",
       "      <td>0.00000</td>\n",
       "      <td>0.000000</td>\n",
       "      <td>0.00000</td>\n",
       "      <td>0</td>\n",
       "      <td>0</td>\n",
       "      <td>0</td>\n",
       "      <td>0</td>\n",
       "      <td>0</td>\n",
       "      <td>0</td>\n",
       "      <td>1</td>\n",
       "      <td>0</td>\n",
       "      <td>1</td>\n",
       "      <td>0</td>\n",
       "      <td>26883</td>\n",
       "      <td>0</td>\n",
       "      <td>0</td>\n",
       "      <td>40</td>\n",
       "      <td>0.000000</td>\n",
       "      <td>0.000000</td>\n",
       "      <td>0</td>\n",
       "      <td>0</td>\n",
       "      <td>0.000000e+00</td>\n",
       "      <td>0.000000e+00</td>\n",
       "      <td>0</td>\n",
       "      <td>0</td>\n",
       "      <td>1</td>\n",
       "    </tr>\n",
       "  </tbody>\n",
       "</table>\n",
       "<p>50000 rows × 79 columns</p>\n",
       "</div>"
      ],
      "text/plain": [
       "        Unnamed: 0  Dst Port  Protocol  Flow Duration  Tot Fwd Pkts  \\\n",
       "0           146275      3389         6        5206015             9   \n",
       "1           512109       443         6       60991608            14   \n",
       "2           807703        53        17          27292             1   \n",
       "3           491912       443         6       70343424            17   \n",
       "4           858679        53        17         137267             2   \n",
       "...            ...       ...       ...            ...           ...   \n",
       "111891      474617        80         6           6520             2   \n",
       "111896       71416        80         6          15790             3   \n",
       "111899      275137        80         6           6248             3   \n",
       "111900      612138        80         6           5877             2   \n",
       "111904       39841        21         6              2             1   \n",
       "\n",
       "        Tot Bwd Pkts  TotLen Fwd Pkts  TotLen Bwd Pkts  Fwd Pkt Len Max  \\\n",
       "0                 11             1213             1948              661   \n",
       "1                 14             1211             3396              875   \n",
       "2                  1               45              163               45   \n",
       "3                 20             1118             5653              258   \n",
       "4                  2               94              214               47   \n",
       "...              ...              ...              ...              ...   \n",
       "111891             0                0                0                0   \n",
       "111896             4              268              935              268   \n",
       "111899             4              266              935              266   \n",
       "111900             0                0                0                0   \n",
       "111904             1                0                0                0   \n",
       "\n",
       "        Fwd Pkt Len Min  Fwd Pkt Len Mean  Fwd Pkt Len Std  Bwd Pkt Len Max  \\\n",
       "0                     0        134.777778       209.079995             1173   \n",
       "1                     0         86.500000       235.073066             1460   \n",
       "2                    45         45.000000         0.000000              163   \n",
       "3                     0         65.764706        88.989837             1430   \n",
       "4                    47         47.000000         0.000000              107   \n",
       "...                 ...               ...              ...              ...   \n",
       "111891                0          0.000000         0.000000                0   \n",
       "111896                0         89.333333       154.729872              935   \n",
       "111899                0         88.666667       153.575172              935   \n",
       "111900                0          0.000000         0.000000                0   \n",
       "111904                0          0.000000         0.000000                0   \n",
       "\n",
       "        Bwd Pkt Len Min  Bwd Pkt Len Mean  Bwd Pkt Len Std    Flow Byts/s  \\\n",
       "0                     0        177.090909       347.937194     607.182269   \n",
       "1                     0        242.571429       520.660485      75.534982   \n",
       "2                   163        163.000000         0.000000    7621.280961   \n",
       "3                     0        282.650000       445.753682      96.256332   \n",
       "4                   107        107.000000         0.000000    2243.802225   \n",
       "...                 ...               ...              ...            ...   \n",
       "111891                0          0.000000         0.000000       0.000000   \n",
       "111896                0        233.750000       467.500000   76187.460420   \n",
       "111899                0        233.750000       467.500000  192221.510900   \n",
       "111900                0          0.000000         0.000000       0.000000   \n",
       "111904                0          0.000000         0.000000       0.000000   \n",
       "\n",
       "           Flow Pkts/s  Flow IAT Mean  Flow IAT Std  Flow IAT Max  \\\n",
       "0             3.841710   2.740008e+05  4.873823e+05       1906221   \n",
       "1             0.459080   2.258948e+06  4.218116e+06      10009249   \n",
       "2            73.281548   2.729200e+04  0.000000e+00         27292   \n",
       "3             0.525991   1.953984e+06  9.874980e+06      58654921   \n",
       "4            29.140289   4.575567e+04  4.240885e+04         84190   \n",
       "...                ...            ...           ...           ...   \n",
       "111891      306.748466   6.520000e+03  0.000000e+00          6520   \n",
       "111896      443.318556   2.631667e+03  4.098559e+03          9428   \n",
       "111899     1120.358515   1.041333e+03  2.277994e+03          5685   \n",
       "111900      340.309682   5.877000e+03  0.000000e+00          5877   \n",
       "111904  1000000.000000   2.000000e+00  0.000000e+00             2   \n",
       "\n",
       "        Flow IAT Min  Fwd IAT Tot  Fwd IAT Mean   Fwd IAT Std  Fwd IAT Max  \\\n",
       "0                 54      5206015      650751.9  1.367797e+06      4024698   \n",
       "1                  1     60991608     4691662.0  5.173112e+06     10077768   \n",
       "2              27292            0           0.0  0.000000e+00            0   \n",
       "3                  8     70343424     4396464.0  1.474216e+07     58790474   \n",
       "4                259       137008      137008.0  0.000000e+00       137008   \n",
       "...              ...          ...           ...           ...          ...   \n",
       "111891          6520         6520        6520.0  0.000000e+00         6520   \n",
       "111896             3         6332        3166.0  4.075763e+03         6048   \n",
       "111899             5         5989        2994.5  3.804942e+03         5685   \n",
       "111900          5877         5877        5877.0  0.000000e+00         5877   \n",
       "111904             2            0           0.0  0.000000e+00            0   \n",
       "\n",
       "        Fwd IAT Min  Bwd IAT Tot  Bwd IAT Mean   Bwd IAT Std  Bwd IAT Max  \\\n",
       "0               186      5043065  5.043065e+05  5.916400e+05      1906221   \n",
       "1               265     60922977  4.686383e+06  5.195334e+06     10080219   \n",
       "2                 0            0  0.000000e+00  0.000000e+00            0   \n",
       "3               142     70195940  3.694523e+06  1.354913e+07     58750691   \n",
       "4            137008        84449  8.444900e+04  0.000000e+00        84449   \n",
       "...             ...          ...           ...           ...          ...   \n",
       "111891         6520            0  0.000000e+00  0.000000e+00            0   \n",
       "111896          284        15787  5.262333e+03  4.795521e+03         9428   \n",
       "111899          304         6243  2.081000e+03  3.387935e+03         5992   \n",
       "111900         5877            0  0.000000e+00  0.000000e+00            0   \n",
       "111904            0            0  0.000000e+00  0.000000e+00            0   \n",
       "\n",
       "        Bwd IAT Min  Fwd PSH Flags  Bwd PSH Flags  Fwd URG Flags  \\\n",
       "0             46378              0              0              0   \n",
       "1                 1              0              0              0   \n",
       "2                 0              0              0              0   \n",
       "3                13              0              0              0   \n",
       "4             84449              0              0              0   \n",
       "...             ...            ...            ...            ...   \n",
       "111891            0              0              0              0   \n",
       "111896           20              0              0              0   \n",
       "111899           47              0              0              0   \n",
       "111900            0              0              0              0   \n",
       "111904            0              0              0              0   \n",
       "\n",
       "        Bwd URG Flags  Fwd Header Len  Bwd Header Len     Fwd Pkts/s  \\\n",
       "0                   0             192             244       1.728770   \n",
       "1                   0             292             364       0.229540   \n",
       "2                   0               8               8      36.640774   \n",
       "3                   0             352             412       0.241671   \n",
       "4                   0              16              16      14.570144   \n",
       "...               ...             ...             ...            ...   \n",
       "111891              0              40               0     306.748466   \n",
       "111896              0              72              92     189.993667   \n",
       "111899              0              72              92     480.153649   \n",
       "111900              0              40               0     340.309682   \n",
       "111904              0              40              20  500000.000000   \n",
       "\n",
       "           Bwd Pkts/s  Pkt Len Min  Pkt Len Max  Pkt Len Mean  Pkt Len Std  \\\n",
       "0            2.112941            0         1173    150.523810   282.220768   \n",
       "1            0.229540            0         1460    158.862069   398.172318   \n",
       "2           36.640774           45          163     84.333333    68.127332   \n",
       "3            0.284319            0         1430    178.184211   343.542661   \n",
       "4           14.570144           47          107     71.000000    32.863353   \n",
       "...               ...          ...          ...           ...          ...   \n",
       "111891       0.000000            0            0      0.000000     0.000000   \n",
       "111896     253.324889            0          935    150.375000   330.615849   \n",
       "111899     640.204866            0          935    150.125000   330.514939   \n",
       "111900       0.000000            0            0      0.000000     0.000000   \n",
       "111904  500000.000000            0            0      0.000000     0.000000   \n",
       "\n",
       "          Pkt Len Var  FIN Flag Cnt  SYN Flag Cnt  RST Flag Cnt  PSH Flag Cnt  \\\n",
       "0        79648.561905             0             0             1             1   \n",
       "1       158541.194581             0             0             0             1   \n",
       "2         4641.333333             0             0             0             0   \n",
       "3       118021.559744             0             0             0             1   \n",
       "4         1080.000000             0             0             0             0   \n",
       "...               ...           ...           ...           ...           ...   \n",
       "111891       0.000000             0             0             0             0   \n",
       "111896  109306.839300             0             0             1             1   \n",
       "111899  109240.125000             0             0             1             1   \n",
       "111900       0.000000             0             0             0             0   \n",
       "111904       0.000000             0             0             0             1   \n",
       "\n",
       "        ACK Flag Cnt  URG Flag Cnt  CWE Flag Count  ECE Flag Cnt  \\\n",
       "0                  0             0               0             1   \n",
       "1                  0             0               0             0   \n",
       "2                  0             0               0             0   \n",
       "3                  0             0               0             0   \n",
       "4                  0             0               0             0   \n",
       "...              ...           ...             ...           ...   \n",
       "111891             1             0               0             0   \n",
       "111896             0             0               0             1   \n",
       "111899             0             0               0             1   \n",
       "111900             1             0               0             0   \n",
       "111904             0             0               0             0   \n",
       "\n",
       "        Pkt Size Avg  Fwd Seg Size Avg  Bwd Seg Size Avg  Fwd Byts/b Avg  \\\n",
       "0          158.05000        134.777770         177.09091               0   \n",
       "1          164.53572         86.500000         242.57143               0   \n",
       "2          126.50000         45.000000         163.00000               0   \n",
       "3          183.00000         65.764710         282.65000               0   \n",
       "4           88.75000         47.000000         107.00000               0   \n",
       "...              ...               ...               ...             ...   \n",
       "111891       0.00000          0.000000           0.00000               0   \n",
       "111896     171.85715         89.333336         233.75000               0   \n",
       "111899     171.57143         88.666664         233.75000               0   \n",
       "111900       0.00000          0.000000           0.00000               0   \n",
       "111904       0.00000          0.000000           0.00000               0   \n",
       "\n",
       "        Fwd Pkts/b Avg  Fwd Blk Rate Avg  Bwd Byts/b Avg  Bwd Pkts/b Avg  \\\n",
       "0                    0                 0               0               0   \n",
       "1                    0                 0               0               0   \n",
       "2                    0                 0               0               0   \n",
       "3                    0                 0               0               0   \n",
       "4                    0                 0               0               0   \n",
       "...                ...               ...             ...             ...   \n",
       "111891               0                 0               0               0   \n",
       "111896               0                 0               0               0   \n",
       "111899               0                 0               0               0   \n",
       "111900               0                 0               0               0   \n",
       "111904               0                 0               0               0   \n",
       "\n",
       "        Bwd Blk Rate Avg  Subflow Fwd Pkts  Subflow Fwd Byts  \\\n",
       "0                      0                 9              1213   \n",
       "1                      0                14              1211   \n",
       "2                      0                 1                45   \n",
       "3                      0                17              1118   \n",
       "4                      0                 2                94   \n",
       "...                  ...               ...               ...   \n",
       "111891                 0                 2                 0   \n",
       "111896                 0                 3               268   \n",
       "111899                 0                 3               266   \n",
       "111900                 0                 2                 0   \n",
       "111904                 0                 1                 0   \n",
       "\n",
       "        Subflow Bwd Pkts  Subflow Bwd Byts  Init Fwd Win Byts  \\\n",
       "0                     11              1948               8192   \n",
       "1                     14              3396               8192   \n",
       "2                      1               163                 -1   \n",
       "3                     20              5653               8192   \n",
       "4                      2               214                 -1   \n",
       "...                  ...               ...                ...   \n",
       "111891                 0                 0              32738   \n",
       "111896                 4               935              65535   \n",
       "111899                 4               935              65535   \n",
       "111900                 0                 0              32738   \n",
       "111904                 1                 0              26883   \n",
       "\n",
       "        Init Bwd Win Byts  Fwd Act Data Pkts  Fwd Seg Size Min    Active Mean  \\\n",
       "0                   62872                  6                20       0.000000   \n",
       "1                     117                  9                20  116504.666667   \n",
       "2                      -1                  0                 8       0.000000   \n",
       "3                     184                  9                20  527683.500000   \n",
       "4                      -1                  1                 8       0.000000   \n",
       "...                   ...                ...               ...            ...   \n",
       "111891                 -1                  0                20       0.000000   \n",
       "111896                219                  1                20       0.000000   \n",
       "111899                219                  1                20       0.000000   \n",
       "111900                 -1                  0                20       0.000000   \n",
       "111904                  0                  0                40       0.000000   \n",
       "\n",
       "           Active Std  Active Max  Active Min     Idle Mean      Idle Std  \\\n",
       "0            0.000000           0           0  0.000000e+00  0.000000e+00   \n",
       "1       117401.762867      356150       68519  1.000239e+07  1.665183e+04   \n",
       "2            0.000000           0           0  0.000000e+00  0.000000e+00   \n",
       "3       386311.526445      800847      254520  3.457024e+07  3.406089e+07   \n",
       "4            0.000000           0           0  0.000000e+00  0.000000e+00   \n",
       "...               ...         ...         ...           ...           ...   \n",
       "111891       0.000000           0           0  0.000000e+00  0.000000e+00   \n",
       "111896       0.000000           0           0  0.000000e+00  0.000000e+00   \n",
       "111899       0.000000           0           0  0.000000e+00  0.000000e+00   \n",
       "111900       0.000000           0           0  0.000000e+00  0.000000e+00   \n",
       "111904       0.000000           0           0  0.000000e+00  0.000000e+00   \n",
       "\n",
       "        Idle Max  Idle Min  Label  \n",
       "0              0         0      0  \n",
       "1       10009249   9968397      0  \n",
       "2              0         0      0  \n",
       "3       58654921  10485549      0  \n",
       "4              0         0      0  \n",
       "...          ...       ...    ...  \n",
       "111891         0         0      1  \n",
       "111896         0         0      1  \n",
       "111899         0         0      1  \n",
       "111900         0         0      1  \n",
       "111904         0         0      1  \n",
       "\n",
       "[50000 rows x 79 columns]"
      ]
     },
     "execution_count": 17,
     "metadata": {},
     "output_type": "execute_result"
    }
   ],
   "source": [
    "df_equal.groupby(target)['Bwd Pkts/s'].value_counts(normalize=True).sort_values(ascending=False)\n",
    "df_equal"
   ]
  },
  {
   "cell_type": "markdown",
   "id": "2c4847d7",
   "metadata": {},
   "source": [
    "<a name=\"EDA\"></a>\n",
    "## 4. Exploratory Data Analysis"
   ]
  },
  {
   "cell_type": "code",
   "execution_count": 18,
   "id": "d0794a36",
   "metadata": {},
   "outputs": [],
   "source": [
    "def pie_plot(df, cols_list, rows, cols):\n",
    "    fig, axes = plt.subplots(rows, cols,figsize=(18, 18))\n",
    "    colors = plt.cm.Set3(np.linspace(0, 1, len(cols_list)))  # Custom color palette\n",
    "\n",
    "    for ax, col, color in zip(axes.ravel(), cols_list, colors):\n",
    "        counts = df[col].value_counts()\n",
    "        wedges, texts, autotexts = ax.pie(counts, labels=counts.index, autopct='%1.0f%%', colors=plt.cm.Set3(np.random.rand(len(counts)))) \n",
    "        ax.set_title(str(col), fontsize=15)\n",
    "        plt.setp(autotexts, size=10)  # Set font size for autopct labels\n",
    "        \n",
    "    plt.show()"
   ]
  },
  {
   "cell_type": "code",
   "execution_count": 19,
   "id": "314928a9",
   "metadata": {},
   "outputs": [
    {
     "data": {
      "image/png": "[encoded data removed]",
      "text/plain": [
       "<Figure size 1296x1296 with 2 Axes>"
      ]
     },
     "metadata": {},
     "output_type": "display_data"
    }
   ],
   "source": [
    "pie_plot(df_train, ['Protocol', 'Label'], 1, 2)"
   ]
  },
  {
   "cell_type": "code",
   "execution_count": 20,
   "id": "583cb18a",
   "metadata": {},
   "outputs": [
    {
     "data": {
      "image/png": "[encoded data removed]",
      "text/plain": [
       "<Figure size 1296x1296 with 2 Axes>"
      ]
     },
     "metadata": {},
     "output_type": "display_data"
    }
   ],
   "source": [
    "pie_plot(df_equal, ['Protocol', 'Label'], 1, 2)"
   ]
  },
  {
   "cell_type": "markdown",
   "id": "a1fab7ff",
   "metadata": {},
   "source": [
    "<a name=\"Preprocess\"></a>\n",
    "## 5.  Preprocess dataset"
   ]
  },
  {
   "cell_type": "code",
   "execution_count": 21,
   "id": "cfc8be10",
   "metadata": {},
   "outputs": [],
   "source": [
    "df_train.drop(['Unnamed: 0'], axis=1,inplace=True)\n",
    "#Dropped the unnamed:0 as it adds no value to our datasets"
   ]
  },
  {
   "cell_type": "code",
   "execution_count": 22,
   "id": "f2aa650a",
   "metadata": {},
   "outputs": [],
   "source": [
    "df_equal.drop(['Unnamed: 0'], axis=1,inplace=True)\n",
    "#Dropped the unnamed:0 as it adds no value to our datasets"
   ]
  },
  {
   "cell_type": "code",
   "execution_count": 23,
   "id": "3fa85d47",
   "metadata": {},
   "outputs": [],
   "source": [
    "# Separate features and labels for classification\n",
    "X = df_equal.drop('Label', axis=1)\n",
    "y = df_equal['Label']\n",
    "\n",
    "# Convert labels to numerical values\n",
    "#label_encoder = LabelEncoder()\n",
    "#y = label_encoder.fit_transform(y)"
   ]
  },
  {
   "cell_type": "code",
   "execution_count": 24,
   "id": "ae6cc011",
   "metadata": {},
   "outputs": [],
   "source": [
    "# Standardize the features\n",
    "scaler = StandardScaler()\n",
    "X = scaler.fit_transform(X)"
   ]
  },
  {
   "cell_type": "code",
   "execution_count": 25,
   "id": "7fdfed32",
   "metadata": {},
   "outputs": [
    {
     "data": {
      "text/plain": [
       "(50000, 77)"
      ]
     },
     "execution_count": 25,
     "metadata": {},
     "output_type": "execute_result"
    }
   ],
   "source": [
    "X.shape"
   ]
  },
  {
   "cell_type": "code",
   "execution_count": 26,
   "id": "edfa3efe",
   "metadata": {},
   "outputs": [],
   "source": [
    "# Split the data into train and validation sets\n",
    "X_train, X_val1, y_train, y_val1 = train_test_split(X, y, test_size=0.3, random_state=0)\n",
    "X_val, X_test, y_val, y_test = train_test_split(X_val1, y_val1, test_size=0.1, random_state=0)"
   ]
  },
  {
   "cell_type": "code",
   "execution_count": 27,
   "id": "5bb1adcb",
   "metadata": {},
   "outputs": [],
   "source": [
    "# Separate features and labels for regression\n",
    "X = df_equal.drop('Label', axis=1)\n",
    "y_reg = df_equal['Label']\n",
    "\n",
    "# Standardize the features for regression\n",
    "scaler_reg = StandardScaler()\n",
    "X_reg = scaler_reg.fit_transform(X)\n",
    "\n",
    "# Split the data into train and validation sets for regression\n",
    "X_train_reg, X_val1_reg, y_train_reg, y_val1_reg = train_test_split(X_reg, y_reg, test_size=0.3, random_state=0)\n",
    "X_val_reg, X_test_reg, y_val_reg, y_test_reg = train_test_split(X_val1_reg, y_val1_reg, test_size=0.1, random_state=0)"
   ]
  },
  {
   "cell_type": "code",
   "execution_count": 28,
   "id": "b6149c32",
   "metadata": {},
   "outputs": [],
   "source": [
    "def evaluate_regression(model, name, X_train, X_test, y_train, y_test):\n",
    "    train_rmse = mean_squared_error(y_train, model.predict(X_train), squared=False)\n",
    "    test_rmse = mean_squared_error(y_test, model.predict(X_test), squared=False)\n",
    "\n",
    "    print(\"Training RMSE \" + str(name) + \": {:.4f}\".format(train_rmse))\n",
    "    print(\"Test RMSE \" + str(name) + \": {:.4f}\".format(test_rmse))\n"
   ]
  },
  {
   "cell_type": "code",
   "execution_count": null,
   "id": "e7a8d9db",
   "metadata": {},
   "outputs": [],
   "source": []
  },
  {
   "cell_type": "code",
   "execution_count": 29,
   "id": "eb4bc2a6",
   "metadata": {},
   "outputs": [],
   "source": [
    "classification_evals = {}\n",
    "\n",
    "def evaluate_classification(model, name, X_train, X_test, y_train, y_test):\n",
    "    train_accuracy = metrics.accuracy_score(y_train, model.predict(np.array(X_train)))\n",
    "    test_accuracy = metrics.accuracy_score(y_test, model.predict(np.array(X_test)))\n",
    "    train_precision = metrics.precision_score(y_train, model.predict(np.array(X_train)))\n",
    "    test_precision = metrics.precision_score(y_test, model.predict(np.array(X_test)))\n",
    "    train_recall = metrics.recall_score(y_train, model.predict(np.array(X_train)))\n",
    "    test_recall = metrics.recall_score(y_test, model.predict(np.array(X_test)))\n",
    "\n",
    "    classification_evals[name] = {\n",
    "        'Train Accuracy': train_accuracy,\n",
    "        'Test Accuracy': test_accuracy,\n",
    "        'Train Precision': train_precision,\n",
    "        'Test Precision': test_precision,\n",
    "        'Train Recall': train_recall,\n",
    "        'Test Recall': test_recall\n",
    "    }\n",
    "\n",
    "    print(\"Training Accuracy \" + str(name) + \": {:.2f}\".format(train_accuracy * 100))\n",
    "    print(\"Test Accuracy \" + str(name) + \": {:.2f}\".format(test_accuracy * 100))\n",
    "    print(\"Training Precision \" + str(name) + \": {:.2f}\".format(train_precision * 100))\n",
    "    print(\"Test Precision \" + str(name) + \": {:.2f}\".format(test_precision * 100))\n",
    "    print(\"Training Recall \" + str(name) + \": {:.2f}\".format(train_recall * 100))\n",
    "    print(\"Test Recall \" + str(name) + \": {:.2f}\".format(test_recall * 100))\n",
    "\n",
    "    # Plot the confusion matrix\n",
    "    actual = y_test\n",
    "    predicted = model.predict(np.array(X_test))\n",
    "    confusion_matrix = metrics.confusion_matrix(actual, predicted)\n",
    "    cm_display = ConfusionMatrixDisplay(confusion_matrix=confusion_matrix, display_labels=['normal','attack'])\n",
    "\n",
    "    fig, ax = plt.subplots(figsize=(6, 6))\n",
    "    ax.grid(False)\n",
    "    cm_display.plot(ax=ax)\n"
   ]
  },
  {
   "cell_type": "markdown",
   "id": "d9a068fd",
   "metadata": {},
   "source": [
    "<a name=\"Modelling\"></a>\n",
    "## 6.  Model Building"
   ]
  },
  {
   "cell_type": "markdown",
   "id": "37158d36",
   "metadata": {},
   "source": [
    "### Logistic Regression"
   ]
  },
  {
   "cell_type": "code",
   "execution_count": 30,
   "id": "b3b16298",
   "metadata": {},
   "outputs": [
    {
     "name": "stdout",
     "output_type": "stream",
     "text": [
      "Training Accuracy Logistic Regression: 97.83\n",
      "Test Accuracy Logistic Regression: 97.47\n",
      "Training Precision Logistic Regression: 96.00\n",
      "Test Precision Logistic Regression: 95.24\n",
      "Training Recall Logistic Regression: 99.83\n",
      "Test Recall Logistic Regression: 99.87\n"
     ]
    },
    {
     "data": {
      "image/png": "[encoded data removed]",
      "text/plain": [
       "<Figure size 432x432 with 2 Axes>"
      ]
     },
     "metadata": {
      "needs_background": "light"
     },
     "output_type": "display_data"
    }
   ],
   "source": [
    "lr = LogisticRegression().fit(X_train, y_train)\n",
    "evaluate_classification(lr, \"Logistic Regression\", X_train, X_test, y_train, y_test)"
   ]
  },
  {
   "cell_type": "markdown",
   "id": "549d9172",
   "metadata": {},
   "source": [
    "### Knearest neighbors"
   ]
  },
  {
   "cell_type": "code",
   "execution_count": 31,
   "id": "c02e6f8e",
   "metadata": {},
   "outputs": [
    {
     "name": "stdout",
     "output_type": "stream",
     "text": [
      "Training Accuracy KNeighborsClassifier: 99.74\n",
      "Test Accuracy KNeighborsClassifier: 99.67\n",
      "Training Precision KNeighborsClassifier: 99.81\n",
      "Test Precision KNeighborsClassifier: 99.60\n",
      "Training Recall KNeighborsClassifier: 99.67\n",
      "Test Recall KNeighborsClassifier: 99.73\n"
     ]
    },
    {
     "data": {
      "image/png": "[encoded data removed]",
      "text/plain": [
       "<Figure size 432x432 with 2 Axes>"
      ]
     },
     "metadata": {
      "needs_background": "light"
     },
     "output_type": "display_data"
    }
   ],
   "source": [
    "knn = KNeighborsClassifier(n_neighbors=20).fit(X_train, y_train)\n",
    "evaluate_classification(knn, \"KNeighborsClassifier\", X_train, X_test, y_train, y_test)"
   ]
  },
  {
   "cell_type": "code",
   "execution_count": null,
   "id": "74952f03",
   "metadata": {},
   "outputs": [],
   "source": []
  },
  {
   "cell_type": "markdown",
   "id": "4234d2e1",
   "metadata": {},
   "source": [
    "### Naive Bayes"
   ]
  },
  {
   "cell_type": "code",
   "execution_count": 32,
   "id": "e9efc9b2",
   "metadata": {},
   "outputs": [
    {
     "name": "stdout",
     "output_type": "stream",
     "text": [
      "Training Accuracy GaussianNB: 90.81\n",
      "Test Accuracy GaussianNB: 90.87\n",
      "Training Precision GaussianNB: 85.25\n",
      "Test Precision GaussianNB: 85.13\n",
      "Training Recall GaussianNB: 98.78\n",
      "Test Recall GaussianNB: 98.79\n"
     ]
    },
    {
     "data": {
      "image/png": "[encoded data removed]",
      "text/plain": [
       "<Figure size 432x432 with 2 Axes>"
      ]
     },
     "metadata": {
      "needs_background": "light"
     },
     "output_type": "display_data"
    }
   ],
   "source": [
    "#dfequal\n",
    "gnb = GaussianNB().fit(X_train, y_train)\n",
    "evaluate_classification(gnb, \"GaussianNB\", X_train, X_test, y_train, y_test)"
   ]
  },
  {
   "cell_type": "markdown",
   "id": "392fb321",
   "metadata": {},
   "source": [
    "### SVM"
   ]
  },
  {
   "cell_type": "code",
   "execution_count": 34,
   "id": "1fa01286",
   "metadata": {},
   "outputs": [
    {
     "name": "stdout",
     "output_type": "stream",
     "text": [
      "Training Accuracy Linear SVC(LBasedImpl): 98.22\n",
      "Test Accuracy Linear SVC(LBasedImpl): 97.87\n",
      "Training Precision Linear SVC(LBasedImpl): 96.75\n",
      "Test Precision Linear SVC(LBasedImpl): 95.98\n",
      "Training Recall Linear SVC(LBasedImpl): 99.81\n",
      "Test Recall Linear SVC(LBasedImpl): 99.87\n"
     ]
    },
    {
     "data": {
      "image/png": "[encoded data removed]",
      "text/plain": [
       "<Figure size 432x432 with 2 Axes>"
      ]
     },
     "metadata": {
      "needs_background": "light"
     },
     "output_type": "display_data"
    }
   ],
   "source": [
    "lin_svc = svm.LinearSVC().fit(X_train, y_train)\n",
    "evaluate_classification(lin_svc, \"Linear SVC(LBasedImpl)\", X_train, X_test, y_train, y_test)"
   ]
  },
  {
   "cell_type": "markdown",
   "id": "d5345b38",
   "metadata": {},
   "source": [
    "### Decision Tree"
   ]
  },
  {
   "cell_type": "code",
   "execution_count": 35,
   "id": "2babe53c",
   "metadata": {},
   "outputs": [
    {
     "name": "stdout",
     "output_type": "stream",
     "text": [
      "Training Accuracy DecisionTreeClassifier: 100.00\n",
      "Test Accuracy DecisionTreeClassifier: 100.00\n",
      "Training Precision DecisionTreeClassifier: 100.00\n",
      "Test Precision DecisionTreeClassifier: 100.00\n",
      "Training Recall DecisionTreeClassifier: 100.00\n",
      "Test Recall DecisionTreeClassifier: 100.00\n"
     ]
    },
    {
     "data": {
      "image/png": "[encoded data removed]",
      "text/plain": [
       "<Figure size 432x432 with 2 Axes>"
      ]
     },
     "metadata": {
      "needs_background": "light"
     },
     "output_type": "display_data"
    }
   ],
   "source": [
    "dt = DecisionTreeClassifier(max_depth=3).fit(X_train, y_train)\n",
    "tdt = DecisionTreeClassifier().fit(X_train, y_train)\n",
    "evaluate_classification(tdt, \"DecisionTreeClassifier\", X_train, X_test, y_train, y_test)"
   ]
  },
  {
   "cell_type": "code",
   "execution_count": 36,
   "id": "3ce5af57",
   "metadata": {},
   "outputs": [
    {
     "data": {
      "image/png": "[encoded data removed]",
      "text/plain": [
       "<Figure size 720x720 with 1 Axes>"
      ]
     },
     "metadata": {
      "needs_background": "light"
     },
     "output_type": "display_data"
    }
   ],
   "source": [
    "def f_importances(coef, names, top=-1):\n",
    "    imp = coef\n",
    "    imp, names = zip(*sorted(list(zip(imp, names))))\n",
    "\n",
    "    # Show all features\n",
    "    if top == -1:\n",
    "        top = len(names)\n",
    "    \n",
    "    plt.figure(figsize=(10,10))\n",
    "    plt.barh(range(top), imp[::-1][0:top], align='center')\n",
    "    plt.yticks(range(top), names[::-1][0:top])\n",
    "    plt.title('feature importances for Decision Tree')\n",
    "    plt.show()\n",
    "\n",
    "features_names = df_train.drop(['Bwd Pkts/s', 'Label'] , axis = 1)\n",
    "f_importances(abs(tdt.feature_importances_), features_names, top=18)"
   ]
  },
  {
   "cell_type": "code",
   "execution_count": 37,
   "id": "0fa0b1de",
   "metadata": {},
   "outputs": [
    {
     "data": {
      "text/plain": [
       "[Text(0.5769230769230769, 0.875, 'X[65] <= 0.286\\ngini = 0.5\\nsamples = 35000\\nvalue = [17442, 17558]'),\n",
       " Text(0.3076923076923077, 0.625, 'X[13] <= -0.343\\ngini = 0.375\\nsamples = 20168\\nvalue = [15118, 5050]'),\n",
       " Text(0.15384615384615385, 0.375, 'X[65] <= -0.809\\ngini = 0.499\\nsamples = 9665\\nvalue = [4663, 5002]'),\n",
       " Text(0.07692307692307693, 0.125, 'gini = 0.407\\nsamples = 5707\\nvalue = [4082, 1625]'),\n",
       " Text(0.23076923076923078, 0.125, 'gini = 0.25\\nsamples = 3958\\nvalue = [581, 3377]'),\n",
       " Text(0.46153846153846156, 0.375, 'X[0] <= 2.623\\ngini = 0.009\\nsamples = 10503\\nvalue = [10455, 48]'),\n",
       " Text(0.38461538461538464, 0.125, 'gini = 0.001\\nsamples = 10454\\nvalue = [10451, 3]'),\n",
       " Text(0.5384615384615384, 0.125, 'gini = 0.15\\nsamples = 49\\nvalue = [4, 45]'),\n",
       " Text(0.8461538461538461, 0.625, 'X[0] <= -0.416\\ngini = 0.264\\nsamples = 14832\\nvalue = [2324, 12508]'),\n",
       " Text(0.7692307692307693, 0.375, 'X[11] <= 2.058\\ngini = 0.004\\nsamples = 12535\\nvalue = [27, 12508]'),\n",
       " Text(0.6923076923076923, 0.125, 'gini = 0.004\\nsamples = 12534\\nvalue = [26, 12508]'),\n",
       " Text(0.8461538461538461, 0.125, 'gini = 0.0\\nsamples = 1\\nvalue = [1, 0]'),\n",
       " Text(0.9230769230769231, 0.375, 'gini = 0.0\\nsamples = 2297\\nvalue = [2297, 0]')]"
      ]
     },
     "execution_count": 37,
     "metadata": {},
     "output_type": "execute_result"
    },
    {
     "data": {
      "image/png": "[encoded data removed]",
      "text/plain": [
       "<Figure size 1080x864 with 1 Axes>"
      ]
     },
     "metadata": {
      "needs_background": "light"
     },
     "output_type": "display_data"
    }
   ],
   "source": [
    "fig = plt.figure(figsize=(15,12))\n",
    "tree.plot_tree(dt , filled=True)"
   ]
  },
  {
   "cell_type": "markdown",
   "id": "fe56f82b",
   "metadata": {},
   "source": [
    "## Random forest"
   ]
  },
  {
   "cell_type": "code",
   "execution_count": 38,
   "id": "33ebd747",
   "metadata": {},
   "outputs": [
    {
     "name": "stdout",
     "output_type": "stream",
     "text": [
      "Training Accuracy RandomForestClassifier: 100.00\n",
      "Test Accuracy RandomForestClassifier: 99.93\n",
      "Training Precision RandomForestClassifier: 100.00\n",
      "Test Precision RandomForestClassifier: 100.00\n",
      "Training Recall RandomForestClassifier: 100.00\n",
      "Test Recall RandomForestClassifier: 99.87\n"
     ]
    },
    {
     "data": {
      "image/png": "[encoded data removed]",
      "text/plain": [
       "<Figure size 432x432 with 2 Axes>"
      ]
     },
     "metadata": {
      "needs_background": "light"
     },
     "output_type": "display_data"
    }
   ],
   "source": [
    "rf = RandomForestClassifier().fit(X_train, y_train)\n",
    "evaluate_classification(rf, \"RandomForestClassifier\", X_train, X_test, y_train, y_test)"
   ]
  },
  {
   "cell_type": "code",
   "execution_count": 39,
   "id": "486145c1",
   "metadata": {},
   "outputs": [
    {
     "data": {
      "image/png": "[encoded data removed]",
      "text/plain": [
       "<Figure size 720x720 with 1 Axes>"
      ]
     },
     "metadata": {
      "needs_background": "light"
     },
     "output_type": "display_data"
    }
   ],
   "source": [
    "f_importances(abs(rf.feature_importances_), features_names, top=18)"
   ]
  },
  {
   "cell_type": "markdown",
   "id": "15adba15",
   "metadata": {},
   "source": [
    "### XGBOOST Regressor in order to predict threat level"
   ]
  },
  {
   "cell_type": "code",
   "execution_count": 40,
   "id": "106f53ef",
   "metadata": {},
   "outputs": [],
   "source": [
    "import xgboost as xgb\n",
    "from sklearn.metrics import mean_squared_error"
   ]
  },
  {
   "cell_type": "code",
   "execution_count": 41,
   "id": "18891116",
   "metadata": {},
   "outputs": [],
   "source": [
    "dtrain_reg = xgb.DMatrix(X_train_reg, label=y_train_reg)"
   ]
  },
  {
   "cell_type": "code",
   "execution_count": 42,
   "id": "0e6d84bc",
   "metadata": {},
   "outputs": [],
   "source": [
    "params_reg = {\n",
    "    'objective': 'reg:squarederror',\n",
    "    'eta': 0.1,\n",
    "    'max_depth': 3,\n",
    "    'min_child_weight': 1,\n",
    "    'subsample': 0.8,\n",
    "    'colsample_bytree': 0.8\n",
    "}\n",
    "num_rounds_reg = 100\n",
    "model_reg = xgb.train(params_reg, dtrain_reg, num_rounds_reg)\n"
   ]
  },
  {
   "cell_type": "code",
   "execution_count": 43,
   "id": "cb4c0767",
   "metadata": {},
   "outputs": [
    {
     "name": "stdout",
     "output_type": "stream",
     "text": [
      "[17:09:42] WARNING: C:/Users/Administrator/workspace/xgboost-win64_release_1.6.0/src/objective/regression_obj.cu:203: reg:linear is now deprecated in favor of reg:squarederror.\n"
     ]
    }
   ],
   "source": [
    "# Train XGBoost regressor\n",
    "xg_r = xgb.XGBRegressor(objective='reg:linear', n_estimators=20).fit(X_train_reg, y_train_reg)"
   ]
  },
  {
   "cell_type": "code",
   "execution_count": 44,
   "id": "cec3b880",
   "metadata": {},
   "outputs": [
    {
     "name": "stdout",
     "output_type": "stream",
     "text": [
      "Training Error XGBOOST: 0.0082\n",
      "Test Error XGBOOST: 0.0205\n"
     ]
    }
   ],
   "source": [
    "name = \"XGBOOST\"\n",
    "train_error = metrics.mean_squared_error(y_train_reg, xg_r.predict(X_train_reg), squared=False)\n",
    "test_error = metrics.mean_squared_error(y_test_reg, xg_r.predict(X_test_reg), squared=False)\n",
    "print(\"Training Error \" + str(name) + \": {:.4f}\".format(train_error))\n",
    "print(\"Test Error \" + str(name) + \": {:.4f}\".format(test_error))"
   ]
  },
  {
   "cell_type": "code",
   "execution_count": 45,
   "id": "77191ceb",
   "metadata": {},
   "outputs": [
    {
     "data": {
      "image/png": "[encoded data removed]",
      "text/plain": [
       "<Figure size 1152x576 with 1 Axes>"
      ]
     },
     "metadata": {
      "needs_background": "light"
     },
     "output_type": "display_data"
    }
   ],
   "source": [
    "y_pred = xg_r.predict(X_test_reg)\n",
    "df = pd.DataFrame({\"Y_test\": y_test_reg, \"Y_pred\": y_pred})\n",
    "plt.figure(figsize=(16, 8))\n",
    "plt.plot(df[:80])\n",
    "plt.legend(['Actual', 'Predicted'])\n",
    "plt.show()"
   ]
  },
  {
   "cell_type": "code",
   "execution_count": null,
   "id": "8d8fdfa6",
   "metadata": {},
   "outputs": [],
   "source": []
  },
  {
   "cell_type": "code",
   "execution_count": null,
   "id": "ae8f77e8",
   "metadata": {},
   "outputs": [],
   "source": []
  },
  {
   "cell_type": "markdown",
   "id": "47019e96",
   "metadata": {},
   "source": [
    "### Bagging Ensemble"
   ]
  },
  {
   "cell_type": "code",
   "execution_count": 46,
   "id": "a3e161a5",
   "metadata": {},
   "outputs": [],
   "source": [
    "from sklearn.calibration import CalibratedClassifierCV\n",
    "from sklearn.svm import SVC, LinearSVC"
   ]
  },
  {
   "cell_type": "code",
   "execution_count": 47,
   "id": "1b4577e6",
   "metadata": {},
   "outputs": [],
   "source": [
    "# Create base classifiers for the ensemble\n",
    "base_classifier_dt = DecisionTreeClassifier()\n",
    "base_classifier_lr = LogisticRegression()\n",
    "base_classifier_knn = KNeighborsClassifier(n_neighbors=20)\n",
    "base_classifier_nb = GaussianNB()\n",
    "base_classifier_svc = CalibratedClassifierCV(LinearSVC())\n",
    "base_classifier_xgb = xgb.XGBClassifier()"
   ]
  },
  {
   "cell_type": "code",
   "execution_count": 48,
   "id": "e24fc8b1",
   "metadata": {},
   "outputs": [],
   "source": [
    "# Create the bagging ensemble\n",
    "bagging_classifier = BaggingClassifier(base_classifier_dt, n_estimators=20)"
   ]
  },
  {
   "cell_type": "code",
   "execution_count": 49,
   "id": "682a21c5",
   "metadata": {},
   "outputs": [
    {
     "data": {
      "text/html": [
       "<style>#sk-container-id-1 {color: black;background-color: white;}#sk-container-id-1 pre{padding: 0;}#sk-container-id-1 div.sk-toggleable {background-color: white;}#sk-container-id-1 label.sk-toggleable__label {cursor: pointer;display: block;width: 100%;margin-bottom: 0;padding: 0.3em;box-sizing: border-box;text-align: center;}#sk-container-id-1 label.sk-toggleable__label-arrow:before {content: \"▸\";float: left;margin-right: 0.25em;color: #696969;}#sk-container-id-1 label.sk-toggleable__label-arrow:hover:before {color: black;}#sk-container-id-1 div.sk-estimator:hover label.sk-toggleable__label-arrow:before {color: black;}#sk-container-id-1 div.sk-toggleable__content {max-height: 0;max-width: 0;overflow: hidden;text-align: left;background-color: #f0f8ff;}#sk-container-id-1 div.sk-toggleable__content pre {margin: 0.2em;color: black;border-radius: 0.25em;background-color: #f0f8ff;}#sk-container-id-1 input.sk-toggleable__control:checked~div.sk-toggleable__content {max-height: 200px;max-width: 100%;overflow: auto;}#sk-container-id-1 input.sk-toggleable__control:checked~label.sk-toggleable__label-arrow:before {content: \"▾\";}#sk-container-id-1 div.sk-estimator input.sk-toggleable__control:checked~label.sk-toggleable__label {background-color: #d4ebff;}#sk-container-id-1 div.sk-label input.sk-toggleable__control:checked~label.sk-toggleable__label {background-color: #d4ebff;}#sk-container-id-1 input.sk-hidden--visually {border: 0;clip: rect(1px 1px 1px 1px);clip: rect(1px, 1px, 1px, 1px);height: 1px;margin: -1px;overflow: hidden;padding: 0;position: absolute;width: 1px;}#sk-container-id-1 div.sk-estimator {font-family: monospace;background-color: #f0f8ff;border: 1px dotted black;border-radius: 0.25em;box-sizing: border-box;margin-bottom: 0.5em;}#sk-container-id-1 div.sk-estimator:hover {background-color: #d4ebff;}#sk-container-id-1 div.sk-parallel-item::after {content: \"\";width: 100%;border-bottom: 1px solid gray;flex-grow: 1;}#sk-container-id-1 div.sk-label:hover label.sk-toggleable__label {background-color: #d4ebff;}#sk-container-id-1 div.sk-serial::before {content: \"\";position: absolute;border-left: 1px solid gray;box-sizing: border-box;top: 0;bottom: 0;left: 50%;z-index: 0;}#sk-container-id-1 div.sk-serial {display: flex;flex-direction: column;align-items: center;background-color: white;padding-right: 0.2em;padding-left: 0.2em;position: relative;}#sk-container-id-1 div.sk-item {position: relative;z-index: 1;}#sk-container-id-1 div.sk-parallel {display: flex;align-items: stretch;justify-content: center;background-color: white;position: relative;}#sk-container-id-1 div.sk-item::before, #sk-container-id-1 div.sk-parallel-item::before {content: \"\";position: absolute;border-left: 1px solid gray;box-sizing: border-box;top: 0;bottom: 0;left: 50%;z-index: -1;}#sk-container-id-1 div.sk-parallel-item {display: flex;flex-direction: column;z-index: 1;position: relative;background-color: white;}#sk-container-id-1 div.sk-parallel-item:first-child::after {align-self: flex-end;width: 50%;}#sk-container-id-1 div.sk-parallel-item:last-child::after {align-self: flex-start;width: 50%;}#sk-container-id-1 div.sk-parallel-item:only-child::after {width: 0;}#sk-container-id-1 div.sk-dashed-wrapped {border: 1px dashed gray;margin: 0 0.4em 0.5em 0.4em;box-sizing: border-box;padding-bottom: 0.4em;background-color: white;}#sk-container-id-1 div.sk-label label {font-family: monospace;font-weight: bold;display: inline-block;line-height: 1.2em;}#sk-container-id-1 div.sk-label-container {text-align: center;}#sk-container-id-1 div.sk-container {/* jupyter's `normalize.less` sets `[hidden] { display: none; }` but bootstrap.min.css set `[hidden] { display: none !important; }` so we also need the `!important` here to be able to override the default hidden behavior on the sphinx rendered scikit-learn.org. See: https://github.com/scikit-learn/scikit-learn/issues/21755 */display: inline-block !important;position: relative;}#sk-container-id-1 div.sk-text-repr-fallback {display: none;}</style><div id=\"sk-container-id-1\" class=\"sk-top-container\"><div class=\"sk-text-repr-fallback\"><pre>BaggingClassifier(base_estimator=DecisionTreeClassifier(), n_estimators=20)</pre><b>In a Jupyter environment, please rerun this cell to show the HTML representation or trust the notebook. <br />On GitHub, the HTML representation is unable to render, please try loading this page with nbviewer.org.</b></div><div class=\"sk-container\" hidden><div class=\"sk-item sk-dashed-wrapped\"><div class=\"sk-label-container\"><div class=\"sk-label sk-toggleable\"><input class=\"sk-toggleable__control sk-hidden--visually\" id=\"sk-estimator-id-1\" type=\"checkbox\" ><label for=\"sk-estimator-id-1\" class=\"sk-toggleable__label sk-toggleable__label-arrow\">BaggingClassifier</label><div class=\"sk-toggleable__content\"><pre>BaggingClassifier(base_estimator=DecisionTreeClassifier(), n_estimators=20)</pre></div></div></div><div class=\"sk-parallel\"><div class=\"sk-parallel-item\"><div class=\"sk-item\"><div class=\"sk-label-container\"><div class=\"sk-label sk-toggleable\"><input class=\"sk-toggleable__control sk-hidden--visually\" id=\"sk-estimator-id-2\" type=\"checkbox\" ><label for=\"sk-estimator-id-2\" class=\"sk-toggleable__label sk-toggleable__label-arrow\">base_estimator: DecisionTreeClassifier</label><div class=\"sk-toggleable__content\"><pre>DecisionTreeClassifier()</pre></div></div></div><div class=\"sk-serial\"><div class=\"sk-item\"><div class=\"sk-estimator sk-toggleable\"><input class=\"sk-toggleable__control sk-hidden--visually\" id=\"sk-estimator-id-3\" type=\"checkbox\" ><label for=\"sk-estimator-id-3\" class=\"sk-toggleable__label sk-toggleable__label-arrow\">DecisionTreeClassifier</label><div class=\"sk-toggleable__content\"><pre>DecisionTreeClassifier()</pre></div></div></div></div></div></div></div></div></div></div>"
      ],
      "text/plain": [
       "BaggingClassifier(base_estimator=DecisionTreeClassifier(), n_estimators=20)"
      ]
     },
     "execution_count": 49,
     "metadata": {},
     "output_type": "execute_result"
    }
   ],
   "source": [
    "# Fit the bagging ensemble on the training data\n",
    "bagging_classifier.fit(X_train, y_train)"
   ]
  },
  {
   "cell_type": "code",
   "execution_count": 50,
   "id": "097012fc",
   "metadata": {},
   "outputs": [
    {
     "name": "stdout",
     "output_type": "stream",
     "text": [
      "Training Accuracy Bagging Ensemble: 100.00\n",
      "Test Accuracy Bagging Ensemble: 99.93\n",
      "Training Precision Bagging Ensemble: 100.00\n",
      "Test Precision Bagging Ensemble: 100.00\n",
      "Training Recall Bagging Ensemble: 99.99\n",
      "Test Recall Bagging Ensemble: 99.87\n"
     ]
    },
    {
     "data": {
      "image/png": "[encoded data removed]",
      "text/plain": [
       "<Figure size 432x432 with 2 Axes>"
      ]
     },
     "metadata": {
      "needs_background": "light"
     },
     "output_type": "display_data"
    }
   ],
   "source": [
    "# Evaluate the bagging ensemble\n",
    "evaluate_classification(bagging_classifier, \"Bagging Ensemble\", X_train, X_test, y_train, y_test)\n"
   ]
  },
  {
   "cell_type": "markdown",
   "id": "d8d05816",
   "metadata": {},
   "source": [
    "### Voting Ensemble"
   ]
  },
  {
   "cell_type": "code",
   "execution_count": 51,
   "id": "0eec2efd",
   "metadata": {},
   "outputs": [],
   "source": [
    "voting_classifier = VotingClassifier(\n",
    "    estimators=[\n",
    "        ('lr', base_classifier_lr),\n",
    "        ('knn', base_classifier_knn),\n",
    "        ('nb', base_classifier_nb),\n",
    "        ('svc', base_classifier_svc),\n",
    "        ('xgb', base_classifier_xgb)\n",
    "    ],\n",
    "    voting='soft'  # Use 'soft' voting for probabilities, or 'hard' for majority voting\n",
    ")"
   ]
  },
  {
   "cell_type": "code",
   "execution_count": 52,
   "id": "6539ccf2",
   "metadata": {},
   "outputs": [
    {
     "data": {
      "text/html": [
       "<style>#sk-container-id-2 {color: black;background-color: white;}#sk-container-id-2 pre{padding: 0;}#sk-container-id-2 div.sk-toggleable {background-color: white;}#sk-container-id-2 label.sk-toggleable__label {cursor: pointer;display: block;width: 100%;margin-bottom: 0;padding: 0.3em;box-sizing: border-box;text-align: center;}#sk-container-id-2 label.sk-toggleable__label-arrow:before {content: \"▸\";float: left;margin-right: 0.25em;color: #696969;}#sk-container-id-2 label.sk-toggleable__label-arrow:hover:before {color: black;}#sk-container-id-2 div.sk-estimator:hover label.sk-toggleable__label-arrow:before {color: black;}#sk-container-id-2 div.sk-toggleable__content {max-height: 0;max-width: 0;overflow: hidden;text-align: left;background-color: #f0f8ff;}#sk-container-id-2 div.sk-toggleable__content pre {margin: 0.2em;color: black;border-radius: 0.25em;background-color: #f0f8ff;}#sk-container-id-2 input.sk-toggleable__control:checked~div.sk-toggleable__content {max-height: 200px;max-width: 100%;overflow: auto;}#sk-container-id-2 input.sk-toggleable__control:checked~label.sk-toggleable__label-arrow:before {content: \"▾\";}#sk-container-id-2 div.sk-estimator input.sk-toggleable__control:checked~label.sk-toggleable__label {background-color: #d4ebff;}#sk-container-id-2 div.sk-label input.sk-toggleable__control:checked~label.sk-toggleable__label {background-color: #d4ebff;}#sk-container-id-2 input.sk-hidden--visually {border: 0;clip: rect(1px 1px 1px 1px);clip: rect(1px, 1px, 1px, 1px);height: 1px;margin: -1px;overflow: hidden;padding: 0;position: absolute;width: 1px;}#sk-container-id-2 div.sk-estimator {font-family: monospace;background-color: #f0f8ff;border: 1px dotted black;border-radius: 0.25em;box-sizing: border-box;margin-bottom: 0.5em;}#sk-container-id-2 div.sk-estimator:hover {background-color: #d4ebff;}#sk-container-id-2 div.sk-parallel-item::after {content: \"\";width: 100%;border-bottom: 1px solid gray;flex-grow: 1;}#sk-container-id-2 div.sk-label:hover label.sk-toggleable__label {background-color: #d4ebff;}#sk-container-id-2 div.sk-serial::before {content: \"\";position: absolute;border-left: 1px solid gray;box-sizing: border-box;top: 0;bottom: 0;left: 50%;z-index: 0;}#sk-container-id-2 div.sk-serial {display: flex;flex-direction: column;align-items: center;background-color: white;padding-right: 0.2em;padding-left: 0.2em;position: relative;}#sk-container-id-2 div.sk-item {position: relative;z-index: 1;}#sk-container-id-2 div.sk-parallel {display: flex;align-items: stretch;justify-content: center;background-color: white;position: relative;}#sk-container-id-2 div.sk-item::before, #sk-container-id-2 div.sk-parallel-item::before {content: \"\";position: absolute;border-left: 1px solid gray;box-sizing: border-box;top: 0;bottom: 0;left: 50%;z-index: -1;}#sk-container-id-2 div.sk-parallel-item {display: flex;flex-direction: column;z-index: 1;position: relative;background-color: white;}#sk-container-id-2 div.sk-parallel-item:first-child::after {align-self: flex-end;width: 50%;}#sk-container-id-2 div.sk-parallel-item:last-child::after {align-self: flex-start;width: 50%;}#sk-container-id-2 div.sk-parallel-item:only-child::after {width: 0;}#sk-container-id-2 div.sk-dashed-wrapped {border: 1px dashed gray;margin: 0 0.4em 0.5em 0.4em;box-sizing: border-box;padding-bottom: 0.4em;background-color: white;}#sk-container-id-2 div.sk-label label {font-family: monospace;font-weight: bold;display: inline-block;line-height: 1.2em;}#sk-container-id-2 div.sk-label-container {text-align: center;}#sk-container-id-2 div.sk-container {/* jupyter's `normalize.less` sets `[hidden] { display: none; }` but bootstrap.min.css set `[hidden] { display: none !important; }` so we also need the `!important` here to be able to override the default hidden behavior on the sphinx rendered scikit-learn.org. See: https://github.com/scikit-learn/scikit-learn/issues/21755 */display: inline-block !important;position: relative;}#sk-container-id-2 div.sk-text-repr-fallback {display: none;}</style><div id=\"sk-container-id-2\" class=\"sk-top-container\"><div class=\"sk-text-repr-fallback\"><pre>VotingClassifier(estimators=[(&#x27;lr&#x27;, LogisticRegression()),\n",
       "                             (&#x27;knn&#x27;, KNeighborsClassifier(n_neighbors=20)),\n",
       "                             (&#x27;nb&#x27;, GaussianNB()),\n",
       "                             (&#x27;svc&#x27;,\n",
       "                              CalibratedClassifierCV(base_estimator=LinearSVC())),\n",
       "                             (&#x27;xgb&#x27;,\n",
       "                              XGBClassifier(base_score=None, booster=None,\n",
       "                                            callbacks=None,\n",
       "                                            colsample_bylevel=None,\n",
       "                                            colsample_bynode=None,\n",
       "                                            colsample_bytree=None,\n",
       "                                            early_stopping_rounds=None,\n",
       "                                            enable_cat...\n",
       "                                            importance_type=None,\n",
       "                                            interaction_constraints=None,\n",
       "                                            learning_rate=None, max_bin=None,\n",
       "                                            max_cat_to_onehot=None,\n",
       "                                            max_delta_step=None, max_depth=None,\n",
       "                                            max_leaves=None,\n",
       "                                            min_child_weight=None, missing=nan,\n",
       "                                            monotone_constraints=None,\n",
       "                                            n_estimators=100, n_jobs=None,\n",
       "                                            num_parallel_tree=None,\n",
       "                                            predictor=None, random_state=None,\n",
       "                                            reg_alpha=None, reg_lambda=None, ...))],\n",
       "                 voting=&#x27;soft&#x27;)</pre><b>In a Jupyter environment, please rerun this cell to show the HTML representation or trust the notebook. <br />On GitHub, the HTML representation is unable to render, please try loading this page with nbviewer.org.</b></div><div class=\"sk-container\" hidden><div class=\"sk-item sk-dashed-wrapped\"><div class=\"sk-label-container\"><div class=\"sk-label sk-toggleable\"><input class=\"sk-toggleable__control sk-hidden--visually\" id=\"sk-estimator-id-4\" type=\"checkbox\" ><label for=\"sk-estimator-id-4\" class=\"sk-toggleable__label sk-toggleable__label-arrow\">VotingClassifier</label><div class=\"sk-toggleable__content\"><pre>VotingClassifier(estimators=[(&#x27;lr&#x27;, LogisticRegression()),\n",
       "                             (&#x27;knn&#x27;, KNeighborsClassifier(n_neighbors=20)),\n",
       "                             (&#x27;nb&#x27;, GaussianNB()),\n",
       "                             (&#x27;svc&#x27;,\n",
       "                              CalibratedClassifierCV(base_estimator=LinearSVC())),\n",
       "                             (&#x27;xgb&#x27;,\n",
       "                              XGBClassifier(base_score=None, booster=None,\n",
       "                                            callbacks=None,\n",
       "                                            colsample_bylevel=None,\n",
       "                                            colsample_bynode=None,\n",
       "                                            colsample_bytree=None,\n",
       "                                            early_stopping_rounds=None,\n",
       "                                            enable_cat...\n",
       "                                            importance_type=None,\n",
       "                                            interaction_constraints=None,\n",
       "                                            learning_rate=None, max_bin=None,\n",
       "                                            max_cat_to_onehot=None,\n",
       "                                            max_delta_step=None, max_depth=None,\n",
       "                                            max_leaves=None,\n",
       "                                            min_child_weight=None, missing=nan,\n",
       "                                            monotone_constraints=None,\n",
       "                                            n_estimators=100, n_jobs=None,\n",
       "                                            num_parallel_tree=None,\n",
       "                                            predictor=None, random_state=None,\n",
       "                                            reg_alpha=None, reg_lambda=None, ...))],\n",
       "                 voting=&#x27;soft&#x27;)</pre></div></div></div><div class=\"sk-parallel\"><div class=\"sk-parallel-item\"><div class=\"sk-item\"><div class=\"sk-label-container\"><div class=\"sk-label sk-toggleable\"><label>lr</label></div></div><div class=\"sk-serial\"><div class=\"sk-item\"><div class=\"sk-estimator sk-toggleable\"><input class=\"sk-toggleable__control sk-hidden--visually\" id=\"sk-estimator-id-5\" type=\"checkbox\" ><label for=\"sk-estimator-id-5\" class=\"sk-toggleable__label sk-toggleable__label-arrow\">LogisticRegression</label><div class=\"sk-toggleable__content\"><pre>LogisticRegression()</pre></div></div></div></div></div></div><div class=\"sk-parallel-item\"><div class=\"sk-item\"><div class=\"sk-label-container\"><div class=\"sk-label sk-toggleable\"><label>knn</label></div></div><div class=\"sk-serial\"><div class=\"sk-item\"><div class=\"sk-estimator sk-toggleable\"><input class=\"sk-toggleable__control sk-hidden--visually\" id=\"sk-estimator-id-6\" type=\"checkbox\" ><label for=\"sk-estimator-id-6\" class=\"sk-toggleable__label sk-toggleable__label-arrow\">KNeighborsClassifier</label><div class=\"sk-toggleable__content\"><pre>KNeighborsClassifier(n_neighbors=20)</pre></div></div></div></div></div></div><div class=\"sk-parallel-item\"><div class=\"sk-item\"><div class=\"sk-label-container\"><div class=\"sk-label sk-toggleable\"><label>nb</label></div></div><div class=\"sk-serial\"><div class=\"sk-item\"><div class=\"sk-estimator sk-toggleable\"><input class=\"sk-toggleable__control sk-hidden--visually\" id=\"sk-estimator-id-7\" type=\"checkbox\" ><label for=\"sk-estimator-id-7\" class=\"sk-toggleable__label sk-toggleable__label-arrow\">GaussianNB</label><div class=\"sk-toggleable__content\"><pre>GaussianNB()</pre></div></div></div></div></div></div><div class=\"sk-parallel-item\"><div class=\"sk-item\"><div class=\"sk-label-container\"><div class=\"sk-label sk-toggleable\"><label>svc</label></div></div><div class=\"sk-serial\"><div class=\"sk-item sk-dashed-wrapped\"><div class=\"sk-parallel\"><div class=\"sk-parallel-item\"><div class=\"sk-item\"><div class=\"sk-label-container\"><div class=\"sk-label sk-toggleable\"><input class=\"sk-toggleable__control sk-hidden--visually\" id=\"sk-estimator-id-8\" type=\"checkbox\" ><label for=\"sk-estimator-id-8\" class=\"sk-toggleable__label sk-toggleable__label-arrow\">base_estimator: LinearSVC</label><div class=\"sk-toggleable__content\"><pre>LinearSVC()</pre></div></div></div><div class=\"sk-serial\"><div class=\"sk-item\"><div class=\"sk-estimator sk-toggleable\"><input class=\"sk-toggleable__control sk-hidden--visually\" id=\"sk-estimator-id-9\" type=\"checkbox\" ><label for=\"sk-estimator-id-9\" class=\"sk-toggleable__label sk-toggleable__label-arrow\">LinearSVC</label><div class=\"sk-toggleable__content\"><pre>LinearSVC()</pre></div></div></div></div></div></div></div></div></div></div></div><div class=\"sk-parallel-item\"><div class=\"sk-item\"><div class=\"sk-label-container\"><div class=\"sk-label sk-toggleable\"><label>xgb</label></div></div><div class=\"sk-serial\"><div class=\"sk-item\"><div class=\"sk-estimator sk-toggleable\"><input class=\"sk-toggleable__control sk-hidden--visually\" id=\"sk-estimator-id-10\" type=\"checkbox\" ><label for=\"sk-estimator-id-10\" class=\"sk-toggleable__label sk-toggleable__label-arrow\">XGBClassifier</label><div class=\"sk-toggleable__content\"><pre>XGBClassifier(base_score=None, booster=None, callbacks=None,\n",
       "              colsample_bylevel=None, colsample_bynode=None,\n",
       "              colsample_bytree=None, early_stopping_rounds=None,\n",
       "              enable_categorical=False, eval_metric=None, gamma=None,\n",
       "              gpu_id=None, grow_policy=None, importance_type=None,\n",
       "              interaction_constraints=None, learning_rate=None, max_bin=None,\n",
       "              max_cat_to_onehot=None, max_delta_step=None, max_depth=None,\n",
       "              max_leaves=None, min_child_weight=None, missing=nan,\n",
       "              monotone_constraints=None, n_estimators=100, n_jobs=None,\n",
       "              num_parallel_tree=None, predictor=None, random_state=None,\n",
       "              reg_alpha=None, reg_lambda=None, ...)</pre></div></div></div></div></div></div></div></div></div></div>"
      ],
      "text/plain": [
       "VotingClassifier(estimators=[('lr', LogisticRegression()),\n",
       "                             ('knn', KNeighborsClassifier(n_neighbors=20)),\n",
       "                             ('nb', GaussianNB()),\n",
       "                             ('svc',\n",
       "                              CalibratedClassifierCV(base_estimator=LinearSVC())),\n",
       "                             ('xgb',\n",
       "                              XGBClassifier(base_score=None, booster=None,\n",
       "                                            callbacks=None,\n",
       "                                            colsample_bylevel=None,\n",
       "                                            colsample_bynode=None,\n",
       "                                            colsample_bytree=None,\n",
       "                                            early_stopping_rounds=None,\n",
       "                                            enable_cat...\n",
       "                                            importance_type=None,\n",
       "                                            interaction_constraints=None,\n",
       "                                            learning_rate=None, max_bin=None,\n",
       "                                            max_cat_to_onehot=None,\n",
       "                                            max_delta_step=None, max_depth=None,\n",
       "                                            max_leaves=None,\n",
       "                                            min_child_weight=None, missing=nan,\n",
       "                                            monotone_constraints=None,\n",
       "                                            n_estimators=100, n_jobs=None,\n",
       "                                            num_parallel_tree=None,\n",
       "                                            predictor=None, random_state=None,\n",
       "                                            reg_alpha=None, reg_lambda=None, ...))],\n",
       "                 voting='soft')"
      ]
     },
     "execution_count": 52,
     "metadata": {},
     "output_type": "execute_result"
    }
   ],
   "source": [
    "# Fit the voting ensemble on the training data\n",
    "voting_classifier.fit(X_train, y_train)"
   ]
  },
  {
   "cell_type": "code",
   "execution_count": 53,
   "id": "191d492d",
   "metadata": {},
   "outputs": [
    {
     "name": "stdout",
     "output_type": "stream",
     "text": [
      "Training Accuracy Voting Ensemble: 99.48\n",
      "Test Accuracy Voting Ensemble: 99.07\n",
      "Training Precision Voting Ensemble: 99.11\n",
      "Test Precision Voting Ensemble: 98.28\n",
      "Training Recall Voting Ensemble: 99.85\n",
      "Test Recall Voting Ensemble: 99.87\n"
     ]
    },
    {
     "data": {
      "image/png": "[encoded data removed]",
      "text/plain": [
       "<Figure size 432x432 with 2 Axes>"
      ]
     },
     "metadata": {
      "needs_background": "light"
     },
     "output_type": "display_data"
    }
   ],
   "source": [
    "# Evaluate the voting ensemble\n",
    "evaluate_classification(voting_classifier, \"Voting Ensemble\", X_train, X_test, y_train, y_test)"
   ]
  },
  {
   "cell_type": "code",
   "execution_count": null,
   "id": "5989c7ba",
   "metadata": {},
   "outputs": [],
   "source": []
  },
  {
   "cell_type": "markdown",
   "id": "8c94e40c",
   "metadata": {},
   "source": [
    "### XGB Classifier"
   ]
  },
  {
   "cell_type": "code",
   "execution_count": 54,
   "id": "22c48de1",
   "metadata": {},
   "outputs": [
    {
     "data": {
      "text/html": [
       "<style>#sk-container-id-3 {color: black;background-color: white;}#sk-container-id-3 pre{padding: 0;}#sk-container-id-3 div.sk-toggleable {background-color: white;}#sk-container-id-3 label.sk-toggleable__label {cursor: pointer;display: block;width: 100%;margin-bottom: 0;padding: 0.3em;box-sizing: border-box;text-align: center;}#sk-container-id-3 label.sk-toggleable__label-arrow:before {content: \"▸\";float: left;margin-right: 0.25em;color: #696969;}#sk-container-id-3 label.sk-toggleable__label-arrow:hover:before {color: black;}#sk-container-id-3 div.sk-estimator:hover label.sk-toggleable__label-arrow:before {color: black;}#sk-container-id-3 div.sk-toggleable__content {max-height: 0;max-width: 0;overflow: hidden;text-align: left;background-color: #f0f8ff;}#sk-container-id-3 div.sk-toggleable__content pre {margin: 0.2em;color: black;border-radius: 0.25em;background-color: #f0f8ff;}#sk-container-id-3 input.sk-toggleable__control:checked~div.sk-toggleable__content {max-height: 200px;max-width: 100%;overflow: auto;}#sk-container-id-3 input.sk-toggleable__control:checked~label.sk-toggleable__label-arrow:before {content: \"▾\";}#sk-container-id-3 div.sk-estimator input.sk-toggleable__control:checked~label.sk-toggleable__label {background-color: #d4ebff;}#sk-container-id-3 div.sk-label input.sk-toggleable__control:checked~label.sk-toggleable__label {background-color: #d4ebff;}#sk-container-id-3 input.sk-hidden--visually {border: 0;clip: rect(1px 1px 1px 1px);clip: rect(1px, 1px, 1px, 1px);height: 1px;margin: -1px;overflow: hidden;padding: 0;position: absolute;width: 1px;}#sk-container-id-3 div.sk-estimator {font-family: monospace;background-color: #f0f8ff;border: 1px dotted black;border-radius: 0.25em;box-sizing: border-box;margin-bottom: 0.5em;}#sk-container-id-3 div.sk-estimator:hover {background-color: #d4ebff;}#sk-container-id-3 div.sk-parallel-item::after {content: \"\";width: 100%;border-bottom: 1px solid gray;flex-grow: 1;}#sk-container-id-3 div.sk-label:hover label.sk-toggleable__label {background-color: #d4ebff;}#sk-container-id-3 div.sk-serial::before {content: \"\";position: absolute;border-left: 1px solid gray;box-sizing: border-box;top: 0;bottom: 0;left: 50%;z-index: 0;}#sk-container-id-3 div.sk-serial {display: flex;flex-direction: column;align-items: center;background-color: white;padding-right: 0.2em;padding-left: 0.2em;position: relative;}#sk-container-id-3 div.sk-item {position: relative;z-index: 1;}#sk-container-id-3 div.sk-parallel {display: flex;align-items: stretch;justify-content: center;background-color: white;position: relative;}#sk-container-id-3 div.sk-item::before, #sk-container-id-3 div.sk-parallel-item::before {content: \"\";position: absolute;border-left: 1px solid gray;box-sizing: border-box;top: 0;bottom: 0;left: 50%;z-index: -1;}#sk-container-id-3 div.sk-parallel-item {display: flex;flex-direction: column;z-index: 1;position: relative;background-color: white;}#sk-container-id-3 div.sk-parallel-item:first-child::after {align-self: flex-end;width: 50%;}#sk-container-id-3 div.sk-parallel-item:last-child::after {align-self: flex-start;width: 50%;}#sk-container-id-3 div.sk-parallel-item:only-child::after {width: 0;}#sk-container-id-3 div.sk-dashed-wrapped {border: 1px dashed gray;margin: 0 0.4em 0.5em 0.4em;box-sizing: border-box;padding-bottom: 0.4em;background-color: white;}#sk-container-id-3 div.sk-label label {font-family: monospace;font-weight: bold;display: inline-block;line-height: 1.2em;}#sk-container-id-3 div.sk-label-container {text-align: center;}#sk-container-id-3 div.sk-container {/* jupyter's `normalize.less` sets `[hidden] { display: none; }` but bootstrap.min.css set `[hidden] { display: none !important; }` so we also need the `!important` here to be able to override the default hidden behavior on the sphinx rendered scikit-learn.org. See: https://github.com/scikit-learn/scikit-learn/issues/21755 */display: inline-block !important;position: relative;}#sk-container-id-3 div.sk-text-repr-fallback {display: none;}</style><div id=\"sk-container-id-3\" class=\"sk-top-container\"><div class=\"sk-text-repr-fallback\"><pre>XGBClassifier(base_score=0.5, booster=&#x27;gbtree&#x27;, callbacks=None,\n",
       "              colsample_bylevel=1, colsample_bynode=1, colsample_bytree=1,\n",
       "              early_stopping_rounds=None, enable_categorical=False,\n",
       "              eval_metric=None, gamma=0, gpu_id=-1, grow_policy=&#x27;depthwise&#x27;,\n",
       "              importance_type=None, interaction_constraints=&#x27;&#x27;,\n",
       "              learning_rate=0.300000012, max_bin=256, max_cat_to_onehot=4,\n",
       "              max_delta_step=0, max_depth=6, max_leaves=0, min_child_weight=1,\n",
       "              missing=nan, monotone_constraints=&#x27;()&#x27;, n_estimators=100,\n",
       "              n_jobs=0, num_parallel_tree=1, predictor=&#x27;auto&#x27;, random_state=0,\n",
       "              reg_alpha=0, reg_lambda=1, ...)</pre><b>In a Jupyter environment, please rerun this cell to show the HTML representation or trust the notebook. <br />On GitHub, the HTML representation is unable to render, please try loading this page with nbviewer.org.</b></div><div class=\"sk-container\" hidden><div class=\"sk-item\"><div class=\"sk-estimator sk-toggleable\"><input class=\"sk-toggleable__control sk-hidden--visually\" id=\"sk-estimator-id-11\" type=\"checkbox\" checked><label for=\"sk-estimator-id-11\" class=\"sk-toggleable__label sk-toggleable__label-arrow\">XGBClassifier</label><div class=\"sk-toggleable__content\"><pre>XGBClassifier(base_score=0.5, booster=&#x27;gbtree&#x27;, callbacks=None,\n",
       "              colsample_bylevel=1, colsample_bynode=1, colsample_bytree=1,\n",
       "              early_stopping_rounds=None, enable_categorical=False,\n",
       "              eval_metric=None, gamma=0, gpu_id=-1, grow_policy=&#x27;depthwise&#x27;,\n",
       "              importance_type=None, interaction_constraints=&#x27;&#x27;,\n",
       "              learning_rate=0.300000012, max_bin=256, max_cat_to_onehot=4,\n",
       "              max_delta_step=0, max_depth=6, max_leaves=0, min_child_weight=1,\n",
       "              missing=nan, monotone_constraints=&#x27;()&#x27;, n_estimators=100,\n",
       "              n_jobs=0, num_parallel_tree=1, predictor=&#x27;auto&#x27;, random_state=0,\n",
       "              reg_alpha=0, reg_lambda=1, ...)</pre></div></div></div></div></div>"
      ],
      "text/plain": [
       "XGBClassifier(base_score=0.5, booster='gbtree', callbacks=None,\n",
       "              colsample_bylevel=1, colsample_bynode=1, colsample_bytree=1,\n",
       "              early_stopping_rounds=None, enable_categorical=False,\n",
       "              eval_metric=None, gamma=0, gpu_id=-1, grow_policy='depthwise',\n",
       "              importance_type=None, interaction_constraints='',\n",
       "              learning_rate=0.300000012, max_bin=256, max_cat_to_onehot=4,\n",
       "              max_delta_step=0, max_depth=6, max_leaves=0, min_child_weight=1,\n",
       "              missing=nan, monotone_constraints='()', n_estimators=100,\n",
       "              n_jobs=0, num_parallel_tree=1, predictor='auto', random_state=0,\n",
       "              reg_alpha=0, reg_lambda=1, ...)"
      ]
     },
     "execution_count": 54,
     "metadata": {},
     "output_type": "execute_result"
    }
   ],
   "source": [
    "base_classifier_xgb.fit(X_train, y_train)"
   ]
  },
  {
   "cell_type": "code",
   "execution_count": 55,
   "id": "5b6414ff",
   "metadata": {},
   "outputs": [
    {
     "name": "stdout",
     "output_type": "stream",
     "text": [
      "Training Accuracy XGBoost: 100.00\n",
      "Test Accuracy XGBoost: 99.93\n",
      "Training Precision XGBoost: 100.00\n",
      "Test Precision XGBoost: 100.00\n",
      "Training Recall XGBoost: 100.00\n",
      "Test Recall XGBoost: 99.87\n"
     ]
    },
    {
     "data": {
      "image/png": "[encoded data removed]",
      "text/plain": [
       "<Figure size 432x432 with 2 Axes>"
      ]
     },
     "metadata": {
      "needs_background": "light"
     },
     "output_type": "display_data"
    }
   ],
   "source": [
    "evaluate_classification(base_classifier_xgb, \"XGBoost\", X_train, X_test, y_train, y_test)"
   ]
  },
  {
   "cell_type": "markdown",
   "id": "aebb8220",
   "metadata": {},
   "source": [
    "## Neural Networks"
   ]
  },
  {
   "cell_type": "code",
   "execution_count": 56,
   "id": "29dc7d6c",
   "metadata": {},
   "outputs": [],
   "source": [
    "model = tf.keras.Sequential([\n",
    "    tf.keras.layers.Dense(units=64, activation='relu', input_shape=(X_train.shape[1:]), \n",
    "                          kernel_regularizer=regularizers.L1L2(l1=1e-5, l2=1e-4), \n",
    "                          bias_regularizer=regularizers.L2(1e-4),\n",
    "                          activity_regularizer=regularizers.L2(1e-5)),\n",
    "    tf.keras.layers.Dropout(0.4),\n",
    "    tf.keras.layers.Dense(units=128, activation='relu', \n",
    "                          kernel_regularizer=regularizers.L1L2(l1=1e-5, l2=1e-4), \n",
    "                          bias_regularizer=regularizers.L2(1e-4),\n",
    "                          activity_regularizer=regularizers.L2(1e-5)),\n",
    "    tf.keras.layers.Dropout(0.4),\n",
    "    tf.keras.layers.Dense(units=512, activation='relu', \n",
    "                          kernel_regularizer=regularizers.L1L2(l1=1e-5, l2=1e-4), \n",
    "                          bias_regularizer=regularizers.L2(1e-4),\n",
    "                          activity_regularizer=regularizers.L2(1e-5)),\n",
    "    tf.keras.layers.Dropout(0.4),\n",
    "    tf.keras.layers.Dense(units=128, activation='relu', \n",
    "                          kernel_regularizer=regularizers.L1L2(l1=1e-5, l2=1e-4), \n",
    "                          bias_regularizer=regularizers.L2(1e-4),\n",
    "                          activity_regularizer=regularizers.L2(1e-5)),\n",
    "    tf.keras.layers.Dropout(0.4),\n",
    "    tf.keras.layers.Dense(units=1, activation='sigmoid'),\n",
    "])"
   ]
  },
  {
   "cell_type": "code",
   "execution_count": 57,
   "id": "a5142e49",
   "metadata": {},
   "outputs": [],
   "source": [
    "model.compile(optimizer='adam', loss=tf.keras.losses.BinaryCrossentropy(from_logits=True), metrics=['accuracy'])"
   ]
  },
  {
   "cell_type": "code",
   "execution_count": 58,
   "id": "6845f779",
   "metadata": {},
   "outputs": [
    {
     "name": "stdout",
     "output_type": "stream",
     "text": [
      "Model: \"sequential\"\n",
      "_________________________________________________________________\n",
      " Layer (type)                Output Shape              Param #   \n",
      "=================================================================\n",
      " dense (Dense)               (None, 64)                4992      \n",
      "                                                                 \n",
      " dropout (Dropout)           (None, 64)                0         \n",
      "                                                                 \n",
      " dense_1 (Dense)             (None, 128)               8320      \n",
      "                                                                 \n",
      " dropout_1 (Dropout)         (None, 128)               0         \n",
      "                                                                 \n",
      " dense_2 (Dense)             (None, 512)               66048     \n",
      "                                                                 \n",
      " dropout_2 (Dropout)         (None, 512)               0         \n",
      "                                                                 \n",
      " dense_3 (Dense)             (None, 128)               65664     \n",
      "                                                                 \n",
      " dropout_3 (Dropout)         (None, 128)               0         \n",
      "                                                                 \n",
      " dense_4 (Dense)             (None, 1)                 129       \n",
      "                                                                 \n",
      "=================================================================\n",
      "Total params: 145,153\n",
      "Trainable params: 145,153\n",
      "Non-trainable params: 0\n",
      "_________________________________________________________________\n"
     ]
    }
   ],
   "source": [
    "model.summary()"
   ]
  },
  {
   "cell_type": "code",
   "execution_count": 59,
   "id": "9046eab6",
   "metadata": {},
   "outputs": [
    {
     "name": "stdout",
     "output_type": "stream",
     "text": [
      "You must install pydot (`pip install pydot`) and install graphviz (see instructions at https://graphviz.gitlab.io/download/) for plot_model to work.\n"
     ]
    }
   ],
   "source": [
    "from keras.utils.vis_utils import plot_model\n",
    "plot_model(model, to_file='model_plot.png', show_shapes=True, show_layer_names=True)"
   ]
  },
  {
   "cell_type": "code",
   "execution_count": 60,
   "id": "8a305dd2",
   "metadata": {},
   "outputs": [
    {
     "name": "stdout",
     "output_type": "stream",
     "text": [
      "Epoch 1/10\n",
      "1094/1094 [==============================] - 9s 5ms/step - loss: 0.2232 - accuracy: 0.9658 - val_loss: 0.1185 - val_accuracy: 0.9953\n",
      "Epoch 2/10\n",
      "1094/1094 [==============================] - 5s 5ms/step - loss: 0.1030 - accuracy: 0.9939 - val_loss: 0.0828 - val_accuracy: 0.9980\n",
      "Epoch 3/10\n",
      "1094/1094 [==============================] - 5s 5ms/step - loss: 0.0736 - accuracy: 0.9949 - val_loss: 0.0672 - val_accuracy: 0.9953\n",
      "Epoch 4/10\n",
      "1094/1094 [==============================] - 6s 6ms/step - loss: 0.0605 - accuracy: 0.9957 - val_loss: 0.0535 - val_accuracy: 0.9960\n",
      "Epoch 5/10\n",
      "1094/1094 [==============================] - 6s 5ms/step - loss: 0.0486 - accuracy: 0.9964 - val_loss: 0.0537 - val_accuracy: 0.9940\n",
      "Epoch 6/10\n",
      "1094/1094 [==============================] - 6s 5ms/step - loss: 0.0447 - accuracy: 0.9961 - val_loss: 0.0425 - val_accuracy: 0.9973\n",
      "Epoch 7/10\n",
      "1094/1094 [==============================] - 6s 5ms/step - loss: 0.0380 - accuracy: 0.9967 - val_loss: 0.0433 - val_accuracy: 0.9980\n",
      "Epoch 8/10\n",
      "1094/1094 [==============================] - 5s 5ms/step - loss: 0.0367 - accuracy: 0.9965 - val_loss: 0.0401 - val_accuracy: 0.9973\n",
      "Epoch 9/10\n",
      "1094/1094 [==============================] - 5s 5ms/step - loss: 0.0360 - accuracy: 0.9970 - val_loss: 0.0404 - val_accuracy: 0.9967\n",
      "Epoch 10/10\n",
      "1094/1094 [==============================] - 5s 5ms/step - loss: 0.0340 - accuracy: 0.9970 - val_loss: 0.0381 - val_accuracy: 0.9973\n"
     ]
    }
   ],
   "source": [
    "history = model.fit(X_train, y_train, validation_data=(X_test, y_test), epochs=10, verbose=1)"
   ]
  },
  {
   "cell_type": "code",
   "execution_count": 61,
   "id": "5fa7ff81",
   "metadata": {},
   "outputs": [
    {
     "data": {
      "image/png": "[encoded data removed]",
      "text/plain": [
       "<Figure size 432x288 with 1 Axes>"
      ]
     },
     "metadata": {
      "needs_background": "light"
     },
     "output_type": "display_data"
    }
   ],
   "source": [
    "plt.plot(history.history['loss'], label='loss')\n",
    "plt.plot(history.history['val_loss'], label='val_loss')\n",
    "plt.xlabel('Epoch')\n",
    "plt.ylabel('SCCE Loss')\n",
    "plt.legend()\n",
    "plt.grid(True)"
   ]
  },
  {
   "cell_type": "code",
   "execution_count": 62,
   "id": "5526d7c2",
   "metadata": {},
   "outputs": [
    {
     "data": {
      "image/png": "[encoded data removed]",
      "text/plain": [
       "<Figure size 432x288 with 1 Axes>"
      ]
     },
     "metadata": {
      "needs_background": "light"
     },
     "output_type": "display_data"
    }
   ],
   "source": [
    "plt.plot(history.history['accuracy'], label='accuracy')\n",
    "plt.plot(history.history['val_accuracy'], label='val_accuracy')\n",
    "plt.xlabel('Epoch')\n",
    "plt.ylabel('Accuracy')\n",
    "plt.legend()\n",
    "plt.grid(True)"
   ]
  },
  {
   "cell_type": "code",
   "execution_count": 63,
   "id": "984e7deb",
   "metadata": {},
   "outputs": [
    {
     "data": {
      "image/png": "[encoded data removed]",
      "text/plain": [
       "<Figure size 1440x432 with 1 Axes>"
      ]
     },
     "metadata": {
      "needs_background": "light"
     },
     "output_type": "display_data"
    }
   ],
   "source": [
    "keys = list(classification_evals.keys())\n",
    "values = list(classification_evals.values())\n",
    "fig, ax = plt.subplots(figsize=(20, 6))\n",
    "ax.bar(np.arange(len(keys)) - 0.2, [value['Train Accuracy'] for value in values], color='darkred', width=0.25, align='center')\n",
    "ax.bar(np.arange(len(keys)) + 0.2, [value['Test Accuracy'] for value in values], color='y', width=0.25, align='center')\n",
    "ax.legend([\"Training Accuracy\", \"Test Accuracy\"])\n",
    "ax.set_xticklabels(keys)\n",
    "ax.set_xticks(np.arange(len(keys)))\n",
    "plt.ylabel(\"Accuracy\")\n",
    "plt.show()"
   ]
  },
  {
   "cell_type": "code",
   "execution_count": 64,
   "id": "6b6703a8",
   "metadata": {},
   "outputs": [
    {
     "data": {
      "image/png": "[encoded data removed]",
      "text/plain": [
       "<Figure size 1440x432 with 1 Axes>"
      ]
     },
     "metadata": {
      "needs_background": "light"
     },
     "output_type": "display_data"
    }
   ],
   "source": [
    "keys = list(classification_evals.keys())\n",
    "values = list(classification_evals.values())\n",
    "fig, ax = plt.subplots(figsize=(20, 6))\n",
    "ax.bar(np.arange(len(keys)) - 0.2, [value['Train Precision'] for value in values], color='g', width=0.25, align='center')\n",
    "ax.bar(np.arange(len(keys)) + 0.2, [value['Test Precision'] for value in values], color='y', width=0.25, align='center')\n",
    "ax.legend([\"Training Precision\", \"Test Precision\"])\n",
    "ax.set_xticklabels(keys)\n",
    "ax.set_xticks(np.arange(len(keys)))\n",
    "plt.ylabel(\"Precision\")\n",
    "plt.show()"
   ]
  },
  {
   "cell_type": "code",
   "execution_count": 65,
   "id": "5e28a10a",
   "metadata": {},
   "outputs": [
    {
     "data": {
      "image/png": "[encoded data removed]",
      "text/plain": [
       "<Figure size 1440x432 with 1 Axes>"
      ]
     },
     "metadata": {
      "needs_background": "light"
     },
     "output_type": "display_data"
    }
   ],
   "source": [
    "keys = list(classification_evals.keys())\n",
    "values = list(classification_evals.values())\n",
    "fig, ax = plt.subplots(figsize=(20, 6))\n",
    "ax.bar(np.arange(len(keys)) - 0.2, [value['Train Recall'] for value in values], color='g', width=0.25, align='center')\n",
    "ax.bar(np.arange(len(keys)) + 0.2, [value['Test Recall'] for value in values], color='y', width=0.25, align='center')\n",
    "ax.legend([\"Training Recall\", \"Test Recall\"])\n",
    "ax.set_xticklabels(keys)\n",
    "ax.set_xticks(np.arange(len(keys)))\n",
    "plt.ylabel(\"Recall\")\n",
    "plt.show()"
   ]
  },
  {
   "cell_type": "code",
   "execution_count": null,
   "id": "a9c7fe06",
   "metadata": {},
   "outputs": [],
   "source": []
  }
 ],
 "metadata": {
  "kernelspec": {
   "display_name": "Python 3 (ipykernel)",
   "language": "python",
   "name": "python3"
  },
  "language_info": {
   "codemirror_mode": {
    "name": "ipython",
    "version": 3
   },
   "file_extension": ".py",
   "mimetype": "text/x-python",
   "name": "python",
   "nbconvert_exporter": "python",
   "pygments_lexer": "ipython3",
   "version": "3.11.4"
  },
  "papermill": {
   "default_parameters": {},
   "duration": 25.661022,
   "end_time": "2022-12-09T13:10:19.479435",
   "environment_variables": {},
   "exception": null,
   "input_path": "__notebook__.ipynb",
   "output_path": "__notebook__.ipynb",
   "parameters": {},
   "start_time": "2022-12-09T13:09:53.818413",
   "version": "2.3.4"
  }
 },
 "nbformat": 4,
 "nbformat_minor": 5
}
